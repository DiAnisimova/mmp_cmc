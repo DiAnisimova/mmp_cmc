{
  "nbformat": 4,
  "nbformat_minor": 0,
  "metadata": {
    "colab": {
      "name": "Прак.ipynb",
      "provenance": []
    },
    "kernelspec": {
      "display_name": "Python 3",
      "name": "python3"
    },
    "language_info": {
      "name": "python"
    }
  },
  "cells": [
    {
      "cell_type": "code",
      "metadata": {
        "id": "NQzScBglFt60"
      },
      "source": [
        "import numpy as np\n",
        "\n",
        "\n",
        "def euclidean_distance(X, Y):\n",
        "    norm_x = (X ** 2).sum(axis=1)[:, np.newaxis]\n",
        "    norm_y = (Y ** 2).sum(axis=1)\n",
        "    minus = 2 * X @ Y.T\n",
        "    return np.sqrt(norm_x + norm_y - minus)\n",
        "\n",
        "\n",
        "def cosine_distance(X, Y):\n",
        "    P = X @ Y.T\n",
        "    P_norm = np.sqrt((X ** 2).sum(axis=1))[:, np.newaxis] @ np.sqrt((Y ** 2).sum(axis=1))[np.newaxis, :]\n",
        "    return 1 - P / P_norm"
      ],
      "execution_count": null,
      "outputs": []
    },
    {
      "cell_type": "code",
      "metadata": {
        "id": "9XXnHE7fGC5j"
      },
      "source": [
        "\n",
        "import sklearn.neighbors\n",
        "\n",
        "class KNNClassifier:\n",
        "    def __init__(self, k=5, strategy=\"brute\", metric=\"euclidean\", weights=False, test_block_size=None):\n",
        "        self.k = k\n",
        "        self.strategy = strategy\n",
        "        self.str_metric = metric\n",
        "        if metric == \"euclidean\":\n",
        "            self.metric = euclidean_distance\n",
        "        elif metric == \"cosine\":\n",
        "            self.metric = cosine_distance\n",
        "        self.weights = weights\n",
        "        self.test_block_size = test_block_size\n",
        "        self.model = None\n",
        "        self.classes = None\n",
        "        self.find_in_blocks = self.find_in_blocks\n",
        "        self.y = None\n",
        "        self.X = None\n",
        "\n",
        "    def fit(self, X, y):\n",
        "        self.X = np.array(X)\n",
        "        self.y = np.array(y).astype(np.int)\n",
        "        self.classes = np.max(self.y) + 1\n",
        "        if self.strategy != \"my_own\":\n",
        "            self.model = sklearn.neighbors.NearestNeighbors(\n",
        "                n_neighbors=self.k,\n",
        "                algorithm=self.strategy,\n",
        "                metric=self.str_metric\n",
        "            )\n",
        "            self.model.fit(X)\n",
        "\n",
        "    def find_kneighbors(self, X, return_distance=False):\n",
        "        data = np.array(X)\n",
        "        if return_distance:\n",
        "            dist_matr = np.zeros((data.shape[0], self.k))\n",
        "        else:\n",
        "            dist_matr = None\n",
        "        neighbors = np.zeros((data.shape[0], self.k))\n",
        "        if self.test_block_size is None:\n",
        "            block_size = data.shape[0]\n",
        "        else:\n",
        "            block_size = min(self.test_block_size, data.shape[0])\n",
        "        N = data.shape[0] // block_size\n",
        "        r = data.shape[0] % block_size\n",
        "        if r != 0:\n",
        "            N += 1\n",
        "        left = 0\n",
        "        if N == 1 and r != 0:\n",
        "            right = r\n",
        "        else:\n",
        "            right = block_size\n",
        "        for n in range(N):\n",
        "            if return_distance:\n",
        "                if self.strategy != \"my_own\":\n",
        "                    dist_matr[left:right], neighbors[left:right] = \\\n",
        "                        self.model.kneighbors(data[left:right], self.k, return_distance)\n",
        "                else:\n",
        "                    dist_matr[left:right], neighbors[left:right] = \\\n",
        "                        self.find_in_blocks(data[left:right], return_distance)\n",
        "            else:\n",
        "                if self.strategy != \"my_own\":\n",
        "                    neighbors[left:right] = self.model.kneighbors(data[left:right], self.k, return_distance)\n",
        "                else:\n",
        "                    neighbors[left:right] = self.find_in_blocks(data[left:right], return_distance)\n",
        "            left += block_size\n",
        "            if n == N - 2 and r != 0:\n",
        "                right += r\n",
        "            else:\n",
        "                right += block_size\n",
        "        if return_distance:\n",
        "            return (dist_matr, neighbors)\n",
        "        else:\n",
        "            return neighbors\n",
        "\n",
        "    def find_in_blocks(self, X, return_distance=False):\n",
        "        distance = self.metric(X, self.X)\n",
        "        neighbors = np.argsort(distance, axis=1)[:, 0:self.k]\n",
        "        if return_distance:\n",
        "            return (np.sort(distance, axis=1)[:, 0:self.k], neighbors)\n",
        "        return neighbors\n",
        "\n",
        "    def predict(self, X):\n",
        "        votes = np.zeros((X.shape[0], self.classes))\n",
        "        if self.weights:\n",
        "            dist_matr, neighbors = self.find_kneighbors(X, True)\n",
        "            eps = 0.00001\n",
        "            for i in range(neighbors.shape[0]):\n",
        "                for j in range(neighbors[i].shape[0]):\n",
        "                    cl = int(neighbors[i][j])\n",
        "                    ind = int(self.y[cl])\n",
        "                    votes[i][ind] += 1 / (dist_matr[i][j] + eps)\n",
        "            y_predict = np.argmax(votes, axis=1)\n",
        "            return y_predict\n",
        "        else:\n",
        "            neighbors = self.find_kneighbors(X, False)\n",
        "            dist_matr = None\n",
        "            for i in range(neighbors.shape[0]):\n",
        "                for j in range(neighbors[i].shape[0]):\n",
        "                    cl = int(neighbors[i][j])\n",
        "                    ind = int(self.y[cl])\n",
        "                    votes[i][ind] += 1\n",
        "            y_predict = np.argmax(votes, axis=1)\n",
        "            return y_predict"
      ],
      "execution_count": null,
      "outputs": []
    },
    {
      "cell_type": "code",
      "metadata": {
        "id": "YMc7Lgv4GT2M"
      },
      "source": [
        "from copy import copy\n",
        "\n",
        "\n",
        "def kfold(n, n_folds):\n",
        "    lst = list(range(n))\n",
        "    res = []\n",
        "    size = n // n_folds\n",
        "    r = n % n_folds\n",
        "    left = 0\n",
        "    right = None\n",
        "    for i in range(n_folds):\n",
        "        if i < r:\n",
        "            cur_size = size + 1\n",
        "        else:\n",
        "            cur_size = size\n",
        "        right = left + cur_size\n",
        "        y_test = np.array(lst[left:right]).astype(int)\n",
        "        if left == 0:\n",
        "            y_train = np.array(lst[right:]).astype(int)\n",
        "        elif right == 0:\n",
        "            y_train = np.array(lst[:left]).astype(int)\n",
        "        else:\n",
        "            y_train = np.hstack((np.array(lst[:left]), np.array(lst[right:]))).astype(int)\n",
        "        res.append((y_train, y_test))\n",
        "        left += cur_size\n",
        "    return res\n",
        "\n",
        "\n",
        "def new_predict(model, neighbors, dist_matr=None):\n",
        "    votes = np.zeros((neighbors.shape[0], np.max(model.y) + 1))\n",
        "    if model.weights:\n",
        "        eps = 0.00001\n",
        "        for i in range(neighbors.shape[0]):\n",
        "            for j in range(neighbors[i].shape[0]):\n",
        "                cl = int(neighbors[i][j])\n",
        "                ind = int(model.y[cl])\n",
        "                votes[i][ind] += 1 / (dist_matr[i][j] + eps)\n",
        "        y_predict = np.argmax(votes, axis=1)\n",
        "        return y_predict\n",
        "    else:\n",
        "        for i in range(neighbors.shape[0]):\n",
        "            for j in range(neighbors[i].shape[0]):\n",
        "                cl = int(neighbors[i][j])\n",
        "                ind = int(model.y[cl])\n",
        "                votes[i][ind] += 1\n",
        "        y_predict = np.argmax(votes, axis=1)\n",
        "        return y_predict\n",
        "\n",
        "\n",
        "def accuracy(y_true, y_pred):\n",
        "    length = len(y_true)\n",
        "    true_classes = 0\n",
        "    for i in range(len(y_true)):\n",
        "        if y_true[i] == y_pred[i]:\n",
        "            true_classes += 1\n",
        "    return true_classes / length\n",
        "\n",
        "\n",
        "def knn_cross_val_score(X, y, k_list, score, cv=None, **kwargs):\n",
        "    res = dict()\n",
        "    if cv is None:\n",
        "        folds = kfold(X.shape[0], 3)\n",
        "    else:\n",
        "        folds = cv\n",
        "    model = KNNClassifier(k=k_list[-1], **kwargs)\n",
        "    for s in folds:\n",
        "        model.fit(X[s[0]], y[s[0]])\n",
        "        dist = None\n",
        "        if not model.weights:\n",
        "            neighbors = model.find_kneighbors(X[s[1]], return_distance=False)\n",
        "        else:\n",
        "            (dist, neighbors) = model.find_kneighbors(X[s[1]], return_distance=True)\n",
        "        for k in k_list[::-1]:\n",
        "            if dist is not None:\n",
        "                dist = dist[:, :k]\n",
        "            neighbors = neighbors[:, :k]\n",
        "            pred = new_predict(model, neighbors, dist)\n",
        "            acc = accuracy(y[s[1]], pred)\n",
        "            if k in res:\n",
        "                res[k] = np.append(res[k], acc)\n",
        "            else:\n",
        "                res[k] = np.array([acc])\n",
        "    return res\n"
      ],
      "execution_count": null,
      "outputs": []
    },
    {
      "cell_type": "code",
      "metadata": {
        "id": "yhkfomjNGgYh"
      },
      "source": [
        "import sklearn.datasets\n",
        "mnist = sklearn.datasets.fetch_openml(\"mnist_784\")"
      ],
      "execution_count": null,
      "outputs": []
    },
    {
      "cell_type": "code",
      "metadata": {
        "id": "bSDYRh6RMClK"
      },
      "source": [
        "X_train = mnist.data[:60000]\n",
        "X_test = mnist.data[-10000:]\n",
        "y_train = mnist.target[:60000].astype(int)\n",
        "y_test = mnist.target[-10000:].astype(int)"
      ],
      "execution_count": null,
      "outputs": []
    },
    {
      "cell_type": "markdown",
      "metadata": {
        "id": "Zv5QxvJBszIR"
      },
      "source": [
        "Эксперимент №1"
      ]
    },
    {
      "cell_type": "code",
      "metadata": {
        "colab": {
          "base_uri": "https://localhost:8080/"
        },
        "id": "djbXosTnWJV3",
        "outputId": "841ba283-5db0-4b85-a3cc-c81681400f11"
      },
      "source": [
        "import random\n",
        "import time\n",
        "for num in [10, 20, 100]:\n",
        "    for strat in ['my_own', 'brute', 'kd_tree', 'ball_tree']:\n",
        "        feat = np.random.randint(0, X_train.shape[1], num)\n",
        "        model = KNNClassifier(k=5, strategy=strat, metric='euclidean', test_block_size=100)\n",
        "        model.fit(X_train[:, feat], y_train)\n",
        "        time1 = time.time()\n",
        "        model.find_kneighbors(X_test[:, feat])\n",
        "        time2 = time.time()\n",
        "        print(\"n_features=\", num, \"strategy=\", strat, \"time=\", time2-time1)\n"
      ],
      "execution_count": null,
      "outputs": [
        {
          "output_type": "stream",
          "name": "stdout",
          "text": [
            "n_features= 10 strategy= my_own time= 75.15677118301392\n",
            "n_features= 10 strategy= brute time= 14.639397621154785\n",
            "n_features= 10 strategy= kd_tree time= 3.5054705142974854\n",
            "n_features= 10 strategy= ball_tree time= 5.61193323135376\n",
            "n_features= 20 strategy= my_own time= 76.1380066871643\n",
            "n_features= 20 strategy= brute time= 14.766705513000488\n",
            "n_features= 20 strategy= kd_tree time= 2.5451345443725586\n",
            "n_features= 20 strategy= ball_tree time= 34.152029275894165\n",
            "n_features= 100 strategy= my_own time= 80.0521297454834\n",
            "n_features= 100 strategy= brute time= 19.6522696018219\n",
            "n_features= 100 strategy= kd_tree time= 171.17884707450867\n",
            "n_features= 100 strategy= ball_tree time= 168.02225399017334\n"
          ]
        }
      ]
    },
    {
      "cell_type": "markdown",
      "metadata": {
        "id": "EULbhbTiZit8"
      },
      "source": [
        "Эксперимент №2"
      ]
    },
    {
      "cell_type": "code",
      "metadata": {
        "id": "-QfcMJ4JdpiQ"
      },
      "source": [
        "import random\n",
        "import time\n",
        "time1 = time.time()\n",
        "accur_k_eucl = knn_cross_val_score(X_train, y_train, list(range(1,11)), score='accuracy', strategy='brute', metric='euclidean', test_block_size=100)\n",
        "time2= time.time()\n",
        "time_eucl = time2 - time1\n",
        "time1 = time.time()\n",
        "accur_k_cos = knn_cross_val_score(X_train, y_train, list(range(1,11)), score='accuracy', strategy='brute', metric='cosine', test_block_size=100)\n",
        "time2=time.time()\n",
        "time_cos = time2 - time1"
      ],
      "execution_count": null,
      "outputs": []
    },
    {
      "cell_type": "code",
      "metadata": {
        "id": "E60ysJK-2yOO"
      },
      "source": [
        "k_neigh = np.arange(1,11)"
      ],
      "execution_count": null,
      "outputs": []
    },
    {
      "cell_type": "code",
      "metadata": {
        "id": "maz8IQ3zFH0j"
      },
      "source": [
        "acc_k_neigh_eucl = np.zeros(10)\n",
        "acc_k_neigh_cos = np.zeros(10)\n",
        "for i in range(1,11):\n",
        "    acc_k_neigh_eucl[i-1] = (accur_k_eucl[i][0] + accur_k_eucl[i][1] + accur_k_eucl[i][2]) / 3\n",
        "    acc_k_neigh_cos[i-1] = (accur_k_cos[i][0] + accur_k_cos[i][1] + accur_k_cos[i][2]) / 3"
      ],
      "execution_count": null,
      "outputs": []
    },
    {
      "cell_type": "code",
      "metadata": {
        "colab": {
          "base_uri": "https://localhost:8080/"
        },
        "id": "Pzgy8Pcf3n7R",
        "outputId": "aa07964f-94d1-4f9f-9434-16b7f354e1f1"
      },
      "source": [
        "time_eucl, time_cos"
      ],
      "execution_count": null,
      "outputs": [
        {
          "output_type": "execute_result",
          "data": {
            "text/plain": [
              "(218.55022811889648, 278.59587836265564)"
            ]
          },
          "metadata": {},
          "execution_count": 27
        }
      ]
    },
    {
      "cell_type": "code",
      "metadata": {
        "id": "igvf4XHiNPue"
      },
      "source": [
        "%matplotlib inline\n",
        "import matplotlib.pyplot as plt\n",
        "from IPython.display import set_matplotlib_formats\n",
        "set_matplotlib_formats('pdf', 'svg')\n",
        "import matplotlib.ticker as ticker"
      ],
      "execution_count": null,
      "outputs": []
    },
    {
      "cell_type": "code",
      "metadata": {
        "id": "cnsY3gSI5ym-"
      },
      "source": [
        "plt.figure(figsize=(9,7))\n",
        "\n",
        "plt.title('Зависимость точности работы алгоритма без весов от числа соседей')\n",
        "\n",
        "width = 0.35\n",
        "\n",
        "plt.bar(k_neigh - width / 2, acc_k_neigh_eucl, width, label='euclidean')\n",
        "plt.bar(k_neigh + width / 2, acc_k_neigh_cos, width, label='cosine')\n",
        "\n",
        "plt.xticks(k_neigh, k_neigh)\n",
        "\n",
        "plt.ylim([0.96,0.975])\n",
        "\n",
        "plt.xlabel('Число соседей')\n",
        "plt.ylabel('Точность')\n",
        "\n",
        "plt.legend(fontsize=10)\n",
        "plt.savefig('graph1.svg')\n",
        "plt.savefig('graph1.pdf')\n",
        "plt.show()\n",
        "\n"
      ],
      "execution_count": null,
      "outputs": []
    },
    {
      "cell_type": "markdown",
      "metadata": {
        "id": "o4eCylHqZ-Iv"
      },
      "source": [
        "Эксперимент №3"
      ]
    },
    {
      "cell_type": "code",
      "metadata": {
        "id": "L9KsuPFbOb9K"
      },
      "source": [
        "time1 = time.time()\n",
        "waccur_k_eucl = knn_cross_val_score(X_train, y_train, list(range(1,11)), score='accuracy', strategy='brute', metric='euclidean', weights=True, test_block_size=100)\n",
        "time2= time.time()\n",
        "wtime_eucl = time2 - time1\n",
        "time1 = time.time()\n",
        "waccur_k_cos = knn_cross_val_score(X_train, y_train, list(range(1,11)), score='accuracy', strategy='brute', metric='cosine', weights=True, test_block_size=100)\n",
        "time2=time.time()\n",
        "wtime_cos = time2 - time1"
      ],
      "execution_count": null,
      "outputs": []
    },
    {
      "cell_type": "code",
      "metadata": {
        "id": "e8hoqOPfaq5M"
      },
      "source": [
        "wacc_k_neigh_eucl = np.zeros(10)\n",
        "wacc_k_neigh_cos = np.zeros(10)\n",
        "for i in range(1,11):\n",
        "    wacc_k_neigh_eucl[i-1] = (waccur_k_eucl[i][0] + waccur_k_eucl[i][1] + waccur_k_eucl[i][2]) / 3\n",
        "    wacc_k_neigh_cos[i-1] = (waccur_k_cos[i][0] + waccur_k_cos[i][1] + waccur_k_cos[i][2]) / 3"
      ],
      "execution_count": null,
      "outputs": []
    },
    {
      "cell_type": "code",
      "metadata": {
        "colab": {
          "base_uri": "https://localhost:8080/"
        },
        "id": "5KpN7JhLc9uL",
        "outputId": "293f6ce5-44fd-473e-9756-362e74f56a34"
      },
      "source": [
        "wtime_eucl, wtime_cos"
      ],
      "execution_count": null,
      "outputs": [
        {
          "output_type": "execute_result",
          "data": {
            "text/plain": [
              "(251.40140509605408, 320.29711723327637)"
            ]
          },
          "metadata": {},
          "execution_count": 25
        }
      ]
    },
    {
      "cell_type": "code",
      "metadata": {
        "id": "UZgMpP954Y6D",
        "colab": {
          "base_uri": "https://localhost:8080/",
          "height": 626
        },
        "outputId": "59fc0c37-76c5-45f6-ce24-94c2eda8f786"
      },
      "source": [
        "plt.figure(figsize=(9,7))\n",
        "\n",
        "plt.title('Зависимость точности работы алгоритма с весами от числа соседей')\n",
        "\n",
        "width = 0.35\n",
        "\n",
        "plt.bar(k_neigh - width / 2, wacc_k_neigh_eucl, width, label='euclidean')\n",
        "plt.bar(k_neigh + width / 2, wacc_k_neigh_cos, width, label='cosine')\n",
        "\n",
        "plt.xticks(k_neigh, k_neigh)\n",
        "\n",
        "plt.ylim([0.96,0.975])\n",
        "\n",
        "plt.xlabel('Число соседей')\n",
        "plt.ylabel('Точность')\n",
        "\n",
        "plt.legend(fontsize=10)\n",
        "plt.savefig('graph2.svg')\n",
        "plt.savefig('graph2.pdf')\n",
        "plt.show()\n",
        "\n"
      ],
      "execution_count": null,
      "outputs": [
        {
          "output_type": "display_data",
          "data": {
            "application/pdf": "[encoded data removed]",
            "text/plain": [
              "<Figure size 648x504 with 1 Axes>"
            ],
            "image/svg+xml": "<?xml version=\"1.0\" encoding=\"utf-8\" standalone=\"no\"?>\n<!DOCTYPE svg PUBLIC \"-//W3C//DTD SVG 1.1//EN\"\n  \"http://www.w3.org/Graphics/SVG/1.1/DTD/svg11.dtd\">\n<!-- Created with matplotlib (https://matplotlib.org/) -->\n<svg height=\"440.59875pt\" version=\"1.1\" viewBox=\"0 0 565.90625 440.59875\" width=\"565.90625pt\" xmlns=\"http://www.w3.org/2000/svg\" xmlns:xlink=\"http://www.w3.org/1999/xlink\">\n <defs>\n  <style type=\"text/css\">\n*{stroke-linecap:butt;stroke-linejoin:round;}\n  </style>\n </defs>\n <g id=\"figure_1\">\n  <g id=\"patch_1\">\n   <path d=\"M 0 440.59875 \nL 565.90625 440.59875 \nL 565.90625 0 \nL 0 0 \nz\n\" style=\"fill:none;\"/>\n  </g>\n  <g id=\"axes_1\">\n   <g id=\"patch_2\">\n    <path d=\"M 56.50625 403.0425 \nL 558.70625 403.0425 \nL 558.70625 22.5225 \nL 56.50625 22.5225 \nz\n\" style=\"fill:#ffffff;\"/>\n   </g>\n   <g id=\"patch_3\">\n    <path clip-path=\"url(#pf38d9cf8c9)\" d=\"M 79.333523 24756.3225 \nL 95.806812 24756.3225 \nL 95.806812 213.6281 \nL 79.333523 213.6281 \nz\n\" style=\"fill:#1f77b4;\"/>\n   </g>\n   <g id=\"patch_4\">\n    <path clip-path=\"url(#pf38d9cf8c9)\" d=\"M 126.400064 24756.3225 \nL 142.873354 24756.3225 \nL 142.873354 213.6281 \nL 126.400064 213.6281 \nz\n\" style=\"fill:#1f77b4;\"/>\n   </g>\n   <g id=\"patch_5\">\n    <path clip-path=\"url(#pf38d9cf8c9)\" d=\"M 173.466606 24756.3225 \nL 189.939896 24756.3225 \nL 189.939896 165.4289 \nL 173.466606 165.4289 \nz\n\" style=\"fill:#1f77b4;\"/>\n   </g>\n   <g id=\"patch_6\">\n    <path clip-path=\"url(#pf38d9cf8c9)\" d=\"M 220.533148 24756.3225 \nL 237.006437 24756.3225 \nL 237.006437 139.2153 \nL 220.533148 139.2153 \nz\n\" style=\"fill:#1f77b4;\"/>\n   </g>\n   <g id=\"patch_7\">\n    <path clip-path=\"url(#pf38d9cf8c9)\" d=\"M 267.59969 24756.3225 \nL 284.072979 24756.3225 \nL 284.072979 181.0725 \nL 267.59969 181.0725 \nz\n\" style=\"fill:#1f77b4;\"/>\n   </g>\n   <g id=\"patch_8\">\n    <path clip-path=\"url(#pf38d9cf8c9)\" d=\"M 314.666231 24756.3225 \nL 331.139521 24756.3225 \nL 331.139521 163.7377 \nL 314.666231 163.7377 \nz\n\" style=\"fill:#1f77b4;\"/>\n   </g>\n   <g id=\"patch_9\">\n    <path clip-path=\"url(#pf38d9cf8c9)\" d=\"M 361.732773 24756.3225 \nL 378.206063 24756.3225 \nL 378.206063 231.3857 \nL 361.732773 231.3857 \nz\n\" style=\"fill:#1f77b4;\"/>\n   </g>\n   <g id=\"patch_10\">\n    <path clip-path=\"url(#pf38d9cf8c9)\" d=\"M 408.799315 24756.3225 \nL 425.272604 24756.3225 \nL 425.272604 216.5877 \nL 408.799315 216.5877 \nz\n\" style=\"fill:#1f77b4;\"/>\n   </g>\n   <g id=\"patch_11\">\n    <path clip-path=\"url(#pf38d9cf8c9)\" d=\"M 455.865856 24756.3225 \nL 472.339146 24756.3225 \nL 472.339146 275.3569 \nL 455.865856 275.3569 \nz\n\" style=\"fill:#1f77b4;\"/>\n   </g>\n   <g id=\"patch_12\">\n    <path clip-path=\"url(#pf38d9cf8c9)\" d=\"M 502.932398 24756.3225 \nL 519.405688 24756.3225 \nL 519.405688 275.7797 \nL 502.932398 275.7797 \nz\n\" style=\"fill:#1f77b4;\"/>\n   </g>\n   <g id=\"patch_13\">\n    <path clip-path=\"url(#pf38d9cf8c9)\" d=\"M 95.806812 24756.3225 \nL 112.280102 24756.3225 \nL 112.280102 110.8877 \nL 95.806812 110.8877 \nz\n\" style=\"fill:#ff7f0e;\"/>\n   </g>\n   <g id=\"patch_14\">\n    <path clip-path=\"url(#pf38d9cf8c9)\" d=\"M 142.873354 24756.3225 \nL 159.346644 24756.3225 \nL 159.346644 110.8877 \nL 142.873354 110.8877 \nz\n\" style=\"fill:#ff7f0e;\"/>\n   </g>\n   <g id=\"patch_15\">\n    <path clip-path=\"url(#pf38d9cf8c9)\" d=\"M 189.939896 24756.3225 \nL 206.413185 24756.3225 \nL 206.413185 71.5673 \nL 189.939896 71.5673 \nz\n\" style=\"fill:#ff7f0e;\"/>\n   </g>\n   <g id=\"patch_16\">\n    <path clip-path=\"url(#pf38d9cf8c9)\" d=\"M 237.006437 24756.3225 \nL 253.479727 24756.3225 \nL 253.479727 45.3537 \nL 237.006437 45.3537 \nz\n\" style=\"fill:#ff7f0e;\"/>\n   </g>\n   <g id=\"patch_17\">\n    <path clip-path=\"url(#pf38d9cf8c9)\" d=\"M 284.072979 24756.3225 \nL 300.546269 24756.3225 \nL 300.546269 82.1373 \nL 284.072979 82.1373 \nz\n\" style=\"fill:#ff7f0e;\"/>\n   </g>\n   <g id=\"patch_18\">\n    <path clip-path=\"url(#pf38d9cf8c9)\" d=\"M 331.139521 24756.3225 \nL 347.61281 24756.3225 \nL 347.61281 72.4129 \nL 331.139521 72.4129 \nz\n\" style=\"fill:#ff7f0e;\"/>\n   </g>\n   <g id=\"patch_19\">\n    <path clip-path=\"url(#pf38d9cf8c9)\" d=\"M 378.206063 24756.3225 \nL 394.679352 24756.3225 \nL 394.679352 116.8069 \nL 378.206063 116.8069 \nz\n\" style=\"fill:#ff7f0e;\"/>\n   </g>\n   <g id=\"patch_20\">\n    <path clip-path=\"url(#pf38d9cf8c9)\" d=\"M 425.272604 24756.3225 \nL 441.745894 24756.3225 \nL 441.745894 102.0089 \nL 425.272604 102.0089 \nz\n\" style=\"fill:#ff7f0e;\"/>\n   </g>\n   <g id=\"patch_21\">\n    <path clip-path=\"url(#pf38d9cf8c9)\" d=\"M 472.339146 24756.3225 \nL 488.812436 24756.3225 \nL 488.812436 134.5645 \nL 472.339146 134.5645 \nz\n\" style=\"fill:#ff7f0e;\"/>\n   </g>\n   <g id=\"patch_22\">\n    <path clip-path=\"url(#pf38d9cf8c9)\" d=\"M 519.405688 24756.3225 \nL 535.878977 24756.3225 \nL 535.878977 137.5241 \nL 519.405688 137.5241 \nz\n\" style=\"fill:#ff7f0e;\"/>\n   </g>\n   <g id=\"matplotlib.axis_1\">\n    <g id=\"xtick_1\">\n     <g id=\"line2d_1\">\n      <defs>\n       <path d=\"M 0 0 \nL 0 3.5 \n\" id=\"mfc8c9052f0\" style=\"stroke:#000000;stroke-width:0.8;\"/>\n      </defs>\n      <g>\n       <use style=\"stroke:#000000;stroke-width:0.8;\" x=\"95.806812\" xlink:href=\"#mfc8c9052f0\" y=\"403.0425\"/>\n      </g>\n     </g>\n     <g id=\"text_1\">\n      <!-- 1 -->\n      <defs>\n       <path d=\"M 12.40625 8.296875 \nL 28.515625 8.296875 \nL 28.515625 63.921875 \nL 10.984375 60.40625 \nL 10.984375 69.390625 \nL 28.421875 72.90625 \nL 38.28125 72.90625 \nL 38.28125 8.296875 \nL 54.390625 8.296875 \nL 54.390625 0 \nL 12.40625 0 \nz\n\" id=\"DejaVuSans-49\"/>\n      </defs>\n      <g transform=\"translate(92.625562 417.640937)scale(0.1 -0.1)\">\n       <use xlink:href=\"#DejaVuSans-49\"/>\n      </g>\n     </g>\n    </g>\n    <g id=\"xtick_2\">\n     <g id=\"line2d_2\">\n      <g>\n       <use style=\"stroke:#000000;stroke-width:0.8;\" x=\"142.873354\" xlink:href=\"#mfc8c9052f0\" y=\"403.0425\"/>\n      </g>\n     </g>\n     <g id=\"text_2\">\n      <!-- 2 -->\n      <defs>\n       <path d=\"M 19.1875 8.296875 \nL 53.609375 8.296875 \nL 53.609375 0 \nL 7.328125 0 \nL 7.328125 8.296875 \nQ 12.9375 14.109375 22.625 23.890625 \nQ 32.328125 33.6875 34.8125 36.53125 \nQ 39.546875 41.84375 41.421875 45.53125 \nQ 43.3125 49.21875 43.3125 52.78125 \nQ 43.3125 58.59375 39.234375 62.25 \nQ 35.15625 65.921875 28.609375 65.921875 \nQ 23.96875 65.921875 18.8125 64.3125 \nQ 13.671875 62.703125 7.8125 59.421875 \nL 7.8125 69.390625 \nQ 13.765625 71.78125 18.9375 73 \nQ 24.125 74.21875 28.421875 74.21875 \nQ 39.75 74.21875 46.484375 68.546875 \nQ 53.21875 62.890625 53.21875 53.421875 \nQ 53.21875 48.921875 51.53125 44.890625 \nQ 49.859375 40.875 45.40625 35.40625 \nQ 44.1875 33.984375 37.640625 27.21875 \nQ 31.109375 20.453125 19.1875 8.296875 \nz\n\" id=\"DejaVuSans-50\"/>\n      </defs>\n      <g transform=\"translate(139.692104 417.640937)scale(0.1 -0.1)\">\n       <use xlink:href=\"#DejaVuSans-50\"/>\n      </g>\n     </g>\n    </g>\n    <g id=\"xtick_3\">\n     <g id=\"line2d_3\">\n      <g>\n       <use style=\"stroke:#000000;stroke-width:0.8;\" x=\"189.939896\" xlink:href=\"#mfc8c9052f0\" y=\"403.0425\"/>\n      </g>\n     </g>\n     <g id=\"text_3\">\n      <!-- 3 -->\n      <defs>\n       <path d=\"M 40.578125 39.3125 \nQ 47.65625 37.796875 51.625 33 \nQ 55.609375 28.21875 55.609375 21.1875 \nQ 55.609375 10.40625 48.1875 4.484375 \nQ 40.765625 -1.421875 27.09375 -1.421875 \nQ 22.515625 -1.421875 17.65625 -0.515625 \nQ 12.796875 0.390625 7.625 2.203125 \nL 7.625 11.71875 \nQ 11.71875 9.328125 16.59375 8.109375 \nQ 21.484375 6.890625 26.8125 6.890625 \nQ 36.078125 6.890625 40.9375 10.546875 \nQ 45.796875 14.203125 45.796875 21.1875 \nQ 45.796875 27.640625 41.28125 31.265625 \nQ 36.765625 34.90625 28.71875 34.90625 \nL 20.21875 34.90625 \nL 20.21875 43.015625 \nL 29.109375 43.015625 \nQ 36.375 43.015625 40.234375 45.921875 \nQ 44.09375 48.828125 44.09375 54.296875 \nQ 44.09375 59.90625 40.109375 62.90625 \nQ 36.140625 65.921875 28.71875 65.921875 \nQ 24.65625 65.921875 20.015625 65.03125 \nQ 15.375 64.15625 9.8125 62.3125 \nL 9.8125 71.09375 \nQ 15.4375 72.65625 20.34375 73.4375 \nQ 25.25 74.21875 29.59375 74.21875 \nQ 40.828125 74.21875 47.359375 69.109375 \nQ 53.90625 64.015625 53.90625 55.328125 \nQ 53.90625 49.265625 50.4375 45.09375 \nQ 46.96875 40.921875 40.578125 39.3125 \nz\n\" id=\"DejaVuSans-51\"/>\n      </defs>\n      <g transform=\"translate(186.758646 417.640937)scale(0.1 -0.1)\">\n       <use xlink:href=\"#DejaVuSans-51\"/>\n      </g>\n     </g>\n    </g>\n    <g id=\"xtick_4\">\n     <g id=\"line2d_4\">\n      <g>\n       <use style=\"stroke:#000000;stroke-width:0.8;\" x=\"237.006437\" xlink:href=\"#mfc8c9052f0\" y=\"403.0425\"/>\n      </g>\n     </g>\n     <g id=\"text_4\">\n      <!-- 4 -->\n      <defs>\n       <path d=\"M 37.796875 64.3125 \nL 12.890625 25.390625 \nL 37.796875 25.390625 \nz\nM 35.203125 72.90625 \nL 47.609375 72.90625 \nL 47.609375 25.390625 \nL 58.015625 25.390625 \nL 58.015625 17.1875 \nL 47.609375 17.1875 \nL 47.609375 0 \nL 37.796875 0 \nL 37.796875 17.1875 \nL 4.890625 17.1875 \nL 4.890625 26.703125 \nz\n\" id=\"DejaVuSans-52\"/>\n      </defs>\n      <g transform=\"translate(233.825187 417.640937)scale(0.1 -0.1)\">\n       <use xlink:href=\"#DejaVuSans-52\"/>\n      </g>\n     </g>\n    </g>\n    <g id=\"xtick_5\">\n     <g id=\"line2d_5\">\n      <g>\n       <use style=\"stroke:#000000;stroke-width:0.8;\" x=\"284.072979\" xlink:href=\"#mfc8c9052f0\" y=\"403.0425\"/>\n      </g>\n     </g>\n     <g id=\"text_5\">\n      <!-- 5 -->\n      <defs>\n       <path d=\"M 10.796875 72.90625 \nL 49.515625 72.90625 \nL 49.515625 64.59375 \nL 19.828125 64.59375 \nL 19.828125 46.734375 \nQ 21.96875 47.46875 24.109375 47.828125 \nQ 26.265625 48.1875 28.421875 48.1875 \nQ 40.625 48.1875 47.75 41.5 \nQ 54.890625 34.8125 54.890625 23.390625 \nQ 54.890625 11.625 47.5625 5.09375 \nQ 40.234375 -1.421875 26.90625 -1.421875 \nQ 22.3125 -1.421875 17.546875 -0.640625 \nQ 12.796875 0.140625 7.71875 1.703125 \nL 7.71875 11.625 \nQ 12.109375 9.234375 16.796875 8.0625 \nQ 21.484375 6.890625 26.703125 6.890625 \nQ 35.15625 6.890625 40.078125 11.328125 \nQ 45.015625 15.765625 45.015625 23.390625 \nQ 45.015625 31 40.078125 35.4375 \nQ 35.15625 39.890625 26.703125 39.890625 \nQ 22.75 39.890625 18.8125 39.015625 \nQ 14.890625 38.140625 10.796875 36.28125 \nz\n\" id=\"DejaVuSans-53\"/>\n      </defs>\n      <g transform=\"translate(280.891729 417.640937)scale(0.1 -0.1)\">\n       <use xlink:href=\"#DejaVuSans-53\"/>\n      </g>\n     </g>\n    </g>\n    <g id=\"xtick_6\">\n     <g id=\"line2d_6\">\n      <g>\n       <use style=\"stroke:#000000;stroke-width:0.8;\" x=\"331.139521\" xlink:href=\"#mfc8c9052f0\" y=\"403.0425\"/>\n      </g>\n     </g>\n     <g id=\"text_6\">\n      <!-- 6 -->\n      <defs>\n       <path d=\"M 33.015625 40.375 \nQ 26.375 40.375 22.484375 35.828125 \nQ 18.609375 31.296875 18.609375 23.390625 \nQ 18.609375 15.53125 22.484375 10.953125 \nQ 26.375 6.390625 33.015625 6.390625 \nQ 39.65625 6.390625 43.53125 10.953125 \nQ 47.40625 15.53125 47.40625 23.390625 \nQ 47.40625 31.296875 43.53125 35.828125 \nQ 39.65625 40.375 33.015625 40.375 \nz\nM 52.59375 71.296875 \nL 52.59375 62.3125 \nQ 48.875 64.0625 45.09375 64.984375 \nQ 41.3125 65.921875 37.59375 65.921875 \nQ 27.828125 65.921875 22.671875 59.328125 \nQ 17.53125 52.734375 16.796875 39.40625 \nQ 19.671875 43.65625 24.015625 45.921875 \nQ 28.375 48.1875 33.59375 48.1875 \nQ 44.578125 48.1875 50.953125 41.515625 \nQ 57.328125 34.859375 57.328125 23.390625 \nQ 57.328125 12.15625 50.6875 5.359375 \nQ 44.046875 -1.421875 33.015625 -1.421875 \nQ 20.359375 -1.421875 13.671875 8.265625 \nQ 6.984375 17.96875 6.984375 36.375 \nQ 6.984375 53.65625 15.1875 63.9375 \nQ 23.390625 74.21875 37.203125 74.21875 \nQ 40.921875 74.21875 44.703125 73.484375 \nQ 48.484375 72.75 52.59375 71.296875 \nz\n\" id=\"DejaVuSans-54\"/>\n      </defs>\n      <g transform=\"translate(327.958271 417.640937)scale(0.1 -0.1)\">\n       <use xlink:href=\"#DejaVuSans-54\"/>\n      </g>\n     </g>\n    </g>\n    <g id=\"xtick_7\">\n     <g id=\"line2d_7\">\n      <g>\n       <use style=\"stroke:#000000;stroke-width:0.8;\" x=\"378.206063\" xlink:href=\"#mfc8c9052f0\" y=\"403.0425\"/>\n      </g>\n     </g>\n     <g id=\"text_7\">\n      <!-- 7 -->\n      <defs>\n       <path d=\"M 8.203125 72.90625 \nL 55.078125 72.90625 \nL 55.078125 68.703125 \nL 28.609375 0 \nL 18.3125 0 \nL 43.21875 64.59375 \nL 8.203125 64.59375 \nz\n\" id=\"DejaVuSans-55\"/>\n      </defs>\n      <g transform=\"translate(375.024813 417.640937)scale(0.1 -0.1)\">\n       <use xlink:href=\"#DejaVuSans-55\"/>\n      </g>\n     </g>\n    </g>\n    <g id=\"xtick_8\">\n     <g id=\"line2d_8\">\n      <g>\n       <use style=\"stroke:#000000;stroke-width:0.8;\" x=\"425.272604\" xlink:href=\"#mfc8c9052f0\" y=\"403.0425\"/>\n      </g>\n     </g>\n     <g id=\"text_8\">\n      <!-- 8 -->\n      <defs>\n       <path d=\"M 31.78125 34.625 \nQ 24.75 34.625 20.71875 30.859375 \nQ 16.703125 27.09375 16.703125 20.515625 \nQ 16.703125 13.921875 20.71875 10.15625 \nQ 24.75 6.390625 31.78125 6.390625 \nQ 38.8125 6.390625 42.859375 10.171875 \nQ 46.921875 13.96875 46.921875 20.515625 \nQ 46.921875 27.09375 42.890625 30.859375 \nQ 38.875 34.625 31.78125 34.625 \nz\nM 21.921875 38.8125 \nQ 15.578125 40.375 12.03125 44.71875 \nQ 8.5 49.078125 8.5 55.328125 \nQ 8.5 64.0625 14.71875 69.140625 \nQ 20.953125 74.21875 31.78125 74.21875 \nQ 42.671875 74.21875 48.875 69.140625 \nQ 55.078125 64.0625 55.078125 55.328125 \nQ 55.078125 49.078125 51.53125 44.71875 \nQ 48 40.375 41.703125 38.8125 \nQ 48.828125 37.15625 52.796875 32.3125 \nQ 56.78125 27.484375 56.78125 20.515625 \nQ 56.78125 9.90625 50.3125 4.234375 \nQ 43.84375 -1.421875 31.78125 -1.421875 \nQ 19.734375 -1.421875 13.25 4.234375 \nQ 6.78125 9.90625 6.78125 20.515625 \nQ 6.78125 27.484375 10.78125 32.3125 \nQ 14.796875 37.15625 21.921875 38.8125 \nz\nM 18.3125 54.390625 \nQ 18.3125 48.734375 21.84375 45.5625 \nQ 25.390625 42.390625 31.78125 42.390625 \nQ 38.140625 42.390625 41.71875 45.5625 \nQ 45.3125 48.734375 45.3125 54.390625 \nQ 45.3125 60.0625 41.71875 63.234375 \nQ 38.140625 66.40625 31.78125 66.40625 \nQ 25.390625 66.40625 21.84375 63.234375 \nQ 18.3125 60.0625 18.3125 54.390625 \nz\n\" id=\"DejaVuSans-56\"/>\n      </defs>\n      <g transform=\"translate(422.091354 417.640937)scale(0.1 -0.1)\">\n       <use xlink:href=\"#DejaVuSans-56\"/>\n      </g>\n     </g>\n    </g>\n    <g id=\"xtick_9\">\n     <g id=\"line2d_9\">\n      <g>\n       <use style=\"stroke:#000000;stroke-width:0.8;\" x=\"472.339146\" xlink:href=\"#mfc8c9052f0\" y=\"403.0425\"/>\n      </g>\n     </g>\n     <g id=\"text_9\">\n      <!-- 9 -->\n      <defs>\n       <path d=\"M 10.984375 1.515625 \nL 10.984375 10.5 \nQ 14.703125 8.734375 18.5 7.8125 \nQ 22.3125 6.890625 25.984375 6.890625 \nQ 35.75 6.890625 40.890625 13.453125 \nQ 46.046875 20.015625 46.78125 33.40625 \nQ 43.953125 29.203125 39.59375 26.953125 \nQ 35.25 24.703125 29.984375 24.703125 \nQ 19.046875 24.703125 12.671875 31.3125 \nQ 6.296875 37.9375 6.296875 49.421875 \nQ 6.296875 60.640625 12.9375 67.421875 \nQ 19.578125 74.21875 30.609375 74.21875 \nQ 43.265625 74.21875 49.921875 64.515625 \nQ 56.59375 54.828125 56.59375 36.375 \nQ 56.59375 19.140625 48.40625 8.859375 \nQ 40.234375 -1.421875 26.421875 -1.421875 \nQ 22.703125 -1.421875 18.890625 -0.6875 \nQ 15.09375 0.046875 10.984375 1.515625 \nz\nM 30.609375 32.421875 \nQ 37.25 32.421875 41.125 36.953125 \nQ 45.015625 41.5 45.015625 49.421875 \nQ 45.015625 57.28125 41.125 61.84375 \nQ 37.25 66.40625 30.609375 66.40625 \nQ 23.96875 66.40625 20.09375 61.84375 \nQ 16.21875 57.28125 16.21875 49.421875 \nQ 16.21875 41.5 20.09375 36.953125 \nQ 23.96875 32.421875 30.609375 32.421875 \nz\n\" id=\"DejaVuSans-57\"/>\n      </defs>\n      <g transform=\"translate(469.157896 417.640937)scale(0.1 -0.1)\">\n       <use xlink:href=\"#DejaVuSans-57\"/>\n      </g>\n     </g>\n    </g>\n    <g id=\"xtick_10\">\n     <g id=\"line2d_10\">\n      <g>\n       <use style=\"stroke:#000000;stroke-width:0.8;\" x=\"519.405688\" xlink:href=\"#mfc8c9052f0\" y=\"403.0425\"/>\n      </g>\n     </g>\n     <g id=\"text_10\">\n      <!-- 10 -->\n      <defs>\n       <path d=\"M 31.78125 66.40625 \nQ 24.171875 66.40625 20.328125 58.90625 \nQ 16.5 51.421875 16.5 36.375 \nQ 16.5 21.390625 20.328125 13.890625 \nQ 24.171875 6.390625 31.78125 6.390625 \nQ 39.453125 6.390625 43.28125 13.890625 \nQ 47.125 21.390625 47.125 36.375 \nQ 47.125 51.421875 43.28125 58.90625 \nQ 39.453125 66.40625 31.78125 66.40625 \nz\nM 31.78125 74.21875 \nQ 44.046875 74.21875 50.515625 64.515625 \nQ 56.984375 54.828125 56.984375 36.375 \nQ 56.984375 17.96875 50.515625 8.265625 \nQ 44.046875 -1.421875 31.78125 -1.421875 \nQ 19.53125 -1.421875 13.0625 8.265625 \nQ 6.59375 17.96875 6.59375 36.375 \nQ 6.59375 54.828125 13.0625 64.515625 \nQ 19.53125 74.21875 31.78125 74.21875 \nz\n\" id=\"DejaVuSans-48\"/>\n      </defs>\n      <g transform=\"translate(513.043188 417.640937)scale(0.1 -0.1)\">\n       <use xlink:href=\"#DejaVuSans-49\"/>\n       <use x=\"63.623047\" xlink:href=\"#DejaVuSans-48\"/>\n      </g>\n     </g>\n    </g>\n    <g id=\"text_11\">\n     <!-- Число соседей -->\n     <defs>\n      <path d=\"M 48.828125 0 \nL 48.828125 29.890625 \nL 28.46875 29.890625 \nQ 19.390625 29.890625 13.96875 35.578125 \nQ 8.546875 41.265625 8.546875 52.875 \nL 8.546875 72.90625 \nL 18.359375 72.90625 \nL 18.359375 53.65625 \nQ 18.359375 45.90625 21.390625 42.046875 \nQ 24.421875 38.1875 30.46875 38.1875 \nL 48.828125 38.1875 \nL 48.828125 72.90625 \nL 58.734375 72.90625 \nL 58.734375 0 \nz\n\" id=\"DejaVuSans-1063\"/>\n      <path d=\"M 55.90625 54.6875 \nL 55.90625 0 \nL 46.96875 0 \nL 46.96875 43.890625 \nL 20.609375 0 \nL 9.078125 0 \nL 9.078125 54.6875 \nL 18.015625 54.6875 \nL 18.015625 10.890625 \nL 44.34375 54.6875 \nz\n\" id=\"DejaVuSans-1080\"/>\n      <path d=\"M 48.78125 52.59375 \nL 48.78125 44.1875 \nQ 44.96875 46.296875 41.140625 47.34375 \nQ 37.3125 48.390625 33.40625 48.390625 \nQ 24.65625 48.390625 19.8125 42.84375 \nQ 14.984375 37.3125 14.984375 27.296875 \nQ 14.984375 17.28125 19.8125 11.734375 \nQ 24.65625 6.203125 33.40625 6.203125 \nQ 37.3125 6.203125 41.140625 7.25 \nQ 44.96875 8.296875 48.78125 10.40625 \nL 48.78125 2.09375 \nQ 45.015625 0.34375 40.984375 -0.53125 \nQ 36.96875 -1.421875 32.421875 -1.421875 \nQ 20.0625 -1.421875 12.78125 6.34375 \nQ 5.515625 14.109375 5.515625 27.296875 \nQ 5.515625 40.671875 12.859375 48.328125 \nQ 20.21875 56 33.015625 56 \nQ 37.15625 56 41.109375 55.140625 \nQ 45.0625 54.296875 48.78125 52.59375 \nz\n\" id=\"DejaVuSans-1089\"/>\n      <path d=\"M 3.71875 0 \nL 3.71875 7.46875 \nQ 12.59375 8.84375 15.328125 14.984375 \nQ 18.65625 23.640625 18.65625 45.75 \nL 18.65625 54.6875 \nL 55.609375 54.6875 \nL 55.609375 0 \nL 46.625 0 \nL 46.625 47.515625 \nL 27.640625 47.515625 \nL 27.640625 42.09375 \nQ 27.640625 21 23.34375 11.53125 \nQ 18.75 1.421875 3.71875 0 \nz\n\" id=\"DejaVuSans-1083\"/>\n      <path d=\"M 30.609375 48.390625 \nQ 23.390625 48.390625 19.1875 42.75 \nQ 14.984375 37.109375 14.984375 27.296875 \nQ 14.984375 17.484375 19.15625 11.84375 \nQ 23.34375 6.203125 30.609375 6.203125 \nQ 37.796875 6.203125 41.984375 11.859375 \nQ 46.1875 17.53125 46.1875 27.296875 \nQ 46.1875 37.015625 41.984375 42.703125 \nQ 37.796875 48.390625 30.609375 48.390625 \nz\nM 30.609375 56 \nQ 42.328125 56 49.015625 48.375 \nQ 55.71875 40.765625 55.71875 27.296875 \nQ 55.71875 13.875 49.015625 6.21875 \nQ 42.328125 -1.421875 30.609375 -1.421875 \nQ 18.84375 -1.421875 12.171875 6.21875 \nQ 5.515625 13.875 5.515625 27.296875 \nQ 5.515625 40.765625 12.171875 48.375 \nQ 18.84375 56 30.609375 56 \nz\n\" id=\"DejaVuSans-1086\"/>\n      <path id=\"DejaVuSans-32\"/>\n      <path d=\"M 56.203125 29.59375 \nL 56.203125 25.203125 \nL 14.890625 25.203125 \nQ 15.484375 15.921875 20.484375 11.0625 \nQ 25.484375 6.203125 34.421875 6.203125 \nQ 39.59375 6.203125 44.453125 7.46875 \nQ 49.3125 8.734375 54.109375 11.28125 \nL 54.109375 2.78125 \nQ 49.265625 0.734375 44.1875 -0.34375 \nQ 39.109375 -1.421875 33.890625 -1.421875 \nQ 20.796875 -1.421875 13.15625 6.1875 \nQ 5.515625 13.8125 5.515625 26.8125 \nQ 5.515625 40.234375 12.765625 48.109375 \nQ 20.015625 56 32.328125 56 \nQ 43.359375 56 49.78125 48.890625 \nQ 56.203125 41.796875 56.203125 29.59375 \nz\nM 47.21875 32.234375 \nQ 47.125 39.59375 43.09375 43.984375 \nQ 39.0625 48.390625 32.421875 48.390625 \nQ 24.90625 48.390625 20.390625 44.140625 \nQ 15.875 39.890625 15.1875 32.171875 \nz\n\" id=\"DejaVuSans-1077\"/>\n      <path d=\"M 21.625 7.171875 \nL 47.703125 7.171875 \nL 47.703125 47.515625 \nL 28.8125 47.515625 \nL 28.8125 40.671875 \nQ 28.8125 20.5625 23.046875 9.8125 \nz\nM 8.59375 7.171875 \nQ 13.03125 9.125 14.984375 13.28125 \nQ 19.78125 23.578125 19.78125 44.34375 \nL 19.78125 54.6875 \nL 56.734375 54.6875 \nL 56.734375 7.171875 \nL 63.921875 7.171875 \nL 63.921875 -13.8125 \nL 56.734375 -13.8125 \nL 56.734375 0 \nL 12.40625 0 \nL 12.40625 -13.8125 \nL 5.21875 -13.8125 \nL 5.21875 7.171875 \nz\n\" id=\"DejaVuSans-1076\"/>\n      <path d=\"M 55.90625 54.6875 \nL 55.90625 0 \nL 46.96875 0 \nL 46.96875 43.890625 \nL 20.609375 0 \nL 9.078125 0 \nL 9.078125 54.6875 \nL 18.015625 54.6875 \nL 18.015625 10.890625 \nL 44.34375 54.6875 \nz\nM 17.21875 75.515625 \nL 22.984375 75.515625 \nQ 23.515625 71.859375 25.875 70.015625 \nQ 28.25 68.1875 32.5 68.1875 \nQ 36.703125 68.1875 39.046875 70 \nQ 41.390625 71.8125 42.015625 75.515625 \nL 47.78125 75.515625 \nQ 47.296875 68.53125 43.4375 65.015625 \nQ 39.578125 61.5 32.5 61.5 \nQ 25.421875 61.5 21.5625 65.015625 \nQ 17.703125 68.53125 17.21875 75.515625 \nz\n\" id=\"DejaVuSans-1081\"/>\n     </defs>\n     <g transform=\"translate(268.917969 431.319062)scale(0.1 -0.1)\">\n      <use xlink:href=\"#DejaVuSans-1063\"/>\n      <use x=\"68.554688\" xlink:href=\"#DejaVuSans-1080\"/>\n      <use x=\"133.544922\" xlink:href=\"#DejaVuSans-1089\"/>\n      <use x=\"188.525391\" xlink:href=\"#DejaVuSans-1083\"/>\n      <use x=\"252.441406\" xlink:href=\"#DejaVuSans-1086\"/>\n      <use x=\"313.623047\" xlink:href=\"#DejaVuSans-32\"/>\n      <use x=\"345.410156\" xlink:href=\"#DejaVuSans-1089\"/>\n      <use x=\"400.390625\" xlink:href=\"#DejaVuSans-1086\"/>\n      <use x=\"461.572266\" xlink:href=\"#DejaVuSans-1089\"/>\n      <use x=\"516.552734\" xlink:href=\"#DejaVuSans-1077\"/>\n      <use x=\"578.076172\" xlink:href=\"#DejaVuSans-1076\"/>\n      <use x=\"647.216797\" xlink:href=\"#DejaVuSans-1077\"/>\n      <use x=\"708.740234\" xlink:href=\"#DejaVuSans-1081\"/>\n     </g>\n    </g>\n   </g>\n   <g id=\"matplotlib.axis_2\">\n    <g id=\"ytick_1\">\n     <g id=\"line2d_11\">\n      <defs>\n       <path d=\"M 0 0 \nL -3.5 0 \n\" id=\"m658fe0c419\" style=\"stroke:#000000;stroke-width:0.8;\"/>\n      </defs>\n      <g>\n       <use style=\"stroke:#000000;stroke-width:0.8;\" x=\"56.50625\" xlink:href=\"#m658fe0c419\" y=\"403.0425\"/>\n      </g>\n     </g>\n     <g id=\"text_12\">\n      <!-- 0.960 -->\n      <defs>\n       <path d=\"M 10.6875 12.40625 \nL 21 12.40625 \nL 21 0 \nL 10.6875 0 \nz\n\" id=\"DejaVuSans-46\"/>\n      </defs>\n      <g transform=\"translate(20.878125 406.841719)scale(0.1 -0.1)\">\n       <use xlink:href=\"#DejaVuSans-48\"/>\n       <use x=\"63.623047\" xlink:href=\"#DejaVuSans-46\"/>\n       <use x=\"95.410156\" xlink:href=\"#DejaVuSans-57\"/>\n       <use x=\"159.033203\" xlink:href=\"#DejaVuSans-54\"/>\n       <use x=\"222.65625\" xlink:href=\"#DejaVuSans-48\"/>\n      </g>\n     </g>\n    </g>\n    <g id=\"ytick_2\">\n     <g id=\"line2d_12\">\n      <g>\n       <use style=\"stroke:#000000;stroke-width:0.8;\" x=\"56.50625\" xlink:href=\"#m658fe0c419\" y=\"352.3065\"/>\n      </g>\n     </g>\n     <g id=\"text_13\">\n      <!-- 0.962 -->\n      <g transform=\"translate(20.878125 356.105719)scale(0.1 -0.1)\">\n       <use xlink:href=\"#DejaVuSans-48\"/>\n       <use x=\"63.623047\" xlink:href=\"#DejaVuSans-46\"/>\n       <use x=\"95.410156\" xlink:href=\"#DejaVuSans-57\"/>\n       <use x=\"159.033203\" xlink:href=\"#DejaVuSans-54\"/>\n       <use x=\"222.65625\" xlink:href=\"#DejaVuSans-50\"/>\n      </g>\n     </g>\n    </g>\n    <g id=\"ytick_3\">\n     <g id=\"line2d_13\">\n      <g>\n       <use style=\"stroke:#000000;stroke-width:0.8;\" x=\"56.50625\" xlink:href=\"#m658fe0c419\" y=\"301.5705\"/>\n      </g>\n     </g>\n     <g id=\"text_14\">\n      <!-- 0.964 -->\n      <g transform=\"translate(20.878125 305.369719)scale(0.1 -0.1)\">\n       <use xlink:href=\"#DejaVuSans-48\"/>\n       <use x=\"63.623047\" xlink:href=\"#DejaVuSans-46\"/>\n       <use x=\"95.410156\" xlink:href=\"#DejaVuSans-57\"/>\n       <use x=\"159.033203\" xlink:href=\"#DejaVuSans-54\"/>\n       <use x=\"222.65625\" xlink:href=\"#DejaVuSans-52\"/>\n      </g>\n     </g>\n    </g>\n    <g id=\"ytick_4\">\n     <g id=\"line2d_14\">\n      <g>\n       <use style=\"stroke:#000000;stroke-width:0.8;\" x=\"56.50625\" xlink:href=\"#m658fe0c419\" y=\"250.8345\"/>\n      </g>\n     </g>\n     <g id=\"text_15\">\n      <!-- 0.966 -->\n      <g transform=\"translate(20.878125 254.633719)scale(0.1 -0.1)\">\n       <use xlink:href=\"#DejaVuSans-48\"/>\n       <use x=\"63.623047\" xlink:href=\"#DejaVuSans-46\"/>\n       <use x=\"95.410156\" xlink:href=\"#DejaVuSans-57\"/>\n       <use x=\"159.033203\" xlink:href=\"#DejaVuSans-54\"/>\n       <use x=\"222.65625\" xlink:href=\"#DejaVuSans-54\"/>\n      </g>\n     </g>\n    </g>\n    <g id=\"ytick_5\">\n     <g id=\"line2d_15\">\n      <g>\n       <use style=\"stroke:#000000;stroke-width:0.8;\" x=\"56.50625\" xlink:href=\"#m658fe0c419\" y=\"200.0985\"/>\n      </g>\n     </g>\n     <g id=\"text_16\">\n      <!-- 0.968 -->\n      <g transform=\"translate(20.878125 203.897719)scale(0.1 -0.1)\">\n       <use xlink:href=\"#DejaVuSans-48\"/>\n       <use x=\"63.623047\" xlink:href=\"#DejaVuSans-46\"/>\n       <use x=\"95.410156\" xlink:href=\"#DejaVuSans-57\"/>\n       <use x=\"159.033203\" xlink:href=\"#DejaVuSans-54\"/>\n       <use x=\"222.65625\" xlink:href=\"#DejaVuSans-56\"/>\n      </g>\n     </g>\n    </g>\n    <g id=\"ytick_6\">\n     <g id=\"line2d_16\">\n      <g>\n       <use style=\"stroke:#000000;stroke-width:0.8;\" x=\"56.50625\" xlink:href=\"#m658fe0c419\" y=\"149.3625\"/>\n      </g>\n     </g>\n     <g id=\"text_17\">\n      <!-- 0.970 -->\n      <g transform=\"translate(20.878125 153.161719)scale(0.1 -0.1)\">\n       <use xlink:href=\"#DejaVuSans-48\"/>\n       <use x=\"63.623047\" xlink:href=\"#DejaVuSans-46\"/>\n       <use x=\"95.410156\" xlink:href=\"#DejaVuSans-57\"/>\n       <use x=\"159.033203\" xlink:href=\"#DejaVuSans-55\"/>\n       <use x=\"222.65625\" xlink:href=\"#DejaVuSans-48\"/>\n      </g>\n     </g>\n    </g>\n    <g id=\"ytick_7\">\n     <g id=\"line2d_17\">\n      <g>\n       <use style=\"stroke:#000000;stroke-width:0.8;\" x=\"56.50625\" xlink:href=\"#m658fe0c419\" y=\"98.6265\"/>\n      </g>\n     </g>\n     <g id=\"text_18\">\n      <!-- 0.972 -->\n      <g transform=\"translate(20.878125 102.425719)scale(0.1 -0.1)\">\n       <use xlink:href=\"#DejaVuSans-48\"/>\n       <use x=\"63.623047\" xlink:href=\"#DejaVuSans-46\"/>\n       <use x=\"95.410156\" xlink:href=\"#DejaVuSans-57\"/>\n       <use x=\"159.033203\" xlink:href=\"#DejaVuSans-55\"/>\n       <use x=\"222.65625\" xlink:href=\"#DejaVuSans-50\"/>\n      </g>\n     </g>\n    </g>\n    <g id=\"ytick_8\">\n     <g id=\"line2d_18\">\n      <g>\n       <use style=\"stroke:#000000;stroke-width:0.8;\" x=\"56.50625\" xlink:href=\"#m658fe0c419\" y=\"47.8905\"/>\n      </g>\n     </g>\n     <g id=\"text_19\">\n      <!-- 0.974 -->\n      <g transform=\"translate(20.878125 51.689719)scale(0.1 -0.1)\">\n       <use xlink:href=\"#DejaVuSans-48\"/>\n       <use x=\"63.623047\" xlink:href=\"#DejaVuSans-46\"/>\n       <use x=\"95.410156\" xlink:href=\"#DejaVuSans-57\"/>\n       <use x=\"159.033203\" xlink:href=\"#DejaVuSans-55\"/>\n       <use x=\"222.65625\" xlink:href=\"#DejaVuSans-52\"/>\n      </g>\n     </g>\n    </g>\n    <g id=\"text_20\">\n     <!-- Точность -->\n     <defs>\n      <path d=\"M -0.296875 72.90625 \nL 61.375 72.90625 \nL 61.375 64.59375 \nL 35.5 64.59375 \nL 35.5 0 \nL 25.59375 0 \nL 25.59375 64.59375 \nL -0.296875 64.59375 \nz\n\" id=\"DejaVuSans-1058\"/>\n      <path d=\"M 41.015625 0 \nL 41.015625 23 \nL 24.265625 23 \nQ 16.796875 23 11.8125 27.640625 \nQ 7.328125 31.84375 7.328125 40.828125 \nL 7.328125 54.6875 \nL 16.3125 54.6875 \nL 16.3125 41.65625 \nQ 16.3125 35.9375 18.84375 33.0625 \nQ 21.4375 30.171875 26.515625 30.171875 \nL 41.015625 30.171875 \nL 41.015625 54.6875 \nL 50 54.6875 \nL 50 0 \nz\n\" id=\"DejaVuSans-1095\"/>\n      <path d=\"M 9.078125 54.6875 \nL 18.109375 54.6875 \nL 18.109375 32.375 \nL 47.265625 32.375 \nL 47.265625 54.6875 \nL 56.296875 54.6875 \nL 56.296875 0 \nL 47.265625 0 \nL 47.265625 25.203125 \nL 18.109375 25.203125 \nL 18.109375 0 \nL 9.078125 0 \nz\n\" id=\"DejaVuSans-1085\"/>\n      <path d=\"M 2.9375 54.6875 \nL 55.328125 54.6875 \nL 55.328125 47.515625 \nL 33.546875 47.515625 \nL 33.546875 0 \nL 24.703125 0 \nL 24.703125 47.515625 \nL 2.9375 47.515625 \nz\n\" id=\"DejaVuSans-1090\"/>\n      <path d=\"M 43.453125 16.21875 \nQ 43.453125 20.609375 40.25 22.90625 \nQ 37.0625 25.203125 30.90625 25.203125 \nL 18.109375 25.203125 \nL 18.109375 7.171875 \nL 30.90625 7.171875 \nQ 37.0625 7.171875 40.25 9.484375 \nQ 43.453125 11.8125 43.453125 16.21875 \nz\nM 9.078125 54.6875 \nL 18.109375 54.6875 \nL 18.109375 32.375 \nL 31.296875 32.375 \nQ 41.75 32.375 47.390625 28.390625 \nQ 53.03125 24.421875 53.03125 16.21875 \nQ 53.03125 8.015625 47.390625 4 \nQ 41.75 0 31.296875 0 \nL 9.078125 0 \nz\n\" id=\"DejaVuSans-1100\"/>\n     </defs>\n     <g transform=\"translate(14.798438 236.786406)rotate(-90)scale(0.1 -0.1)\">\n      <use xlink:href=\"#DejaVuSans-1058\"/>\n      <use x=\"61.083984\" xlink:href=\"#DejaVuSans-1086\"/>\n      <use x=\"122.265625\" xlink:href=\"#DejaVuSans-1095\"/>\n      <use x=\"181.347656\" xlink:href=\"#DejaVuSans-1085\"/>\n      <use x=\"246.728516\" xlink:href=\"#DejaVuSans-1086\"/>\n      <use x=\"307.910156\" xlink:href=\"#DejaVuSans-1089\"/>\n      <use x=\"362.890625\" xlink:href=\"#DejaVuSans-1090\"/>\n      <use x=\"421.142578\" xlink:href=\"#DejaVuSans-1100\"/>\n     </g>\n    </g>\n   </g>\n   <g id=\"patch_23\">\n    <path d=\"M 56.50625 403.0425 \nL 56.50625 22.5225 \n\" style=\"fill:none;stroke:#000000;stroke-linecap:square;stroke-linejoin:miter;stroke-width:0.8;\"/>\n   </g>\n   <g id=\"patch_24\">\n    <path d=\"M 558.70625 403.0425 \nL 558.70625 22.5225 \n\" style=\"fill:none;stroke:#000000;stroke-linecap:square;stroke-linejoin:miter;stroke-width:0.8;\"/>\n   </g>\n   <g id=\"patch_25\">\n    <path d=\"M 56.50625 403.0425 \nL 558.70625 403.0425 \n\" style=\"fill:none;stroke:#000000;stroke-linecap:square;stroke-linejoin:miter;stroke-width:0.8;\"/>\n   </g>\n   <g id=\"patch_26\">\n    <path d=\"M 56.50625 22.5225 \nL 558.70625 22.5225 \n\" style=\"fill:none;stroke:#000000;stroke-linecap:square;stroke-linejoin:miter;stroke-width:0.8;\"/>\n   </g>\n   <g id=\"text_21\">\n    <!-- Зависимость точности работы алгоритма с весами от числа соседей -->\n    <defs>\n     <path d=\"M 28.5625 74.21875 \nQ 40.578125 74.21875 48.1875 69.109375 \nQ 55.8125 64.015625 55.8125 55.328125 \nQ 55.8125 49.265625 52.34375 45.09375 \nQ 48.875 40.921875 42.484375 39.3125 \nQ 49.5625 37.796875 53.53125 33 \nQ 57.515625 28.21875 57.515625 21.1875 \nQ 57.515625 9.96875 48.84375 4.265625 \nQ 40.1875 -1.421875 28.5625 -1.421875 \nQ 22.609375 -1.421875 15.671875 0.1875 \nQ 8.734375 1.8125 6.59375 3.171875 \nL 6.59375 13.328125 \nQ 14.0625 8.984375 18.1875 7.9375 \nQ 22.3125 6.890625 28.375 6.890625 \nQ 37.546875 6.890625 42.625 10.40625 \nQ 47.703125 13.921875 47.703125 21.1875 \nQ 47.703125 27.640625 43.1875 31.265625 \nQ 38.671875 34.90625 29.15625 34.90625 \nL 19.1875 34.90625 \nL 19.1875 43.015625 \nL 29.546875 43.015625 \nQ 38.28125 43.015625 42.140625 45.921875 \nQ 46 48.828125 46 54.296875 \nQ 46 59.90625 42.015625 62.90625 \nQ 38.03125 65.921875 28.375 65.921875 \nQ 21.828125 65.921875 19.578125 65.328125 \nQ 17.328125 64.75 7.328125 60.984375 \nL 7.328125 70.609375 \nQ 12.84375 72.5625 18.59375 73.390625 \nQ 24.359375 74.21875 28.5625 74.21875 \nz\n\" id=\"DejaVuSans-1047\"/>\n     <path d=\"M 34.28125 27.484375 \nQ 23.390625 27.484375 19.1875 25 \nQ 14.984375 22.515625 14.984375 16.5 \nQ 14.984375 11.71875 18.140625 8.90625 \nQ 21.296875 6.109375 26.703125 6.109375 \nQ 34.1875 6.109375 38.703125 11.40625 \nQ 43.21875 16.703125 43.21875 25.484375 \nL 43.21875 27.484375 \nz\nM 52.203125 31.203125 \nL 52.203125 0 \nL 43.21875 0 \nL 43.21875 8.296875 \nQ 40.140625 3.328125 35.546875 0.953125 \nQ 30.953125 -1.421875 24.3125 -1.421875 \nQ 15.921875 -1.421875 10.953125 3.296875 \nQ 6 8.015625 6 15.921875 \nQ 6 25.140625 12.171875 29.828125 \nQ 18.359375 34.515625 30.609375 34.515625 \nL 43.21875 34.515625 \nL 43.21875 35.40625 \nQ 43.21875 41.609375 39.140625 45 \nQ 35.0625 48.390625 27.6875 48.390625 \nQ 23 48.390625 18.546875 47.265625 \nQ 14.109375 46.140625 10.015625 43.890625 \nL 10.015625 52.203125 \nQ 14.9375 54.109375 19.578125 55.046875 \nQ 24.21875 56 28.609375 56 \nQ 40.484375 56 46.34375 49.84375 \nQ 52.203125 43.703125 52.203125 31.203125 \nz\n\" id=\"DejaVuSans-1072\"/>\n     <path d=\"M 18.0625 25.203125 \nL 18.0625 7.171875 \nL 30.859375 7.171875 \nQ 37.015625 7.171875 40.234375 9.484375 \nQ 43.453125 11.8125 43.453125 16.21875 \nQ 43.453125 20.609375 40.234375 22.90625 \nQ 37.015625 25.203125 30.859375 25.203125 \nz\nM 18.0625 47.515625 \nL 18.0625 32.375 \nL 29.890625 32.375 \nQ 34.96875 32.375 38.1875 34.390625 \nQ 41.40625 36.421875 41.40625 40.046875 \nQ 41.40625 43.65625 38.1875 45.578125 \nQ 34.96875 47.515625 29.890625 47.515625 \nz\nM 9.078125 54.6875 \nL 30.46875 54.6875 \nQ 40.09375 54.6875 45.265625 51.171875 \nQ 50.4375 47.65625 50.4375 41.15625 \nQ 50.4375 36.140625 47.796875 33.171875 \nQ 45.171875 30.21875 39.984375 29.5 \nQ 46.1875 28.328125 49.609375 24.609375 \nQ 53.03125 20.90625 53.03125 15.328125 \nQ 53.03125 8.015625 47.390625 4 \nQ 41.75 0 31.296875 0 \nL 9.078125 0 \nz\n\" id=\"DejaVuSans-1074\"/>\n     <path d=\"M 9.078125 54.6875 \nL 22.21875 54.6875 \nL 37.75 18.0625 \nL 53.328125 54.6875 \nL 66.359375 54.6875 \nL 66.359375 0 \nL 57.328125 0 \nL 57.328125 46.09375 \nL 42.234375 10.5 \nL 33.25 10.5 \nL 18.109375 46.09375 \nL 18.109375 0 \nL 9.078125 0 \nz\n\" id=\"DejaVuSans-1084\"/>\n     <path d=\"M 18.109375 8.203125 \nL 18.109375 -20.796875 \nL 9.078125 -20.796875 \nL 9.078125 54.6875 \nL 18.109375 54.6875 \nL 18.109375 46.390625 \nQ 20.953125 51.265625 25.265625 53.625 \nQ 29.59375 56 35.59375 56 \nQ 45.5625 56 51.78125 48.09375 \nQ 58.015625 40.1875 58.015625 27.296875 \nQ 58.015625 14.40625 51.78125 6.484375 \nQ 45.5625 -1.421875 35.59375 -1.421875 \nQ 29.59375 -1.421875 25.265625 0.953125 \nQ 20.953125 3.328125 18.109375 8.203125 \nz\nM 48.6875 27.296875 \nQ 48.6875 37.203125 44.609375 42.84375 \nQ 40.53125 48.484375 33.40625 48.484375 \nQ 26.265625 48.484375 22.1875 42.84375 \nQ 18.109375 37.203125 18.109375 27.296875 \nQ 18.109375 17.390625 22.1875 11.75 \nQ 26.265625 6.109375 33.40625 6.109375 \nQ 40.53125 6.109375 44.609375 11.75 \nQ 48.6875 17.390625 48.6875 27.296875 \nz\n\" id=\"DejaVuSans-1088\"/>\n     <path d=\"M 31.109375 56 \nQ 42.828125 56 49.515625 48.375 \nQ 56.203125 40.765625 56.203125 27.296875 \nQ 56.203125 13.875 49.515625 6.21875 \nQ 42.828125 -1.421875 31.109375 -1.421875 \nQ 19.34375 -1.421875 12.84375 6 \nQ 6.34375 13.421875 6 27.296875 \nL 5.71875 38.484375 \nQ 5.46875 44.28125 5.46875 46.296875 \nQ 5.46875 54.109375 8.296875 59.859375 \nQ 12.75 68.890625 20.4375 72.796875 \nQ 28.125 76.703125 41.015625 76.8125 \nQ 46.96875 76.859375 49.609375 77.6875 \nL 52.09375 70.5625 \nQ 49.703125 69.578125 47.515625 69.53125 \nL 35.296875 68.703125 \nQ 29.15625 68.265625 25.4375 66.109375 \nQ 15.71875 60.40625 14.796875 52.9375 \nL 14.453125 50.203125 \nQ 20.796875 56 31.109375 56 \nz\nM 31.109375 48.390625 \nQ 23.875 48.390625 19.671875 42.75 \nQ 15.484375 37.109375 15.484375 27.296875 \nQ 15.484375 17.484375 19.65625 11.84375 \nQ 23.828125 6.203125 31.109375 6.203125 \nQ 38.28125 6.203125 42.484375 11.859375 \nQ 46.6875 17.53125 46.6875 27.296875 \nQ 46.6875 37.015625 42.484375 42.703125 \nQ 38.28125 48.390625 31.109375 48.390625 \nz\n\" id=\"DejaVuSans-1073\"/>\n     <path d=\"M 61.046875 54.6875 \nL 70.03125 54.6875 \nL 70.03125 0 \nL 61.046875 0 \nz\nM 65.546875 56 \nz\nM 43.453125 16.21875 \nQ 43.453125 20.609375 40.25 22.90625 \nQ 37.0625 25.203125 30.90625 25.203125 \nL 18.109375 25.203125 \nL 18.109375 7.171875 \nL 30.90625 7.171875 \nQ 37.0625 7.171875 40.25 9.484375 \nQ 43.453125 11.8125 43.453125 16.21875 \nz\nM 9.078125 54.6875 \nL 18.109375 54.6875 \nL 18.109375 32.375 \nL 31.296875 32.375 \nQ 41.75 32.375 47.390625 28.390625 \nQ 53.03125 24.421875 53.03125 16.21875 \nQ 53.03125 8.015625 47.390625 4 \nQ 41.75 0 31.296875 0 \nL 9.078125 0 \nz\n\" id=\"DejaVuSans-1099\"/>\n     <path d=\"M 9.078125 0 \nL 9.078125 54.6875 \nL 47.65625 54.6875 \nL 47.65625 47.515625 \nL 18.109375 47.515625 \nL 18.109375 0 \nz\n\" id=\"DejaVuSans-1075\"/>\n    </defs>\n    <g transform=\"translate(88.78625 16.5225)scale(0.12 -0.12)\">\n     <use xlink:href=\"#DejaVuSans-1047\"/>\n     <use x=\"64.111328\" xlink:href=\"#DejaVuSans-1072\"/>\n     <use x=\"125.390625\" xlink:href=\"#DejaVuSans-1074\"/>\n     <use x=\"184.326172\" xlink:href=\"#DejaVuSans-1080\"/>\n     <use x=\"249.316406\" xlink:href=\"#DejaVuSans-1089\"/>\n     <use x=\"304.296875\" xlink:href=\"#DejaVuSans-1080\"/>\n     <use x=\"369.287109\" xlink:href=\"#DejaVuSans-1084\"/>\n     <use x=\"444.726562\" xlink:href=\"#DejaVuSans-1086\"/>\n     <use x=\"505.908203\" xlink:href=\"#DejaVuSans-1089\"/>\n     <use x=\"560.888672\" xlink:href=\"#DejaVuSans-1090\"/>\n     <use x=\"619.140625\" xlink:href=\"#DejaVuSans-1100\"/>\n     <use x=\"678.076172\" xlink:href=\"#DejaVuSans-32\"/>\n     <use x=\"709.863281\" xlink:href=\"#DejaVuSans-1090\"/>\n     <use x=\"768.115234\" xlink:href=\"#DejaVuSans-1086\"/>\n     <use x=\"829.296875\" xlink:href=\"#DejaVuSans-1095\"/>\n     <use x=\"888.378906\" xlink:href=\"#DejaVuSans-1085\"/>\n     <use x=\"953.759766\" xlink:href=\"#DejaVuSans-1086\"/>\n     <use x=\"1014.941406\" xlink:href=\"#DejaVuSans-1089\"/>\n     <use x=\"1069.921875\" xlink:href=\"#DejaVuSans-1090\"/>\n     <use x=\"1128.173828\" xlink:href=\"#DejaVuSans-1080\"/>\n     <use x=\"1193.164062\" xlink:href=\"#DejaVuSans-32\"/>\n     <use x=\"1224.951172\" xlink:href=\"#DejaVuSans-1088\"/>\n     <use x=\"1288.427734\" xlink:href=\"#DejaVuSans-1072\"/>\n     <use x=\"1349.707031\" xlink:href=\"#DejaVuSans-1073\"/>\n     <use x=\"1411.376953\" xlink:href=\"#DejaVuSans-1086\"/>\n     <use x=\"1472.558594\" xlink:href=\"#DejaVuSans-1090\"/>\n     <use x=\"1530.810547\" xlink:href=\"#DejaVuSans-1099\"/>\n     <use x=\"1609.765625\" xlink:href=\"#DejaVuSans-32\"/>\n     <use x=\"1641.552734\" xlink:href=\"#DejaVuSans-1072\"/>\n     <use x=\"1702.832031\" xlink:href=\"#DejaVuSans-1083\"/>\n     <use x=\"1766.748047\" xlink:href=\"#DejaVuSans-1075\"/>\n     <use x=\"1819.287109\" xlink:href=\"#DejaVuSans-1086\"/>\n     <use x=\"1880.46875\" xlink:href=\"#DejaVuSans-1088\"/>\n     <use x=\"1943.945312\" xlink:href=\"#DejaVuSans-1080\"/>\n     <use x=\"2008.935547\" xlink:href=\"#DejaVuSans-1090\"/>\n     <use x=\"2067.1875\" xlink:href=\"#DejaVuSans-1084\"/>\n     <use x=\"2142.626953\" xlink:href=\"#DejaVuSans-1072\"/>\n     <use x=\"2203.90625\" xlink:href=\"#DejaVuSans-32\"/>\n     <use x=\"2235.693359\" xlink:href=\"#DejaVuSans-1089\"/>\n     <use x=\"2290.673828\" xlink:href=\"#DejaVuSans-32\"/>\n     <use x=\"2322.460938\" xlink:href=\"#DejaVuSans-1074\"/>\n     <use x=\"2381.396484\" xlink:href=\"#DejaVuSans-1077\"/>\n     <use x=\"2442.919922\" xlink:href=\"#DejaVuSans-1089\"/>\n     <use x=\"2497.900391\" xlink:href=\"#DejaVuSans-1072\"/>\n     <use x=\"2559.179688\" xlink:href=\"#DejaVuSans-1084\"/>\n     <use x=\"2634.619141\" xlink:href=\"#DejaVuSans-1080\"/>\n     <use x=\"2699.609375\" xlink:href=\"#DejaVuSans-32\"/>\n     <use x=\"2731.396484\" xlink:href=\"#DejaVuSans-1086\"/>\n     <use x=\"2792.578125\" xlink:href=\"#DejaVuSans-1090\"/>\n     <use x=\"2850.830078\" xlink:href=\"#DejaVuSans-32\"/>\n     <use x=\"2882.617188\" xlink:href=\"#DejaVuSans-1095\"/>\n     <use x=\"2941.699219\" xlink:href=\"#DejaVuSans-1080\"/>\n     <use x=\"3006.689453\" xlink:href=\"#DejaVuSans-1089\"/>\n     <use x=\"3061.669922\" xlink:href=\"#DejaVuSans-1083\"/>\n     <use x=\"3125.585938\" xlink:href=\"#DejaVuSans-1072\"/>\n     <use x=\"3186.865234\" xlink:href=\"#DejaVuSans-32\"/>\n     <use x=\"3218.652344\" xlink:href=\"#DejaVuSans-1089\"/>\n     <use x=\"3273.632812\" xlink:href=\"#DejaVuSans-1086\"/>\n     <use x=\"3334.814453\" xlink:href=\"#DejaVuSans-1089\"/>\n     <use x=\"3389.794922\" xlink:href=\"#DejaVuSans-1077\"/>\n     <use x=\"3451.318359\" xlink:href=\"#DejaVuSans-1076\"/>\n     <use x=\"3520.458984\" xlink:href=\"#DejaVuSans-1077\"/>\n     <use x=\"3581.982422\" xlink:href=\"#DejaVuSans-1081\"/>\n    </g>\n   </g>\n   <g id=\"legend_1\">\n    <g id=\"patch_27\">\n     <path d=\"M 471.19375 59.87875 \nL 551.70625 59.87875 \nQ 553.70625 59.87875 553.70625 57.87875 \nL 553.70625 29.5225 \nQ 553.70625 27.5225 551.70625 27.5225 \nL 471.19375 27.5225 \nQ 469.19375 27.5225 469.19375 29.5225 \nL 469.19375 57.87875 \nQ 469.19375 59.87875 471.19375 59.87875 \nz\n\" style=\"fill:#ffffff;opacity:0.8;stroke:#cccccc;stroke-linejoin:miter;\"/>\n    </g>\n    <g id=\"patch_28\">\n     <path d=\"M 473.19375 39.120937 \nL 493.19375 39.120937 \nL 493.19375 32.120937 \nL 473.19375 32.120937 \nz\n\" style=\"fill:#1f77b4;\"/>\n    </g>\n    <g id=\"text_22\">\n     <!-- euclidean -->\n     <defs>\n      <path d=\"M 56.203125 29.59375 \nL 56.203125 25.203125 \nL 14.890625 25.203125 \nQ 15.484375 15.921875 20.484375 11.0625 \nQ 25.484375 6.203125 34.421875 6.203125 \nQ 39.59375 6.203125 44.453125 7.46875 \nQ 49.3125 8.734375 54.109375 11.28125 \nL 54.109375 2.78125 \nQ 49.265625 0.734375 44.1875 -0.34375 \nQ 39.109375 -1.421875 33.890625 -1.421875 \nQ 20.796875 -1.421875 13.15625 6.1875 \nQ 5.515625 13.8125 5.515625 26.8125 \nQ 5.515625 40.234375 12.765625 48.109375 \nQ 20.015625 56 32.328125 56 \nQ 43.359375 56 49.78125 48.890625 \nQ 56.203125 41.796875 56.203125 29.59375 \nz\nM 47.21875 32.234375 \nQ 47.125 39.59375 43.09375 43.984375 \nQ 39.0625 48.390625 32.421875 48.390625 \nQ 24.90625 48.390625 20.390625 44.140625 \nQ 15.875 39.890625 15.1875 32.171875 \nz\n\" id=\"DejaVuSans-101\"/>\n      <path d=\"M 8.5 21.578125 \nL 8.5 54.6875 \nL 17.484375 54.6875 \nL 17.484375 21.921875 \nQ 17.484375 14.15625 20.5 10.265625 \nQ 23.53125 6.390625 29.59375 6.390625 \nQ 36.859375 6.390625 41.078125 11.03125 \nQ 45.3125 15.671875 45.3125 23.6875 \nL 45.3125 54.6875 \nL 54.296875 54.6875 \nL 54.296875 0 \nL 45.3125 0 \nL 45.3125 8.40625 \nQ 42.046875 3.421875 37.71875 1 \nQ 33.40625 -1.421875 27.6875 -1.421875 \nQ 18.265625 -1.421875 13.375 4.4375 \nQ 8.5 10.296875 8.5 21.578125 \nz\nM 31.109375 56 \nz\n\" id=\"DejaVuSans-117\"/>\n      <path d=\"M 48.78125 52.59375 \nL 48.78125 44.1875 \nQ 44.96875 46.296875 41.140625 47.34375 \nQ 37.3125 48.390625 33.40625 48.390625 \nQ 24.65625 48.390625 19.8125 42.84375 \nQ 14.984375 37.3125 14.984375 27.296875 \nQ 14.984375 17.28125 19.8125 11.734375 \nQ 24.65625 6.203125 33.40625 6.203125 \nQ 37.3125 6.203125 41.140625 7.25 \nQ 44.96875 8.296875 48.78125 10.40625 \nL 48.78125 2.09375 \nQ 45.015625 0.34375 40.984375 -0.53125 \nQ 36.96875 -1.421875 32.421875 -1.421875 \nQ 20.0625 -1.421875 12.78125 6.34375 \nQ 5.515625 14.109375 5.515625 27.296875 \nQ 5.515625 40.671875 12.859375 48.328125 \nQ 20.21875 56 33.015625 56 \nQ 37.15625 56 41.109375 55.140625 \nQ 45.0625 54.296875 48.78125 52.59375 \nz\n\" id=\"DejaVuSans-99\"/>\n      <path d=\"M 9.421875 75.984375 \nL 18.40625 75.984375 \nL 18.40625 0 \nL 9.421875 0 \nz\n\" id=\"DejaVuSans-108\"/>\n      <path d=\"M 9.421875 54.6875 \nL 18.40625 54.6875 \nL 18.40625 0 \nL 9.421875 0 \nz\nM 9.421875 75.984375 \nL 18.40625 75.984375 \nL 18.40625 64.59375 \nL 9.421875 64.59375 \nz\n\" id=\"DejaVuSans-105\"/>\n      <path d=\"M 45.40625 46.390625 \nL 45.40625 75.984375 \nL 54.390625 75.984375 \nL 54.390625 0 \nL 45.40625 0 \nL 45.40625 8.203125 \nQ 42.578125 3.328125 38.25 0.953125 \nQ 33.9375 -1.421875 27.875 -1.421875 \nQ 17.96875 -1.421875 11.734375 6.484375 \nQ 5.515625 14.40625 5.515625 27.296875 \nQ 5.515625 40.1875 11.734375 48.09375 \nQ 17.96875 56 27.875 56 \nQ 33.9375 56 38.25 53.625 \nQ 42.578125 51.265625 45.40625 46.390625 \nz\nM 14.796875 27.296875 \nQ 14.796875 17.390625 18.875 11.75 \nQ 22.953125 6.109375 30.078125 6.109375 \nQ 37.203125 6.109375 41.296875 11.75 \nQ 45.40625 17.390625 45.40625 27.296875 \nQ 45.40625 37.203125 41.296875 42.84375 \nQ 37.203125 48.484375 30.078125 48.484375 \nQ 22.953125 48.484375 18.875 42.84375 \nQ 14.796875 37.203125 14.796875 27.296875 \nz\n\" id=\"DejaVuSans-100\"/>\n      <path d=\"M 34.28125 27.484375 \nQ 23.390625 27.484375 19.1875 25 \nQ 14.984375 22.515625 14.984375 16.5 \nQ 14.984375 11.71875 18.140625 8.90625 \nQ 21.296875 6.109375 26.703125 6.109375 \nQ 34.1875 6.109375 38.703125 11.40625 \nQ 43.21875 16.703125 43.21875 25.484375 \nL 43.21875 27.484375 \nz\nM 52.203125 31.203125 \nL 52.203125 0 \nL 43.21875 0 \nL 43.21875 8.296875 \nQ 40.140625 3.328125 35.546875 0.953125 \nQ 30.953125 -1.421875 24.3125 -1.421875 \nQ 15.921875 -1.421875 10.953125 3.296875 \nQ 6 8.015625 6 15.921875 \nQ 6 25.140625 12.171875 29.828125 \nQ 18.359375 34.515625 30.609375 34.515625 \nL 43.21875 34.515625 \nL 43.21875 35.40625 \nQ 43.21875 41.609375 39.140625 45 \nQ 35.0625 48.390625 27.6875 48.390625 \nQ 23 48.390625 18.546875 47.265625 \nQ 14.109375 46.140625 10.015625 43.890625 \nL 10.015625 52.203125 \nQ 14.9375 54.109375 19.578125 55.046875 \nQ 24.21875 56 28.609375 56 \nQ 40.484375 56 46.34375 49.84375 \nQ 52.203125 43.703125 52.203125 31.203125 \nz\n\" id=\"DejaVuSans-97\"/>\n      <path d=\"M 54.890625 33.015625 \nL 54.890625 0 \nL 45.90625 0 \nL 45.90625 32.71875 \nQ 45.90625 40.484375 42.875 44.328125 \nQ 39.84375 48.1875 33.796875 48.1875 \nQ 26.515625 48.1875 22.3125 43.546875 \nQ 18.109375 38.921875 18.109375 30.90625 \nL 18.109375 0 \nL 9.078125 0 \nL 9.078125 54.6875 \nL 18.109375 54.6875 \nL 18.109375 46.1875 \nQ 21.34375 51.125 25.703125 53.5625 \nQ 30.078125 56 35.796875 56 \nQ 45.21875 56 50.046875 50.171875 \nQ 54.890625 44.34375 54.890625 33.015625 \nz\n\" id=\"DejaVuSans-110\"/>\n     </defs>\n     <g transform=\"translate(501.19375 39.120937)scale(0.1 -0.1)\">\n      <use xlink:href=\"#DejaVuSans-101\"/>\n      <use x=\"61.523438\" xlink:href=\"#DejaVuSans-117\"/>\n      <use x=\"124.902344\" xlink:href=\"#DejaVuSans-99\"/>\n      <use x=\"179.882812\" xlink:href=\"#DejaVuSans-108\"/>\n      <use x=\"207.666016\" xlink:href=\"#DejaVuSans-105\"/>\n      <use x=\"235.449219\" xlink:href=\"#DejaVuSans-100\"/>\n      <use x=\"298.925781\" xlink:href=\"#DejaVuSans-101\"/>\n      <use x=\"360.449219\" xlink:href=\"#DejaVuSans-97\"/>\n      <use x=\"421.728516\" xlink:href=\"#DejaVuSans-110\"/>\n     </g>\n    </g>\n    <g id=\"patch_29\">\n     <path d=\"M 473.19375 53.799062 \nL 493.19375 53.799062 \nL 493.19375 46.799062 \nL 473.19375 46.799062 \nz\n\" style=\"fill:#ff7f0e;\"/>\n    </g>\n    <g id=\"text_23\">\n     <!-- cosine -->\n     <defs>\n      <path d=\"M 30.609375 48.390625 \nQ 23.390625 48.390625 19.1875 42.75 \nQ 14.984375 37.109375 14.984375 27.296875 \nQ 14.984375 17.484375 19.15625 11.84375 \nQ 23.34375 6.203125 30.609375 6.203125 \nQ 37.796875 6.203125 41.984375 11.859375 \nQ 46.1875 17.53125 46.1875 27.296875 \nQ 46.1875 37.015625 41.984375 42.703125 \nQ 37.796875 48.390625 30.609375 48.390625 \nz\nM 30.609375 56 \nQ 42.328125 56 49.015625 48.375 \nQ 55.71875 40.765625 55.71875 27.296875 \nQ 55.71875 13.875 49.015625 6.21875 \nQ 42.328125 -1.421875 30.609375 -1.421875 \nQ 18.84375 -1.421875 12.171875 6.21875 \nQ 5.515625 13.875 5.515625 27.296875 \nQ 5.515625 40.765625 12.171875 48.375 \nQ 18.84375 56 30.609375 56 \nz\n\" id=\"DejaVuSans-111\"/>\n      <path d=\"M 44.28125 53.078125 \nL 44.28125 44.578125 \nQ 40.484375 46.53125 36.375 47.5 \nQ 32.28125 48.484375 27.875 48.484375 \nQ 21.1875 48.484375 17.84375 46.4375 \nQ 14.5 44.390625 14.5 40.28125 \nQ 14.5 37.15625 16.890625 35.375 \nQ 19.28125 33.59375 26.515625 31.984375 \nL 29.59375 31.296875 \nQ 39.15625 29.25 43.1875 25.515625 \nQ 47.21875 21.78125 47.21875 15.09375 \nQ 47.21875 7.46875 41.1875 3.015625 \nQ 35.15625 -1.421875 24.609375 -1.421875 \nQ 20.21875 -1.421875 15.453125 -0.5625 \nQ 10.6875 0.296875 5.421875 2 \nL 5.421875 11.28125 \nQ 10.40625 8.6875 15.234375 7.390625 \nQ 20.0625 6.109375 24.8125 6.109375 \nQ 31.15625 6.109375 34.5625 8.28125 \nQ 37.984375 10.453125 37.984375 14.40625 \nQ 37.984375 18.0625 35.515625 20.015625 \nQ 33.0625 21.96875 24.703125 23.78125 \nL 21.578125 24.515625 \nQ 13.234375 26.265625 9.515625 29.90625 \nQ 5.8125 33.546875 5.8125 39.890625 \nQ 5.8125 47.609375 11.28125 51.796875 \nQ 16.75 56 26.8125 56 \nQ 31.78125 56 36.171875 55.265625 \nQ 40.578125 54.546875 44.28125 53.078125 \nz\n\" id=\"DejaVuSans-115\"/>\n     </defs>\n     <g transform=\"translate(501.19375 53.799062)scale(0.1 -0.1)\">\n      <use xlink:href=\"#DejaVuSans-99\"/>\n      <use x=\"54.980469\" xlink:href=\"#DejaVuSans-111\"/>\n      <use x=\"116.162109\" xlink:href=\"#DejaVuSans-115\"/>\n      <use x=\"168.261719\" xlink:href=\"#DejaVuSans-105\"/>\n      <use x=\"196.044922\" xlink:href=\"#DejaVuSans-110\"/>\n      <use x=\"259.423828\" xlink:href=\"#DejaVuSans-101\"/>\n     </g>\n    </g>\n   </g>\n  </g>\n </g>\n <defs>\n  <clipPath id=\"pf38d9cf8c9\">\n   <rect height=\"380.52\" width=\"502.2\" x=\"56.50625\" y=\"22.5225\"/>\n  </clipPath>\n </defs>\n</svg>\n"
          },
          "metadata": {
            "needs_background": "light"
          }
        },
        {
          "output_type": "display_data",
          "data": {
            "text/plain": [
              "<Figure size 432x288 with 0 Axes>"
            ]
          },
          "metadata": {}
        }
      ]
    },
    {
      "cell_type": "code",
      "metadata": {
        "colab": {
          "base_uri": "https://localhost:8080/",
          "height": 749
        },
        "id": "JqBQxRv4s8Em",
        "outputId": "bd650208-a277-4684-d5ce-f383986c7f69"
      },
      "source": [
        "plt.figure(figsize=(9,7))\n",
        "\n",
        "plt.title('Время работы алгоритма в зависимости от параметров')\n",
        "\n",
        "width = 0.35\n",
        "\n",
        "idx = np.arange(1,5)\n",
        "\n",
        "plt.bar(idx[0], time_eucl, width, label='euclidean, without weights')\n",
        "plt.bar(idx[1], time_cos, width, label='cosine, without weights')\n",
        "plt.bar(idx[2], wtime_eucl, width, label='euclidean, with weights')\n",
        "plt.bar(idx[3], wtime_cos, width, label='cosine, with weights')\n",
        "\n",
        "plt.xticks(idx, ['euclidean, without weights', 'cosine, without weights', 'euclidean, with weights', 'cosine, with weights'], rotation=45)\n",
        "\n",
        "plt.ylim([225,350])\n",
        "\n",
        "plt.xlabel('Параметры')\n",
        "plt.ylabel('Время')\n",
        "\n",
        "plt.legend(fontsize=10)\n",
        "\n",
        "plt.savefig('graph3.svg')\n",
        "plt.savefig('graph3.pdf')\n",
        "plt.show()\n"
      ],
      "execution_count": null,
      "outputs": [
        {
          "output_type": "display_data",
          "data": {
            "application/pdf": "[encoded data removed]",
            "text/plain": [
              "<Figure size 648x504 with 1 Axes>"
            ],
            "image/svg+xml": "<?xml version=\"1.0\" encoding=\"utf-8\" standalone=\"no\"?>\n<!DOCTYPE svg PUBLIC \"-//W3C//DTD SVG 1.1//EN\"\n  \"http://www.w3.org/Graphics/SVG/1.1/DTD/svg11.dtd\">\n<!-- Created with matplotlib (https://matplotlib.org/) -->\n<svg height=\"532.914149pt\" version=\"1.1\" viewBox=\"0 0 556.365625 532.914149\" width=\"556.365625pt\" xmlns=\"http://www.w3.org/2000/svg\" xmlns:xlink=\"http://www.w3.org/1999/xlink\">\n <defs>\n  <style type=\"text/css\">\n*{stroke-linecap:butt;stroke-linejoin:round;}\n  </style>\n </defs>\n <g id=\"figure_1\">\n  <g id=\"patch_1\">\n   <path d=\"M 0 532.914149 \nL 556.365625 532.914149 \nL 556.365625 0 \nL 0 0 \nz\n\" style=\"fill:none;\"/>\n  </g>\n  <g id=\"axes_1\">\n   <g id=\"patch_2\">\n    <path d=\"M 46.965625 403.0425 \nL 549.165625 403.0425 \nL 549.165625 22.5225 \nL 46.965625 22.5225 \nz\n\" style=\"fill:#ffffff;\"/>\n   </g>\n   <g id=\"patch_3\">\n    <path clip-path=\"url(#p4c9d3ce1f8)\" d=\"M 69.792898 1087.9785 \nL 117.491677 1087.9785 \nL 117.491677 333.407926 \nL 69.792898 333.407926 \nz\n\" style=\"fill:#1f77b4;\"/>\n   </g>\n   <g id=\"patch_4\">\n    <path clip-path=\"url(#p4c9d3ce1f8)\" d=\"M 206.075123 1087.9785 \nL 253.773902 1087.9785 \nL 253.773902 117.645366 \nL 206.075123 117.645366 \nz\n\" style=\"fill:#ff7f0e;\"/>\n   </g>\n   <g id=\"patch_5\">\n    <path clip-path=\"url(#p4c9d3ce1f8)\" d=\"M 342.357348 1087.9785 \nL 390.056127 1087.9785 \nL 390.056127 322.672399 \nL 342.357348 322.672399 \nz\n\" style=\"fill:#2ca02c;\"/>\n   </g>\n   <g id=\"patch_6\">\n    <path clip-path=\"url(#p4c9d3ce1f8)\" d=\"M 478.639573 1087.9785 \nL 526.338352 1087.9785 \nL 526.338352 112.942828 \nL 478.639573 112.942828 \nz\n\" style=\"fill:#d62728;\"/>\n   </g>\n   <g id=\"matplotlib.axis_1\">\n    <g id=\"xtick_1\">\n     <g id=\"line2d_1\">\n      <defs>\n       <path d=\"M 0 0 \nL 0 3.5 \n\" id=\"m47b1e64d76\" style=\"stroke:#000000;stroke-width:0.8;\"/>\n      </defs>\n      <g>\n       <use style=\"stroke:#000000;stroke-width:0.8;\" x=\"93.642287\" xlink:href=\"#m47b1e64d76\" y=\"403.0425\"/>\n      </g>\n     </g>\n     <g id=\"text_1\">\n      <!-- euclidean, without weights -->\n      <defs>\n       <path d=\"M 56.203125 29.59375 \nL 56.203125 25.203125 \nL 14.890625 25.203125 \nQ 15.484375 15.921875 20.484375 11.0625 \nQ 25.484375 6.203125 34.421875 6.203125 \nQ 39.59375 6.203125 44.453125 7.46875 \nQ 49.3125 8.734375 54.109375 11.28125 \nL 54.109375 2.78125 \nQ 49.265625 0.734375 44.1875 -0.34375 \nQ 39.109375 -1.421875 33.890625 -1.421875 \nQ 20.796875 -1.421875 13.15625 6.1875 \nQ 5.515625 13.8125 5.515625 26.8125 \nQ 5.515625 40.234375 12.765625 48.109375 \nQ 20.015625 56 32.328125 56 \nQ 43.359375 56 49.78125 48.890625 \nQ 56.203125 41.796875 56.203125 29.59375 \nz\nM 47.21875 32.234375 \nQ 47.125 39.59375 43.09375 43.984375 \nQ 39.0625 48.390625 32.421875 48.390625 \nQ 24.90625 48.390625 20.390625 44.140625 \nQ 15.875 39.890625 15.1875 32.171875 \nz\n\" id=\"DejaVuSans-101\"/>\n       <path d=\"M 8.5 21.578125 \nL 8.5 54.6875 \nL 17.484375 54.6875 \nL 17.484375 21.921875 \nQ 17.484375 14.15625 20.5 10.265625 \nQ 23.53125 6.390625 29.59375 6.390625 \nQ 36.859375 6.390625 41.078125 11.03125 \nQ 45.3125 15.671875 45.3125 23.6875 \nL 45.3125 54.6875 \nL 54.296875 54.6875 \nL 54.296875 0 \nL 45.3125 0 \nL 45.3125 8.40625 \nQ 42.046875 3.421875 37.71875 1 \nQ 33.40625 -1.421875 27.6875 -1.421875 \nQ 18.265625 -1.421875 13.375 4.4375 \nQ 8.5 10.296875 8.5 21.578125 \nz\nM 31.109375 56 \nz\n\" id=\"DejaVuSans-117\"/>\n       <path d=\"M 48.78125 52.59375 \nL 48.78125 44.1875 \nQ 44.96875 46.296875 41.140625 47.34375 \nQ 37.3125 48.390625 33.40625 48.390625 \nQ 24.65625 48.390625 19.8125 42.84375 \nQ 14.984375 37.3125 14.984375 27.296875 \nQ 14.984375 17.28125 19.8125 11.734375 \nQ 24.65625 6.203125 33.40625 6.203125 \nQ 37.3125 6.203125 41.140625 7.25 \nQ 44.96875 8.296875 48.78125 10.40625 \nL 48.78125 2.09375 \nQ 45.015625 0.34375 40.984375 -0.53125 \nQ 36.96875 -1.421875 32.421875 -1.421875 \nQ 20.0625 -1.421875 12.78125 6.34375 \nQ 5.515625 14.109375 5.515625 27.296875 \nQ 5.515625 40.671875 12.859375 48.328125 \nQ 20.21875 56 33.015625 56 \nQ 37.15625 56 41.109375 55.140625 \nQ 45.0625 54.296875 48.78125 52.59375 \nz\n\" id=\"DejaVuSans-99\"/>\n       <path d=\"M 9.421875 75.984375 \nL 18.40625 75.984375 \nL 18.40625 0 \nL 9.421875 0 \nz\n\" id=\"DejaVuSans-108\"/>\n       <path d=\"M 9.421875 54.6875 \nL 18.40625 54.6875 \nL 18.40625 0 \nL 9.421875 0 \nz\nM 9.421875 75.984375 \nL 18.40625 75.984375 \nL 18.40625 64.59375 \nL 9.421875 64.59375 \nz\n\" id=\"DejaVuSans-105\"/>\n       <path d=\"M 45.40625 46.390625 \nL 45.40625 75.984375 \nL 54.390625 75.984375 \nL 54.390625 0 \nL 45.40625 0 \nL 45.40625 8.203125 \nQ 42.578125 3.328125 38.25 0.953125 \nQ 33.9375 -1.421875 27.875 -1.421875 \nQ 17.96875 -1.421875 11.734375 6.484375 \nQ 5.515625 14.40625 5.515625 27.296875 \nQ 5.515625 40.1875 11.734375 48.09375 \nQ 17.96875 56 27.875 56 \nQ 33.9375 56 38.25 53.625 \nQ 42.578125 51.265625 45.40625 46.390625 \nz\nM 14.796875 27.296875 \nQ 14.796875 17.390625 18.875 11.75 \nQ 22.953125 6.109375 30.078125 6.109375 \nQ 37.203125 6.109375 41.296875 11.75 \nQ 45.40625 17.390625 45.40625 27.296875 \nQ 45.40625 37.203125 41.296875 42.84375 \nQ 37.203125 48.484375 30.078125 48.484375 \nQ 22.953125 48.484375 18.875 42.84375 \nQ 14.796875 37.203125 14.796875 27.296875 \nz\n\" id=\"DejaVuSans-100\"/>\n       <path d=\"M 34.28125 27.484375 \nQ 23.390625 27.484375 19.1875 25 \nQ 14.984375 22.515625 14.984375 16.5 \nQ 14.984375 11.71875 18.140625 8.90625 \nQ 21.296875 6.109375 26.703125 6.109375 \nQ 34.1875 6.109375 38.703125 11.40625 \nQ 43.21875 16.703125 43.21875 25.484375 \nL 43.21875 27.484375 \nz\nM 52.203125 31.203125 \nL 52.203125 0 \nL 43.21875 0 \nL 43.21875 8.296875 \nQ 40.140625 3.328125 35.546875 0.953125 \nQ 30.953125 -1.421875 24.3125 -1.421875 \nQ 15.921875 -1.421875 10.953125 3.296875 \nQ 6 8.015625 6 15.921875 \nQ 6 25.140625 12.171875 29.828125 \nQ 18.359375 34.515625 30.609375 34.515625 \nL 43.21875 34.515625 \nL 43.21875 35.40625 \nQ 43.21875 41.609375 39.140625 45 \nQ 35.0625 48.390625 27.6875 48.390625 \nQ 23 48.390625 18.546875 47.265625 \nQ 14.109375 46.140625 10.015625 43.890625 \nL 10.015625 52.203125 \nQ 14.9375 54.109375 19.578125 55.046875 \nQ 24.21875 56 28.609375 56 \nQ 40.484375 56 46.34375 49.84375 \nQ 52.203125 43.703125 52.203125 31.203125 \nz\n\" id=\"DejaVuSans-97\"/>\n       <path d=\"M 54.890625 33.015625 \nL 54.890625 0 \nL 45.90625 0 \nL 45.90625 32.71875 \nQ 45.90625 40.484375 42.875 44.328125 \nQ 39.84375 48.1875 33.796875 48.1875 \nQ 26.515625 48.1875 22.3125 43.546875 \nQ 18.109375 38.921875 18.109375 30.90625 \nL 18.109375 0 \nL 9.078125 0 \nL 9.078125 54.6875 \nL 18.109375 54.6875 \nL 18.109375 46.1875 \nQ 21.34375 51.125 25.703125 53.5625 \nQ 30.078125 56 35.796875 56 \nQ 45.21875 56 50.046875 50.171875 \nQ 54.890625 44.34375 54.890625 33.015625 \nz\n\" id=\"DejaVuSans-110\"/>\n       <path d=\"M 11.71875 12.40625 \nL 22.015625 12.40625 \nL 22.015625 4 \nL 14.015625 -11.625 \nL 7.71875 -11.625 \nL 11.71875 4 \nz\n\" id=\"DejaVuSans-44\"/>\n       <path id=\"DejaVuSans-32\"/>\n       <path d=\"M 4.203125 54.6875 \nL 13.1875 54.6875 \nL 24.421875 12.015625 \nL 35.59375 54.6875 \nL 46.1875 54.6875 \nL 57.421875 12.015625 \nL 68.609375 54.6875 \nL 77.59375 54.6875 \nL 63.28125 0 \nL 52.6875 0 \nL 40.921875 44.828125 \nL 29.109375 0 \nL 18.5 0 \nz\n\" id=\"DejaVuSans-119\"/>\n       <path d=\"M 18.3125 70.21875 \nL 18.3125 54.6875 \nL 36.8125 54.6875 \nL 36.8125 47.703125 \nL 18.3125 47.703125 \nL 18.3125 18.015625 \nQ 18.3125 11.328125 20.140625 9.421875 \nQ 21.96875 7.515625 27.59375 7.515625 \nL 36.8125 7.515625 \nL 36.8125 0 \nL 27.59375 0 \nQ 17.1875 0 13.234375 3.875 \nQ 9.28125 7.765625 9.28125 18.015625 \nL 9.28125 47.703125 \nL 2.6875 47.703125 \nL 2.6875 54.6875 \nL 9.28125 54.6875 \nL 9.28125 70.21875 \nz\n\" id=\"DejaVuSans-116\"/>\n       <path d=\"M 54.890625 33.015625 \nL 54.890625 0 \nL 45.90625 0 \nL 45.90625 32.71875 \nQ 45.90625 40.484375 42.875 44.328125 \nQ 39.84375 48.1875 33.796875 48.1875 \nQ 26.515625 48.1875 22.3125 43.546875 \nQ 18.109375 38.921875 18.109375 30.90625 \nL 18.109375 0 \nL 9.078125 0 \nL 9.078125 75.984375 \nL 18.109375 75.984375 \nL 18.109375 46.1875 \nQ 21.34375 51.125 25.703125 53.5625 \nQ 30.078125 56 35.796875 56 \nQ 45.21875 56 50.046875 50.171875 \nQ 54.890625 44.34375 54.890625 33.015625 \nz\n\" id=\"DejaVuSans-104\"/>\n       <path d=\"M 30.609375 48.390625 \nQ 23.390625 48.390625 19.1875 42.75 \nQ 14.984375 37.109375 14.984375 27.296875 \nQ 14.984375 17.484375 19.15625 11.84375 \nQ 23.34375 6.203125 30.609375 6.203125 \nQ 37.796875 6.203125 41.984375 11.859375 \nQ 46.1875 17.53125 46.1875 27.296875 \nQ 46.1875 37.015625 41.984375 42.703125 \nQ 37.796875 48.390625 30.609375 48.390625 \nz\nM 30.609375 56 \nQ 42.328125 56 49.015625 48.375 \nQ 55.71875 40.765625 55.71875 27.296875 \nQ 55.71875 13.875 49.015625 6.21875 \nQ 42.328125 -1.421875 30.609375 -1.421875 \nQ 18.84375 -1.421875 12.171875 6.21875 \nQ 5.515625 13.875 5.515625 27.296875 \nQ 5.515625 40.765625 12.171875 48.375 \nQ 18.84375 56 30.609375 56 \nz\n\" id=\"DejaVuSans-111\"/>\n       <path d=\"M 45.40625 27.984375 \nQ 45.40625 37.75 41.375 43.109375 \nQ 37.359375 48.484375 30.078125 48.484375 \nQ 22.859375 48.484375 18.828125 43.109375 \nQ 14.796875 37.75 14.796875 27.984375 \nQ 14.796875 18.265625 18.828125 12.890625 \nQ 22.859375 7.515625 30.078125 7.515625 \nQ 37.359375 7.515625 41.375 12.890625 \nQ 45.40625 18.265625 45.40625 27.984375 \nz\nM 54.390625 6.78125 \nQ 54.390625 -7.171875 48.1875 -13.984375 \nQ 42 -20.796875 29.203125 -20.796875 \nQ 24.46875 -20.796875 20.265625 -20.09375 \nQ 16.0625 -19.390625 12.109375 -17.921875 \nL 12.109375 -9.1875 \nQ 16.0625 -11.328125 19.921875 -12.34375 \nQ 23.78125 -13.375 27.78125 -13.375 \nQ 36.625 -13.375 41.015625 -8.765625 \nQ 45.40625 -4.15625 45.40625 5.171875 \nL 45.40625 9.625 \nQ 42.625 4.78125 38.28125 2.390625 \nQ 33.9375 0 27.875 0 \nQ 17.828125 0 11.671875 7.65625 \nQ 5.515625 15.328125 5.515625 27.984375 \nQ 5.515625 40.671875 11.671875 48.328125 \nQ 17.828125 56 27.875 56 \nQ 33.9375 56 38.28125 53.609375 \nQ 42.625 51.21875 45.40625 46.390625 \nL 45.40625 54.6875 \nL 54.390625 54.6875 \nz\n\" id=\"DejaVuSans-103\"/>\n       <path d=\"M 44.28125 53.078125 \nL 44.28125 44.578125 \nQ 40.484375 46.53125 36.375 47.5 \nQ 32.28125 48.484375 27.875 48.484375 \nQ 21.1875 48.484375 17.84375 46.4375 \nQ 14.5 44.390625 14.5 40.28125 \nQ 14.5 37.15625 16.890625 35.375 \nQ 19.28125 33.59375 26.515625 31.984375 \nL 29.59375 31.296875 \nQ 39.15625 29.25 43.1875 25.515625 \nQ 47.21875 21.78125 47.21875 15.09375 \nQ 47.21875 7.46875 41.1875 3.015625 \nQ 35.15625 -1.421875 24.609375 -1.421875 \nQ 20.21875 -1.421875 15.453125 -0.5625 \nQ 10.6875 0.296875 5.421875 2 \nL 5.421875 11.28125 \nQ 10.40625 8.6875 15.234375 7.390625 \nQ 20.0625 6.109375 24.8125 6.109375 \nQ 31.15625 6.109375 34.5625 8.28125 \nQ 37.984375 10.453125 37.984375 14.40625 \nQ 37.984375 18.0625 35.515625 20.015625 \nQ 33.0625 21.96875 24.703125 23.78125 \nL 21.578125 24.515625 \nQ 13.234375 26.265625 9.515625 29.90625 \nQ 5.8125 33.546875 5.8125 39.890625 \nQ 5.8125 47.609375 11.28125 51.796875 \nQ 16.75 56 26.8125 56 \nQ 31.78125 56 36.171875 55.265625 \nQ 40.578125 54.546875 44.28125 53.078125 \nz\n\" id=\"DejaVuSans-115\"/>\n      </defs>\n      <g transform=\"translate(48.018432 510.565463)rotate(-45)scale(0.1 -0.1)\">\n       <use xlink:href=\"#DejaVuSans-101\"/>\n       <use x=\"61.523438\" xlink:href=\"#DejaVuSans-117\"/>\n       <use x=\"124.902344\" xlink:href=\"#DejaVuSans-99\"/>\n       <use x=\"179.882812\" xlink:href=\"#DejaVuSans-108\"/>\n       <use x=\"207.666016\" xlink:href=\"#DejaVuSans-105\"/>\n       <use x=\"235.449219\" xlink:href=\"#DejaVuSans-100\"/>\n       <use x=\"298.925781\" xlink:href=\"#DejaVuSans-101\"/>\n       <use x=\"360.449219\" xlink:href=\"#DejaVuSans-97\"/>\n       <use x=\"421.728516\" xlink:href=\"#DejaVuSans-110\"/>\n       <use x=\"485.107422\" xlink:href=\"#DejaVuSans-44\"/>\n       <use x=\"516.894531\" xlink:href=\"#DejaVuSans-32\"/>\n       <use x=\"548.681641\" xlink:href=\"#DejaVuSans-119\"/>\n       <use x=\"630.46875\" xlink:href=\"#DejaVuSans-105\"/>\n       <use x=\"658.251953\" xlink:href=\"#DejaVuSans-116\"/>\n       <use x=\"697.460938\" xlink:href=\"#DejaVuSans-104\"/>\n       <use x=\"760.839844\" xlink:href=\"#DejaVuSans-111\"/>\n       <use x=\"822.021484\" xlink:href=\"#DejaVuSans-117\"/>\n       <use x=\"885.400391\" xlink:href=\"#DejaVuSans-116\"/>\n       <use x=\"924.609375\" xlink:href=\"#DejaVuSans-32\"/>\n       <use x=\"956.396484\" xlink:href=\"#DejaVuSans-119\"/>\n       <use x=\"1038.183594\" xlink:href=\"#DejaVuSans-101\"/>\n       <use x=\"1099.707031\" xlink:href=\"#DejaVuSans-105\"/>\n       <use x=\"1127.490234\" xlink:href=\"#DejaVuSans-103\"/>\n       <use x=\"1190.966797\" xlink:href=\"#DejaVuSans-104\"/>\n       <use x=\"1254.345703\" xlink:href=\"#DejaVuSans-116\"/>\n       <use x=\"1293.554688\" xlink:href=\"#DejaVuSans-115\"/>\n      </g>\n     </g>\n    </g>\n    <g id=\"xtick_2\">\n     <g id=\"line2d_2\">\n      <g>\n       <use style=\"stroke:#000000;stroke-width:0.8;\" x=\"229.924512\" xlink:href=\"#m47b1e64d76\" y=\"403.0425\"/>\n      </g>\n     </g>\n     <g id=\"text_2\">\n      <!-- cosine, without weights -->\n      <g transform=\"translate(190.105009 498.956758)rotate(-45)scale(0.1 -0.1)\">\n       <use xlink:href=\"#DejaVuSans-99\"/>\n       <use x=\"54.980469\" xlink:href=\"#DejaVuSans-111\"/>\n       <use x=\"116.162109\" xlink:href=\"#DejaVuSans-115\"/>\n       <use x=\"168.261719\" xlink:href=\"#DejaVuSans-105\"/>\n       <use x=\"196.044922\" xlink:href=\"#DejaVuSans-110\"/>\n       <use x=\"259.423828\" xlink:href=\"#DejaVuSans-101\"/>\n       <use x=\"320.947266\" xlink:href=\"#DejaVuSans-44\"/>\n       <use x=\"352.734375\" xlink:href=\"#DejaVuSans-32\"/>\n       <use x=\"384.521484\" xlink:href=\"#DejaVuSans-119\"/>\n       <use x=\"466.308594\" xlink:href=\"#DejaVuSans-105\"/>\n       <use x=\"494.091797\" xlink:href=\"#DejaVuSans-116\"/>\n       <use x=\"533.300781\" xlink:href=\"#DejaVuSans-104\"/>\n       <use x=\"596.679688\" xlink:href=\"#DejaVuSans-111\"/>\n       <use x=\"657.861328\" xlink:href=\"#DejaVuSans-117\"/>\n       <use x=\"721.240234\" xlink:href=\"#DejaVuSans-116\"/>\n       <use x=\"760.449219\" xlink:href=\"#DejaVuSans-32\"/>\n       <use x=\"792.236328\" xlink:href=\"#DejaVuSans-119\"/>\n       <use x=\"874.023438\" xlink:href=\"#DejaVuSans-101\"/>\n       <use x=\"935.546875\" xlink:href=\"#DejaVuSans-105\"/>\n       <use x=\"963.330078\" xlink:href=\"#DejaVuSans-103\"/>\n       <use x=\"1026.806641\" xlink:href=\"#DejaVuSans-104\"/>\n       <use x=\"1090.185547\" xlink:href=\"#DejaVuSans-116\"/>\n       <use x=\"1129.394531\" xlink:href=\"#DejaVuSans-115\"/>\n      </g>\n     </g>\n    </g>\n    <g id=\"xtick_3\">\n     <g id=\"line2d_3\">\n      <g>\n       <use style=\"stroke:#000000;stroke-width:0.8;\" x=\"366.206738\" xlink:href=\"#m47b1e64d76\" y=\"403.0425\"/>\n      </g>\n     </g>\n     <g id=\"text_3\">\n      <!-- euclidean, with weights -->\n      <g transform=\"translate(326.372871 498.985485)rotate(-45)scale(0.1 -0.1)\">\n       <use xlink:href=\"#DejaVuSans-101\"/>\n       <use x=\"61.523438\" xlink:href=\"#DejaVuSans-117\"/>\n       <use x=\"124.902344\" xlink:href=\"#DejaVuSans-99\"/>\n       <use x=\"179.882812\" xlink:href=\"#DejaVuSans-108\"/>\n       <use x=\"207.666016\" xlink:href=\"#DejaVuSans-105\"/>\n       <use x=\"235.449219\" xlink:href=\"#DejaVuSans-100\"/>\n       <use x=\"298.925781\" xlink:href=\"#DejaVuSans-101\"/>\n       <use x=\"360.449219\" xlink:href=\"#DejaVuSans-97\"/>\n       <use x=\"421.728516\" xlink:href=\"#DejaVuSans-110\"/>\n       <use x=\"485.107422\" xlink:href=\"#DejaVuSans-44\"/>\n       <use x=\"516.894531\" xlink:href=\"#DejaVuSans-32\"/>\n       <use x=\"548.681641\" xlink:href=\"#DejaVuSans-119\"/>\n       <use x=\"630.46875\" xlink:href=\"#DejaVuSans-105\"/>\n       <use x=\"658.251953\" xlink:href=\"#DejaVuSans-116\"/>\n       <use x=\"697.460938\" xlink:href=\"#DejaVuSans-104\"/>\n       <use x=\"760.839844\" xlink:href=\"#DejaVuSans-32\"/>\n       <use x=\"792.626953\" xlink:href=\"#DejaVuSans-119\"/>\n       <use x=\"874.414062\" xlink:href=\"#DejaVuSans-101\"/>\n       <use x=\"935.9375\" xlink:href=\"#DejaVuSans-105\"/>\n       <use x=\"963.720703\" xlink:href=\"#DejaVuSans-103\"/>\n       <use x=\"1027.197266\" xlink:href=\"#DejaVuSans-104\"/>\n       <use x=\"1090.576172\" xlink:href=\"#DejaVuSans-116\"/>\n       <use x=\"1129.785156\" xlink:href=\"#DejaVuSans-115\"/>\n      </g>\n     </g>\n    </g>\n    <g id=\"xtick_4\">\n     <g id=\"line2d_4\">\n      <g>\n       <use style=\"stroke:#000000;stroke-width:0.8;\" x=\"502.488963\" xlink:href=\"#m47b1e64d76\" y=\"403.0425\"/>\n      </g>\n     </g>\n     <g id=\"text_4\">\n      <!-- cosine, with weights -->\n      <g transform=\"translate(468.459449 487.37678)rotate(-45)scale(0.1 -0.1)\">\n       <use xlink:href=\"#DejaVuSans-99\"/>\n       <use x=\"54.980469\" xlink:href=\"#DejaVuSans-111\"/>\n       <use x=\"116.162109\" xlink:href=\"#DejaVuSans-115\"/>\n       <use x=\"168.261719\" xlink:href=\"#DejaVuSans-105\"/>\n       <use x=\"196.044922\" xlink:href=\"#DejaVuSans-110\"/>\n       <use x=\"259.423828\" xlink:href=\"#DejaVuSans-101\"/>\n       <use x=\"320.947266\" xlink:href=\"#DejaVuSans-44\"/>\n       <use x=\"352.734375\" xlink:href=\"#DejaVuSans-32\"/>\n       <use x=\"384.521484\" xlink:href=\"#DejaVuSans-119\"/>\n       <use x=\"466.308594\" xlink:href=\"#DejaVuSans-105\"/>\n       <use x=\"494.091797\" xlink:href=\"#DejaVuSans-116\"/>\n       <use x=\"533.300781\" xlink:href=\"#DejaVuSans-104\"/>\n       <use x=\"596.679688\" xlink:href=\"#DejaVuSans-32\"/>\n       <use x=\"628.466797\" xlink:href=\"#DejaVuSans-119\"/>\n       <use x=\"710.253906\" xlink:href=\"#DejaVuSans-101\"/>\n       <use x=\"771.777344\" xlink:href=\"#DejaVuSans-105\"/>\n       <use x=\"799.560547\" xlink:href=\"#DejaVuSans-103\"/>\n       <use x=\"863.037109\" xlink:href=\"#DejaVuSans-104\"/>\n       <use x=\"926.416016\" xlink:href=\"#DejaVuSans-116\"/>\n       <use x=\"965.625\" xlink:href=\"#DejaVuSans-115\"/>\n      </g>\n     </g>\n    </g>\n    <g id=\"text_5\">\n     <!-- Параметры -->\n     <defs>\n      <path d=\"M 65.375 72.90625 \nL 65.375 0 \nL 55.515625 0 \nL 55.515625 64.59375 \nL 19.671875 64.59375 \nL 19.671875 0 \nL 9.8125 0 \nL 9.8125 72.90625 \nz\n\" id=\"DejaVuSans-1055\"/>\n      <path d=\"M 34.28125 27.484375 \nQ 23.390625 27.484375 19.1875 25 \nQ 14.984375 22.515625 14.984375 16.5 \nQ 14.984375 11.71875 18.140625 8.90625 \nQ 21.296875 6.109375 26.703125 6.109375 \nQ 34.1875 6.109375 38.703125 11.40625 \nQ 43.21875 16.703125 43.21875 25.484375 \nL 43.21875 27.484375 \nz\nM 52.203125 31.203125 \nL 52.203125 0 \nL 43.21875 0 \nL 43.21875 8.296875 \nQ 40.140625 3.328125 35.546875 0.953125 \nQ 30.953125 -1.421875 24.3125 -1.421875 \nQ 15.921875 -1.421875 10.953125 3.296875 \nQ 6 8.015625 6 15.921875 \nQ 6 25.140625 12.171875 29.828125 \nQ 18.359375 34.515625 30.609375 34.515625 \nL 43.21875 34.515625 \nL 43.21875 35.40625 \nQ 43.21875 41.609375 39.140625 45 \nQ 35.0625 48.390625 27.6875 48.390625 \nQ 23 48.390625 18.546875 47.265625 \nQ 14.109375 46.140625 10.015625 43.890625 \nL 10.015625 52.203125 \nQ 14.9375 54.109375 19.578125 55.046875 \nQ 24.21875 56 28.609375 56 \nQ 40.484375 56 46.34375 49.84375 \nQ 52.203125 43.703125 52.203125 31.203125 \nz\n\" id=\"DejaVuSans-1072\"/>\n      <path d=\"M 18.109375 8.203125 \nL 18.109375 -20.796875 \nL 9.078125 -20.796875 \nL 9.078125 54.6875 \nL 18.109375 54.6875 \nL 18.109375 46.390625 \nQ 20.953125 51.265625 25.265625 53.625 \nQ 29.59375 56 35.59375 56 \nQ 45.5625 56 51.78125 48.09375 \nQ 58.015625 40.1875 58.015625 27.296875 \nQ 58.015625 14.40625 51.78125 6.484375 \nQ 45.5625 -1.421875 35.59375 -1.421875 \nQ 29.59375 -1.421875 25.265625 0.953125 \nQ 20.953125 3.328125 18.109375 8.203125 \nz\nM 48.6875 27.296875 \nQ 48.6875 37.203125 44.609375 42.84375 \nQ 40.53125 48.484375 33.40625 48.484375 \nQ 26.265625 48.484375 22.1875 42.84375 \nQ 18.109375 37.203125 18.109375 27.296875 \nQ 18.109375 17.390625 22.1875 11.75 \nQ 26.265625 6.109375 33.40625 6.109375 \nQ 40.53125 6.109375 44.609375 11.75 \nQ 48.6875 17.390625 48.6875 27.296875 \nz\n\" id=\"DejaVuSans-1088\"/>\n      <path d=\"M 9.078125 54.6875 \nL 22.21875 54.6875 \nL 37.75 18.0625 \nL 53.328125 54.6875 \nL 66.359375 54.6875 \nL 66.359375 0 \nL 57.328125 0 \nL 57.328125 46.09375 \nL 42.234375 10.5 \nL 33.25 10.5 \nL 18.109375 46.09375 \nL 18.109375 0 \nL 9.078125 0 \nz\n\" id=\"DejaVuSans-1084\"/>\n      <path d=\"M 56.203125 29.59375 \nL 56.203125 25.203125 \nL 14.890625 25.203125 \nQ 15.484375 15.921875 20.484375 11.0625 \nQ 25.484375 6.203125 34.421875 6.203125 \nQ 39.59375 6.203125 44.453125 7.46875 \nQ 49.3125 8.734375 54.109375 11.28125 \nL 54.109375 2.78125 \nQ 49.265625 0.734375 44.1875 -0.34375 \nQ 39.109375 -1.421875 33.890625 -1.421875 \nQ 20.796875 -1.421875 13.15625 6.1875 \nQ 5.515625 13.8125 5.515625 26.8125 \nQ 5.515625 40.234375 12.765625 48.109375 \nQ 20.015625 56 32.328125 56 \nQ 43.359375 56 49.78125 48.890625 \nQ 56.203125 41.796875 56.203125 29.59375 \nz\nM 47.21875 32.234375 \nQ 47.125 39.59375 43.09375 43.984375 \nQ 39.0625 48.390625 32.421875 48.390625 \nQ 24.90625 48.390625 20.390625 44.140625 \nQ 15.875 39.890625 15.1875 32.171875 \nz\n\" id=\"DejaVuSans-1077\"/>\n      <path d=\"M 2.9375 54.6875 \nL 55.328125 54.6875 \nL 55.328125 47.515625 \nL 33.546875 47.515625 \nL 33.546875 0 \nL 24.703125 0 \nL 24.703125 47.515625 \nL 2.9375 47.515625 \nz\n\" id=\"DejaVuSans-1090\"/>\n      <path d=\"M 61.046875 54.6875 \nL 70.03125 54.6875 \nL 70.03125 0 \nL 61.046875 0 \nz\nM 65.546875 56 \nz\nM 43.453125 16.21875 \nQ 43.453125 20.609375 40.25 22.90625 \nQ 37.0625 25.203125 30.90625 25.203125 \nL 18.109375 25.203125 \nL 18.109375 7.171875 \nL 30.90625 7.171875 \nQ 37.0625 7.171875 40.25 9.484375 \nQ 43.453125 11.8125 43.453125 16.21875 \nz\nM 9.078125 54.6875 \nL 18.109375 54.6875 \nL 18.109375 32.375 \nL 31.296875 32.375 \nQ 41.75 32.375 47.390625 28.390625 \nQ 53.03125 24.421875 53.03125 16.21875 \nQ 53.03125 8.015625 47.390625 4 \nQ 41.75 0 31.296875 0 \nL 9.078125 0 \nz\n\" id=\"DejaVuSans-1099\"/>\n     </defs>\n     <g transform=\"translate(268.120313 523.634462)scale(0.1 -0.1)\">\n      <use xlink:href=\"#DejaVuSans-1055\"/>\n      <use x=\"75.195312\" xlink:href=\"#DejaVuSans-1072\"/>\n      <use x=\"136.474609\" xlink:href=\"#DejaVuSans-1088\"/>\n      <use x=\"199.951172\" xlink:href=\"#DejaVuSans-1072\"/>\n      <use x=\"261.230469\" xlink:href=\"#DejaVuSans-1084\"/>\n      <use x=\"336.669922\" xlink:href=\"#DejaVuSans-1077\"/>\n      <use x=\"398.193359\" xlink:href=\"#DejaVuSans-1090\"/>\n      <use x=\"456.445312\" xlink:href=\"#DejaVuSans-1088\"/>\n      <use x=\"519.921875\" xlink:href=\"#DejaVuSans-1099\"/>\n     </g>\n    </g>\n   </g>\n   <g id=\"matplotlib.axis_2\">\n    <g id=\"ytick_1\">\n     <g id=\"line2d_5\">\n      <defs>\n       <path d=\"M 0 0 \nL -3.5 0 \n\" id=\"m3337c245d7\" style=\"stroke:#000000;stroke-width:0.8;\"/>\n      </defs>\n      <g>\n       <use style=\"stroke:#000000;stroke-width:0.8;\" x=\"46.965625\" xlink:href=\"#m3337c245d7\" y=\"357.3801\"/>\n      </g>\n     </g>\n     <g id=\"text_6\">\n      <!-- 240 -->\n      <defs>\n       <path d=\"M 19.1875 8.296875 \nL 53.609375 8.296875 \nL 53.609375 0 \nL 7.328125 0 \nL 7.328125 8.296875 \nQ 12.9375 14.109375 22.625 23.890625 \nQ 32.328125 33.6875 34.8125 36.53125 \nQ 39.546875 41.84375 41.421875 45.53125 \nQ 43.3125 49.21875 43.3125 52.78125 \nQ 43.3125 58.59375 39.234375 62.25 \nQ 35.15625 65.921875 28.609375 65.921875 \nQ 23.96875 65.921875 18.8125 64.3125 \nQ 13.671875 62.703125 7.8125 59.421875 \nL 7.8125 69.390625 \nQ 13.765625 71.78125 18.9375 73 \nQ 24.125 74.21875 28.421875 74.21875 \nQ 39.75 74.21875 46.484375 68.546875 \nQ 53.21875 62.890625 53.21875 53.421875 \nQ 53.21875 48.921875 51.53125 44.890625 \nQ 49.859375 40.875 45.40625 35.40625 \nQ 44.1875 33.984375 37.640625 27.21875 \nQ 31.109375 20.453125 19.1875 8.296875 \nz\n\" id=\"DejaVuSans-50\"/>\n       <path d=\"M 37.796875 64.3125 \nL 12.890625 25.390625 \nL 37.796875 25.390625 \nz\nM 35.203125 72.90625 \nL 47.609375 72.90625 \nL 47.609375 25.390625 \nL 58.015625 25.390625 \nL 58.015625 17.1875 \nL 47.609375 17.1875 \nL 47.609375 0 \nL 37.796875 0 \nL 37.796875 17.1875 \nL 4.890625 17.1875 \nL 4.890625 26.703125 \nz\n\" id=\"DejaVuSans-52\"/>\n       <path d=\"M 31.78125 66.40625 \nQ 24.171875 66.40625 20.328125 58.90625 \nQ 16.5 51.421875 16.5 36.375 \nQ 16.5 21.390625 20.328125 13.890625 \nQ 24.171875 6.390625 31.78125 6.390625 \nQ 39.453125 6.390625 43.28125 13.890625 \nQ 47.125 21.390625 47.125 36.375 \nQ 47.125 51.421875 43.28125 58.90625 \nQ 39.453125 66.40625 31.78125 66.40625 \nz\nM 31.78125 74.21875 \nQ 44.046875 74.21875 50.515625 64.515625 \nQ 56.984375 54.828125 56.984375 36.375 \nQ 56.984375 17.96875 50.515625 8.265625 \nQ 44.046875 -1.421875 31.78125 -1.421875 \nQ 19.53125 -1.421875 13.0625 8.265625 \nQ 6.59375 17.96875 6.59375 36.375 \nQ 6.59375 54.828125 13.0625 64.515625 \nQ 19.53125 74.21875 31.78125 74.21875 \nz\n\" id=\"DejaVuSans-48\"/>\n      </defs>\n      <g transform=\"translate(20.878125 361.179319)scale(0.1 -0.1)\">\n       <use xlink:href=\"#DejaVuSans-50\"/>\n       <use x=\"63.623047\" xlink:href=\"#DejaVuSans-52\"/>\n       <use x=\"127.246094\" xlink:href=\"#DejaVuSans-48\"/>\n      </g>\n     </g>\n    </g>\n    <g id=\"ytick_2\">\n     <g id=\"line2d_6\">\n      <g>\n       <use style=\"stroke:#000000;stroke-width:0.8;\" x=\"46.965625\" xlink:href=\"#m3337c245d7\" y=\"296.4969\"/>\n      </g>\n     </g>\n     <g id=\"text_7\">\n      <!-- 260 -->\n      <defs>\n       <path d=\"M 33.015625 40.375 \nQ 26.375 40.375 22.484375 35.828125 \nQ 18.609375 31.296875 18.609375 23.390625 \nQ 18.609375 15.53125 22.484375 10.953125 \nQ 26.375 6.390625 33.015625 6.390625 \nQ 39.65625 6.390625 43.53125 10.953125 \nQ 47.40625 15.53125 47.40625 23.390625 \nQ 47.40625 31.296875 43.53125 35.828125 \nQ 39.65625 40.375 33.015625 40.375 \nz\nM 52.59375 71.296875 \nL 52.59375 62.3125 \nQ 48.875 64.0625 45.09375 64.984375 \nQ 41.3125 65.921875 37.59375 65.921875 \nQ 27.828125 65.921875 22.671875 59.328125 \nQ 17.53125 52.734375 16.796875 39.40625 \nQ 19.671875 43.65625 24.015625 45.921875 \nQ 28.375 48.1875 33.59375 48.1875 \nQ 44.578125 48.1875 50.953125 41.515625 \nQ 57.328125 34.859375 57.328125 23.390625 \nQ 57.328125 12.15625 50.6875 5.359375 \nQ 44.046875 -1.421875 33.015625 -1.421875 \nQ 20.359375 -1.421875 13.671875 8.265625 \nQ 6.984375 17.96875 6.984375 36.375 \nQ 6.984375 53.65625 15.1875 63.9375 \nQ 23.390625 74.21875 37.203125 74.21875 \nQ 40.921875 74.21875 44.703125 73.484375 \nQ 48.484375 72.75 52.59375 71.296875 \nz\n\" id=\"DejaVuSans-54\"/>\n      </defs>\n      <g transform=\"translate(20.878125 300.296119)scale(0.1 -0.1)\">\n       <use xlink:href=\"#DejaVuSans-50\"/>\n       <use x=\"63.623047\" xlink:href=\"#DejaVuSans-54\"/>\n       <use x=\"127.246094\" xlink:href=\"#DejaVuSans-48\"/>\n      </g>\n     </g>\n    </g>\n    <g id=\"ytick_3\">\n     <g id=\"line2d_7\">\n      <g>\n       <use style=\"stroke:#000000;stroke-width:0.8;\" x=\"46.965625\" xlink:href=\"#m3337c245d7\" y=\"235.6137\"/>\n      </g>\n     </g>\n     <g id=\"text_8\">\n      <!-- 280 -->\n      <defs>\n       <path d=\"M 31.78125 34.625 \nQ 24.75 34.625 20.71875 30.859375 \nQ 16.703125 27.09375 16.703125 20.515625 \nQ 16.703125 13.921875 20.71875 10.15625 \nQ 24.75 6.390625 31.78125 6.390625 \nQ 38.8125 6.390625 42.859375 10.171875 \nQ 46.921875 13.96875 46.921875 20.515625 \nQ 46.921875 27.09375 42.890625 30.859375 \nQ 38.875 34.625 31.78125 34.625 \nz\nM 21.921875 38.8125 \nQ 15.578125 40.375 12.03125 44.71875 \nQ 8.5 49.078125 8.5 55.328125 \nQ 8.5 64.0625 14.71875 69.140625 \nQ 20.953125 74.21875 31.78125 74.21875 \nQ 42.671875 74.21875 48.875 69.140625 \nQ 55.078125 64.0625 55.078125 55.328125 \nQ 55.078125 49.078125 51.53125 44.71875 \nQ 48 40.375 41.703125 38.8125 \nQ 48.828125 37.15625 52.796875 32.3125 \nQ 56.78125 27.484375 56.78125 20.515625 \nQ 56.78125 9.90625 50.3125 4.234375 \nQ 43.84375 -1.421875 31.78125 -1.421875 \nQ 19.734375 -1.421875 13.25 4.234375 \nQ 6.78125 9.90625 6.78125 20.515625 \nQ 6.78125 27.484375 10.78125 32.3125 \nQ 14.796875 37.15625 21.921875 38.8125 \nz\nM 18.3125 54.390625 \nQ 18.3125 48.734375 21.84375 45.5625 \nQ 25.390625 42.390625 31.78125 42.390625 \nQ 38.140625 42.390625 41.71875 45.5625 \nQ 45.3125 48.734375 45.3125 54.390625 \nQ 45.3125 60.0625 41.71875 63.234375 \nQ 38.140625 66.40625 31.78125 66.40625 \nQ 25.390625 66.40625 21.84375 63.234375 \nQ 18.3125 60.0625 18.3125 54.390625 \nz\n\" id=\"DejaVuSans-56\"/>\n      </defs>\n      <g transform=\"translate(20.878125 239.412919)scale(0.1 -0.1)\">\n       <use xlink:href=\"#DejaVuSans-50\"/>\n       <use x=\"63.623047\" xlink:href=\"#DejaVuSans-56\"/>\n       <use x=\"127.246094\" xlink:href=\"#DejaVuSans-48\"/>\n      </g>\n     </g>\n    </g>\n    <g id=\"ytick_4\">\n     <g id=\"line2d_8\">\n      <g>\n       <use style=\"stroke:#000000;stroke-width:0.8;\" x=\"46.965625\" xlink:href=\"#m3337c245d7\" y=\"174.7305\"/>\n      </g>\n     </g>\n     <g id=\"text_9\">\n      <!-- 300 -->\n      <defs>\n       <path d=\"M 40.578125 39.3125 \nQ 47.65625 37.796875 51.625 33 \nQ 55.609375 28.21875 55.609375 21.1875 \nQ 55.609375 10.40625 48.1875 4.484375 \nQ 40.765625 -1.421875 27.09375 -1.421875 \nQ 22.515625 -1.421875 17.65625 -0.515625 \nQ 12.796875 0.390625 7.625 2.203125 \nL 7.625 11.71875 \nQ 11.71875 9.328125 16.59375 8.109375 \nQ 21.484375 6.890625 26.8125 6.890625 \nQ 36.078125 6.890625 40.9375 10.546875 \nQ 45.796875 14.203125 45.796875 21.1875 \nQ 45.796875 27.640625 41.28125 31.265625 \nQ 36.765625 34.90625 28.71875 34.90625 \nL 20.21875 34.90625 \nL 20.21875 43.015625 \nL 29.109375 43.015625 \nQ 36.375 43.015625 40.234375 45.921875 \nQ 44.09375 48.828125 44.09375 54.296875 \nQ 44.09375 59.90625 40.109375 62.90625 \nQ 36.140625 65.921875 28.71875 65.921875 \nQ 24.65625 65.921875 20.015625 65.03125 \nQ 15.375 64.15625 9.8125 62.3125 \nL 9.8125 71.09375 \nQ 15.4375 72.65625 20.34375 73.4375 \nQ 25.25 74.21875 29.59375 74.21875 \nQ 40.828125 74.21875 47.359375 69.109375 \nQ 53.90625 64.015625 53.90625 55.328125 \nQ 53.90625 49.265625 50.4375 45.09375 \nQ 46.96875 40.921875 40.578125 39.3125 \nz\n\" id=\"DejaVuSans-51\"/>\n      </defs>\n      <g transform=\"translate(20.878125 178.529719)scale(0.1 -0.1)\">\n       <use xlink:href=\"#DejaVuSans-51\"/>\n       <use x=\"63.623047\" xlink:href=\"#DejaVuSans-48\"/>\n       <use x=\"127.246094\" xlink:href=\"#DejaVuSans-48\"/>\n      </g>\n     </g>\n    </g>\n    <g id=\"ytick_5\">\n     <g id=\"line2d_9\">\n      <g>\n       <use style=\"stroke:#000000;stroke-width:0.8;\" x=\"46.965625\" xlink:href=\"#m3337c245d7\" y=\"113.8473\"/>\n      </g>\n     </g>\n     <g id=\"text_10\">\n      <!-- 320 -->\n      <g transform=\"translate(20.878125 117.646519)scale(0.1 -0.1)\">\n       <use xlink:href=\"#DejaVuSans-51\"/>\n       <use x=\"63.623047\" xlink:href=\"#DejaVuSans-50\"/>\n       <use x=\"127.246094\" xlink:href=\"#DejaVuSans-48\"/>\n      </g>\n     </g>\n    </g>\n    <g id=\"ytick_6\">\n     <g id=\"line2d_10\">\n      <g>\n       <use style=\"stroke:#000000;stroke-width:0.8;\" x=\"46.965625\" xlink:href=\"#m3337c245d7\" y=\"52.9641\"/>\n      </g>\n     </g>\n     <g id=\"text_11\">\n      <!-- 340 -->\n      <g transform=\"translate(20.878125 56.763319)scale(0.1 -0.1)\">\n       <use xlink:href=\"#DejaVuSans-51\"/>\n       <use x=\"63.623047\" xlink:href=\"#DejaVuSans-52\"/>\n       <use x=\"127.246094\" xlink:href=\"#DejaVuSans-48\"/>\n      </g>\n     </g>\n    </g>\n    <g id=\"text_12\">\n     <!-- Время -->\n     <defs>\n      <path d=\"M 19.671875 34.8125 \nL 19.671875 8.109375 \nL 35.5 8.109375 \nQ 43.453125 8.109375 47.28125 11.40625 \nQ 51.125 14.703125 51.125 21.484375 \nQ 51.125 28.328125 47.28125 31.5625 \nQ 43.453125 34.8125 35.5 34.8125 \nz\nM 19.671875 64.796875 \nL 19.671875 42.828125 \nL 34.28125 42.828125 \nQ 41.5 42.828125 45.03125 45.53125 \nQ 48.578125 48.25 48.578125 53.8125 \nQ 48.578125 59.328125 45.03125 62.0625 \nQ 41.5 64.796875 34.28125 64.796875 \nz\nM 9.8125 72.90625 \nL 35.015625 72.90625 \nQ 46.296875 72.90625 52.390625 68.21875 \nQ 58.5 63.53125 58.5 54.890625 \nQ 58.5 48.1875 55.375 44.234375 \nQ 52.25 40.28125 46.1875 39.3125 \nQ 53.46875 37.75 57.5 32.78125 \nQ 61.53125 27.828125 61.53125 20.40625 \nQ 61.53125 10.640625 54.890625 5.3125 \nQ 48.25 0 35.984375 0 \nL 9.8125 0 \nz\n\" id=\"DejaVuSans-1042\"/>\n      <path d=\"M 18.453125 38.921875 \nQ 18.453125 34.859375 21.578125 32.5625 \nQ 24.703125 30.28125 30.515625 30.28125 \nL 42.625 30.28125 \nL 42.625 47.515625 \nL 30.515625 47.515625 \nQ 24.703125 47.515625 21.578125 45.265625 \nQ 18.453125 43.015625 18.453125 38.921875 \nz\nM 5.671875 0 \nL 22.359375 23.96875 \nQ 16.703125 25.25 12.9375 28.59375 \nQ 9.1875 31.9375 9.1875 38.921875 \nQ 9.1875 46.828125 14.421875 50.75 \nQ 19.671875 54.6875 30.28125 54.6875 \nL 51.65625 54.6875 \nL 51.65625 0 \nL 42.625 0 \nL 42.625 23.09375 \nL 31.453125 23.09375 \nL 15.328125 0 \nz\n\" id=\"DejaVuSans-1103\"/>\n     </defs>\n     <g transform=\"translate(14.798437 229.243438)rotate(-90)scale(0.1 -0.1)\">\n      <use xlink:href=\"#DejaVuSans-1042\"/>\n      <use x=\"68.603516\" xlink:href=\"#DejaVuSans-1088\"/>\n      <use x=\"132.080078\" xlink:href=\"#DejaVuSans-1077\"/>\n      <use x=\"193.603516\" xlink:href=\"#DejaVuSans-1084\"/>\n      <use x=\"269.042969\" xlink:href=\"#DejaVuSans-1103\"/>\n     </g>\n    </g>\n   </g>\n   <g id=\"patch_7\">\n    <path d=\"M 46.965625 403.0425 \nL 46.965625 22.5225 \n\" style=\"fill:none;stroke:#000000;stroke-linecap:square;stroke-linejoin:miter;stroke-width:0.8;\"/>\n   </g>\n   <g id=\"patch_8\">\n    <path d=\"M 549.165625 403.0425 \nL 549.165625 22.5225 \n\" style=\"fill:none;stroke:#000000;stroke-linecap:square;stroke-linejoin:miter;stroke-width:0.8;\"/>\n   </g>\n   <g id=\"patch_9\">\n    <path d=\"M 46.965625 403.0425 \nL 549.165625 403.0425 \n\" style=\"fill:none;stroke:#000000;stroke-linecap:square;stroke-linejoin:miter;stroke-width:0.8;\"/>\n   </g>\n   <g id=\"patch_10\">\n    <path d=\"M 46.965625 22.5225 \nL 549.165625 22.5225 \n\" style=\"fill:none;stroke:#000000;stroke-linecap:square;stroke-linejoin:miter;stroke-width:0.8;\"/>\n   </g>\n   <g id=\"text_13\">\n    <!-- Время работы алгоритма в зависимости от параметров -->\n    <defs>\n     <path d=\"M 31.109375 56 \nQ 42.828125 56 49.515625 48.375 \nQ 56.203125 40.765625 56.203125 27.296875 \nQ 56.203125 13.875 49.515625 6.21875 \nQ 42.828125 -1.421875 31.109375 -1.421875 \nQ 19.34375 -1.421875 12.84375 6 \nQ 6.34375 13.421875 6 27.296875 \nL 5.71875 38.484375 \nQ 5.46875 44.28125 5.46875 46.296875 \nQ 5.46875 54.109375 8.296875 59.859375 \nQ 12.75 68.890625 20.4375 72.796875 \nQ 28.125 76.703125 41.015625 76.8125 \nQ 46.96875 76.859375 49.609375 77.6875 \nL 52.09375 70.5625 \nQ 49.703125 69.578125 47.515625 69.53125 \nL 35.296875 68.703125 \nQ 29.15625 68.265625 25.4375 66.109375 \nQ 15.71875 60.40625 14.796875 52.9375 \nL 14.453125 50.203125 \nQ 20.796875 56 31.109375 56 \nz\nM 31.109375 48.390625 \nQ 23.875 48.390625 19.671875 42.75 \nQ 15.484375 37.109375 15.484375 27.296875 \nQ 15.484375 17.484375 19.65625 11.84375 \nQ 23.828125 6.203125 31.109375 6.203125 \nQ 38.28125 6.203125 42.484375 11.859375 \nQ 46.6875 17.53125 46.6875 27.296875 \nQ 46.6875 37.015625 42.484375 42.703125 \nQ 38.28125 48.390625 31.109375 48.390625 \nz\n\" id=\"DejaVuSans-1073\"/>\n     <path d=\"M 30.609375 48.390625 \nQ 23.390625 48.390625 19.1875 42.75 \nQ 14.984375 37.109375 14.984375 27.296875 \nQ 14.984375 17.484375 19.15625 11.84375 \nQ 23.34375 6.203125 30.609375 6.203125 \nQ 37.796875 6.203125 41.984375 11.859375 \nQ 46.1875 17.53125 46.1875 27.296875 \nQ 46.1875 37.015625 41.984375 42.703125 \nQ 37.796875 48.390625 30.609375 48.390625 \nz\nM 30.609375 56 \nQ 42.328125 56 49.015625 48.375 \nQ 55.71875 40.765625 55.71875 27.296875 \nQ 55.71875 13.875 49.015625 6.21875 \nQ 42.328125 -1.421875 30.609375 -1.421875 \nQ 18.84375 -1.421875 12.171875 6.21875 \nQ 5.515625 13.875 5.515625 27.296875 \nQ 5.515625 40.765625 12.171875 48.375 \nQ 18.84375 56 30.609375 56 \nz\n\" id=\"DejaVuSans-1086\"/>\n     <path d=\"M 3.71875 0 \nL 3.71875 7.46875 \nQ 12.59375 8.84375 15.328125 14.984375 \nQ 18.65625 23.640625 18.65625 45.75 \nL 18.65625 54.6875 \nL 55.609375 54.6875 \nL 55.609375 0 \nL 46.625 0 \nL 46.625 47.515625 \nL 27.640625 47.515625 \nL 27.640625 42.09375 \nQ 27.640625 21 23.34375 11.53125 \nQ 18.75 1.421875 3.71875 0 \nz\n\" id=\"DejaVuSans-1083\"/>\n     <path d=\"M 9.078125 0 \nL 9.078125 54.6875 \nL 47.65625 54.6875 \nL 47.65625 47.515625 \nL 18.109375 47.515625 \nL 18.109375 0 \nz\n\" id=\"DejaVuSans-1075\"/>\n     <path d=\"M 55.90625 54.6875 \nL 55.90625 0 \nL 46.96875 0 \nL 46.96875 43.890625 \nL 20.609375 0 \nL 9.078125 0 \nL 9.078125 54.6875 \nL 18.015625 54.6875 \nL 18.015625 10.890625 \nL 44.34375 54.6875 \nz\n\" id=\"DejaVuSans-1080\"/>\n     <path d=\"M 18.0625 25.203125 \nL 18.0625 7.171875 \nL 30.859375 7.171875 \nQ 37.015625 7.171875 40.234375 9.484375 \nQ 43.453125 11.8125 43.453125 16.21875 \nQ 43.453125 20.609375 40.234375 22.90625 \nQ 37.015625 25.203125 30.859375 25.203125 \nz\nM 18.0625 47.515625 \nL 18.0625 32.375 \nL 29.890625 32.375 \nQ 34.96875 32.375 38.1875 34.390625 \nQ 41.40625 36.421875 41.40625 40.046875 \nQ 41.40625 43.65625 38.1875 45.578125 \nQ 34.96875 47.515625 29.890625 47.515625 \nz\nM 9.078125 54.6875 \nL 30.46875 54.6875 \nQ 40.09375 54.6875 45.265625 51.171875 \nQ 50.4375 47.65625 50.4375 41.15625 \nQ 50.4375 36.140625 47.796875 33.171875 \nQ 45.171875 30.21875 39.984375 29.5 \nQ 46.1875 28.328125 49.609375 24.609375 \nQ 53.03125 20.90625 53.03125 15.328125 \nQ 53.03125 8.015625 47.390625 4 \nQ 41.75 0 31.296875 0 \nL 9.078125 0 \nz\n\" id=\"DejaVuSans-1074\"/>\n     <path d=\"M 34.46875 29.5 \nQ 40.53125 28.328125 43.890625 24.75 \nQ 47.265625 21.1875 47.265625 15.921875 \nQ 47.265625 7.46875 40.96875 3.015625 \nQ 34.671875 -1.421875 23.046875 -1.421875 \nQ 19.140625 -1.421875 15.015625 -0.734375 \nQ 10.890625 -0.046875 6.5 1.3125 \nL 6.5 9.671875 \nQ 9.96875 7.859375 14.109375 6.953125 \nQ 18.265625 6.0625 22.796875 6.0625 \nQ 30.171875 6.0625 34.296875 8.796875 \nQ 38.421875 11.53125 38.421875 15.921875 \nQ 38.421875 20.21875 34.765625 22.828125 \nQ 31.109375 25.4375 24.421875 25.4375 \nL 17.1875 25.4375 \nL 17.1875 32.859375 \nL 24.75 32.859375 \nQ 30.421875 32.859375 33.71875 35.03125 \nQ 37.015625 37.203125 37.015625 40.625 \nQ 37.015625 43.75 33.609375 46 \nQ 30.21875 48.25 24.421875 48.25 \nQ 20.953125 48.25 17.015625 47.609375 \nQ 13.09375 46.96875 8.34375 45.5625 \nL 8.34375 53.71875 \nQ 13.140625 54.890625 17.28125 55.46875 \nQ 21.4375 56.0625 25.140625 56.0625 \nQ 34.71875 56.0625 40.25 52.21875 \nQ 45.796875 48.390625 45.796875 41.5 \nQ 45.796875 36.96875 42.859375 33.8125 \nQ 39.9375 30.671875 34.46875 29.5 \nz\n\" id=\"DejaVuSans-1079\"/>\n     <path d=\"M 48.78125 52.59375 \nL 48.78125 44.1875 \nQ 44.96875 46.296875 41.140625 47.34375 \nQ 37.3125 48.390625 33.40625 48.390625 \nQ 24.65625 48.390625 19.8125 42.84375 \nQ 14.984375 37.3125 14.984375 27.296875 \nQ 14.984375 17.28125 19.8125 11.734375 \nQ 24.65625 6.203125 33.40625 6.203125 \nQ 37.3125 6.203125 41.140625 7.25 \nQ 44.96875 8.296875 48.78125 10.40625 \nL 48.78125 2.09375 \nQ 45.015625 0.34375 40.984375 -0.53125 \nQ 36.96875 -1.421875 32.421875 -1.421875 \nQ 20.0625 -1.421875 12.78125 6.34375 \nQ 5.515625 14.109375 5.515625 27.296875 \nQ 5.515625 40.671875 12.859375 48.328125 \nQ 20.21875 56 33.015625 56 \nQ 37.15625 56 41.109375 55.140625 \nQ 45.0625 54.296875 48.78125 52.59375 \nz\n\" id=\"DejaVuSans-1089\"/>\n     <path d=\"M 56.296875 54.6875 \nL 56.296875 0 \nL 47.265625 0 \nL 47.265625 47.515625 \nL 18.109375 47.515625 \nL 18.109375 0 \nL 9.078125 0 \nL 9.078125 54.6875 \nz\n\" id=\"DejaVuSans-1087\"/>\n    </defs>\n    <g transform=\"translate(121.130313 16.5225)scale(0.12 -0.12)\">\n     <use xlink:href=\"#DejaVuSans-1042\"/>\n     <use x=\"68.603516\" xlink:href=\"#DejaVuSans-1088\"/>\n     <use x=\"132.080078\" xlink:href=\"#DejaVuSans-1077\"/>\n     <use x=\"193.603516\" xlink:href=\"#DejaVuSans-1084\"/>\n     <use x=\"269.042969\" xlink:href=\"#DejaVuSans-1103\"/>\n     <use x=\"329.199219\" xlink:href=\"#DejaVuSans-32\"/>\n     <use x=\"360.986328\" xlink:href=\"#DejaVuSans-1088\"/>\n     <use x=\"424.462891\" xlink:href=\"#DejaVuSans-1072\"/>\n     <use x=\"485.742188\" xlink:href=\"#DejaVuSans-1073\"/>\n     <use x=\"547.412109\" xlink:href=\"#DejaVuSans-1086\"/>\n     <use x=\"608.59375\" xlink:href=\"#DejaVuSans-1090\"/>\n     <use x=\"666.845703\" xlink:href=\"#DejaVuSans-1099\"/>\n     <use x=\"745.800781\" xlink:href=\"#DejaVuSans-32\"/>\n     <use x=\"777.587891\" xlink:href=\"#DejaVuSans-1072\"/>\n     <use x=\"838.867188\" xlink:href=\"#DejaVuSans-1083\"/>\n     <use x=\"902.783203\" xlink:href=\"#DejaVuSans-1075\"/>\n     <use x=\"955.322266\" xlink:href=\"#DejaVuSans-1086\"/>\n     <use x=\"1016.503906\" xlink:href=\"#DejaVuSans-1088\"/>\n     <use x=\"1079.980469\" xlink:href=\"#DejaVuSans-1080\"/>\n     <use x=\"1144.970703\" xlink:href=\"#DejaVuSans-1090\"/>\n     <use x=\"1203.222656\" xlink:href=\"#DejaVuSans-1084\"/>\n     <use x=\"1278.662109\" xlink:href=\"#DejaVuSans-1072\"/>\n     <use x=\"1339.941406\" xlink:href=\"#DejaVuSans-32\"/>\n     <use x=\"1371.728516\" xlink:href=\"#DejaVuSans-1074\"/>\n     <use x=\"1430.664062\" xlink:href=\"#DejaVuSans-32\"/>\n     <use x=\"1462.451172\" xlink:href=\"#DejaVuSans-1079\"/>\n     <use x=\"1515.625\" xlink:href=\"#DejaVuSans-1072\"/>\n     <use x=\"1576.904297\" xlink:href=\"#DejaVuSans-1074\"/>\n     <use x=\"1635.839844\" xlink:href=\"#DejaVuSans-1080\"/>\n     <use x=\"1700.830078\" xlink:href=\"#DejaVuSans-1089\"/>\n     <use x=\"1755.810547\" xlink:href=\"#DejaVuSans-1080\"/>\n     <use x=\"1820.800781\" xlink:href=\"#DejaVuSans-1084\"/>\n     <use x=\"1896.240234\" xlink:href=\"#DejaVuSans-1086\"/>\n     <use x=\"1957.421875\" xlink:href=\"#DejaVuSans-1089\"/>\n     <use x=\"2012.402344\" xlink:href=\"#DejaVuSans-1090\"/>\n     <use x=\"2070.654297\" xlink:href=\"#DejaVuSans-1080\"/>\n     <use x=\"2135.644531\" xlink:href=\"#DejaVuSans-32\"/>\n     <use x=\"2167.431641\" xlink:href=\"#DejaVuSans-1086\"/>\n     <use x=\"2228.613281\" xlink:href=\"#DejaVuSans-1090\"/>\n     <use x=\"2286.865234\" xlink:href=\"#DejaVuSans-32\"/>\n     <use x=\"2318.652344\" xlink:href=\"#DejaVuSans-1087\"/>\n     <use x=\"2384.033203\" xlink:href=\"#DejaVuSans-1072\"/>\n     <use x=\"2445.3125\" xlink:href=\"#DejaVuSans-1088\"/>\n     <use x=\"2508.789062\" xlink:href=\"#DejaVuSans-1072\"/>\n     <use x=\"2570.068359\" xlink:href=\"#DejaVuSans-1084\"/>\n     <use x=\"2645.507812\" xlink:href=\"#DejaVuSans-1077\"/>\n     <use x=\"2707.03125\" xlink:href=\"#DejaVuSans-1090\"/>\n     <use x=\"2765.283203\" xlink:href=\"#DejaVuSans-1088\"/>\n     <use x=\"2828.759766\" xlink:href=\"#DejaVuSans-1086\"/>\n     <use x=\"2889.941406\" xlink:href=\"#DejaVuSans-1074\"/>\n    </g>\n   </g>\n   <g id=\"legend_1\">\n    <g id=\"patch_11\">\n     <path d=\"M 375.603125 89.235 \nL 542.165625 89.235 \nQ 544.165625 89.235 544.165625 87.235 \nL 544.165625 29.5225 \nQ 544.165625 27.5225 542.165625 27.5225 \nL 375.603125 27.5225 \nQ 373.603125 27.5225 373.603125 29.5225 \nL 373.603125 87.235 \nQ 373.603125 89.235 375.603125 89.235 \nz\n\" style=\"fill:#ffffff;opacity:0.8;stroke:#cccccc;stroke-linejoin:miter;\"/>\n    </g>\n    <g id=\"patch_12\">\n     <path d=\"M 377.603125 39.120938 \nL 397.603125 39.120938 \nL 397.603125 32.120938 \nL 377.603125 32.120938 \nz\n\" style=\"fill:#1f77b4;\"/>\n    </g>\n    <g id=\"text_14\">\n     <!-- euclidean, without weights -->\n     <g transform=\"translate(405.603125 39.120938)scale(0.1 -0.1)\">\n      <use xlink:href=\"#DejaVuSans-101\"/>\n      <use x=\"61.523438\" xlink:href=\"#DejaVuSans-117\"/>\n      <use x=\"124.902344\" xlink:href=\"#DejaVuSans-99\"/>\n      <use x=\"179.882812\" xlink:href=\"#DejaVuSans-108\"/>\n      <use x=\"207.666016\" xlink:href=\"#DejaVuSans-105\"/>\n      <use x=\"235.449219\" xlink:href=\"#DejaVuSans-100\"/>\n      <use x=\"298.925781\" xlink:href=\"#DejaVuSans-101\"/>\n      <use x=\"360.449219\" xlink:href=\"#DejaVuSans-97\"/>\n      <use x=\"421.728516\" xlink:href=\"#DejaVuSans-110\"/>\n      <use x=\"485.107422\" xlink:href=\"#DejaVuSans-44\"/>\n      <use x=\"516.894531\" xlink:href=\"#DejaVuSans-32\"/>\n      <use x=\"548.681641\" xlink:href=\"#DejaVuSans-119\"/>\n      <use x=\"630.46875\" xlink:href=\"#DejaVuSans-105\"/>\n      <use x=\"658.251953\" xlink:href=\"#DejaVuSans-116\"/>\n      <use x=\"697.460938\" xlink:href=\"#DejaVuSans-104\"/>\n      <use x=\"760.839844\" xlink:href=\"#DejaVuSans-111\"/>\n      <use x=\"822.021484\" xlink:href=\"#DejaVuSans-117\"/>\n      <use x=\"885.400391\" xlink:href=\"#DejaVuSans-116\"/>\n      <use x=\"924.609375\" xlink:href=\"#DejaVuSans-32\"/>\n      <use x=\"956.396484\" xlink:href=\"#DejaVuSans-119\"/>\n      <use x=\"1038.183594\" xlink:href=\"#DejaVuSans-101\"/>\n      <use x=\"1099.707031\" xlink:href=\"#DejaVuSans-105\"/>\n      <use x=\"1127.490234\" xlink:href=\"#DejaVuSans-103\"/>\n      <use x=\"1190.966797\" xlink:href=\"#DejaVuSans-104\"/>\n      <use x=\"1254.345703\" xlink:href=\"#DejaVuSans-116\"/>\n      <use x=\"1293.554688\" xlink:href=\"#DejaVuSans-115\"/>\n     </g>\n    </g>\n    <g id=\"patch_13\">\n     <path d=\"M 377.603125 53.799063 \nL 397.603125 53.799063 \nL 397.603125 46.799063 \nL 377.603125 46.799063 \nz\n\" style=\"fill:#ff7f0e;\"/>\n    </g>\n    <g id=\"text_15\">\n     <!-- cosine, without weights -->\n     <g transform=\"translate(405.603125 53.799063)scale(0.1 -0.1)\">\n      <use xlink:href=\"#DejaVuSans-99\"/>\n      <use x=\"54.980469\" xlink:href=\"#DejaVuSans-111\"/>\n      <use x=\"116.162109\" xlink:href=\"#DejaVuSans-115\"/>\n      <use x=\"168.261719\" xlink:href=\"#DejaVuSans-105\"/>\n      <use x=\"196.044922\" xlink:href=\"#DejaVuSans-110\"/>\n      <use x=\"259.423828\" xlink:href=\"#DejaVuSans-101\"/>\n      <use x=\"320.947266\" xlink:href=\"#DejaVuSans-44\"/>\n      <use x=\"352.734375\" xlink:href=\"#DejaVuSans-32\"/>\n      <use x=\"384.521484\" xlink:href=\"#DejaVuSans-119\"/>\n      <use x=\"466.308594\" xlink:href=\"#DejaVuSans-105\"/>\n      <use x=\"494.091797\" xlink:href=\"#DejaVuSans-116\"/>\n      <use x=\"533.300781\" xlink:href=\"#DejaVuSans-104\"/>\n      <use x=\"596.679688\" xlink:href=\"#DejaVuSans-111\"/>\n      <use x=\"657.861328\" xlink:href=\"#DejaVuSans-117\"/>\n      <use x=\"721.240234\" xlink:href=\"#DejaVuSans-116\"/>\n      <use x=\"760.449219\" xlink:href=\"#DejaVuSans-32\"/>\n      <use x=\"792.236328\" xlink:href=\"#DejaVuSans-119\"/>\n      <use x=\"874.023438\" xlink:href=\"#DejaVuSans-101\"/>\n      <use x=\"935.546875\" xlink:href=\"#DejaVuSans-105\"/>\n      <use x=\"963.330078\" xlink:href=\"#DejaVuSans-103\"/>\n      <use x=\"1026.806641\" xlink:href=\"#DejaVuSans-104\"/>\n      <use x=\"1090.185547\" xlink:href=\"#DejaVuSans-116\"/>\n      <use x=\"1129.394531\" xlink:href=\"#DejaVuSans-115\"/>\n     </g>\n    </g>\n    <g id=\"patch_14\">\n     <path d=\"M 377.603125 68.477188 \nL 397.603125 68.477188 \nL 397.603125 61.477188 \nL 377.603125 61.477188 \nz\n\" style=\"fill:#2ca02c;\"/>\n    </g>\n    <g id=\"text_16\">\n     <!-- euclidean, with weights -->\n     <g transform=\"translate(405.603125 68.477188)scale(0.1 -0.1)\">\n      <use xlink:href=\"#DejaVuSans-101\"/>\n      <use x=\"61.523438\" xlink:href=\"#DejaVuSans-117\"/>\n      <use x=\"124.902344\" xlink:href=\"#DejaVuSans-99\"/>\n      <use x=\"179.882812\" xlink:href=\"#DejaVuSans-108\"/>\n      <use x=\"207.666016\" xlink:href=\"#DejaVuSans-105\"/>\n      <use x=\"235.449219\" xlink:href=\"#DejaVuSans-100\"/>\n      <use x=\"298.925781\" xlink:href=\"#DejaVuSans-101\"/>\n      <use x=\"360.449219\" xlink:href=\"#DejaVuSans-97\"/>\n      <use x=\"421.728516\" xlink:href=\"#DejaVuSans-110\"/>\n      <use x=\"485.107422\" xlink:href=\"#DejaVuSans-44\"/>\n      <use x=\"516.894531\" xlink:href=\"#DejaVuSans-32\"/>\n      <use x=\"548.681641\" xlink:href=\"#DejaVuSans-119\"/>\n      <use x=\"630.46875\" xlink:href=\"#DejaVuSans-105\"/>\n      <use x=\"658.251953\" xlink:href=\"#DejaVuSans-116\"/>\n      <use x=\"697.460938\" xlink:href=\"#DejaVuSans-104\"/>\n      <use x=\"760.839844\" xlink:href=\"#DejaVuSans-32\"/>\n      <use x=\"792.626953\" xlink:href=\"#DejaVuSans-119\"/>\n      <use x=\"874.414062\" xlink:href=\"#DejaVuSans-101\"/>\n      <use x=\"935.9375\" xlink:href=\"#DejaVuSans-105\"/>\n      <use x=\"963.720703\" xlink:href=\"#DejaVuSans-103\"/>\n      <use x=\"1027.197266\" xlink:href=\"#DejaVuSans-104\"/>\n      <use x=\"1090.576172\" xlink:href=\"#DejaVuSans-116\"/>\n      <use x=\"1129.785156\" xlink:href=\"#DejaVuSans-115\"/>\n     </g>\n    </g>\n    <g id=\"patch_15\">\n     <path d=\"M 377.603125 83.155313 \nL 397.603125 83.155313 \nL 397.603125 76.155313 \nL 377.603125 76.155313 \nz\n\" style=\"fill:#d62728;\"/>\n    </g>\n    <g id=\"text_17\">\n     <!-- cosine, with weights -->\n     <g transform=\"translate(405.603125 83.155313)scale(0.1 -0.1)\">\n      <use xlink:href=\"#DejaVuSans-99\"/>\n      <use x=\"54.980469\" xlink:href=\"#DejaVuSans-111\"/>\n      <use x=\"116.162109\" xlink:href=\"#DejaVuSans-115\"/>\n      <use x=\"168.261719\" xlink:href=\"#DejaVuSans-105\"/>\n      <use x=\"196.044922\" xlink:href=\"#DejaVuSans-110\"/>\n      <use x=\"259.423828\" xlink:href=\"#DejaVuSans-101\"/>\n      <use x=\"320.947266\" xlink:href=\"#DejaVuSans-44\"/>\n      <use x=\"352.734375\" xlink:href=\"#DejaVuSans-32\"/>\n      <use x=\"384.521484\" xlink:href=\"#DejaVuSans-119\"/>\n      <use x=\"466.308594\" xlink:href=\"#DejaVuSans-105\"/>\n      <use x=\"494.091797\" xlink:href=\"#DejaVuSans-116\"/>\n      <use x=\"533.300781\" xlink:href=\"#DejaVuSans-104\"/>\n      <use x=\"596.679688\" xlink:href=\"#DejaVuSans-32\"/>\n      <use x=\"628.466797\" xlink:href=\"#DejaVuSans-119\"/>\n      <use x=\"710.253906\" xlink:href=\"#DejaVuSans-101\"/>\n      <use x=\"771.777344\" xlink:href=\"#DejaVuSans-105\"/>\n      <use x=\"799.560547\" xlink:href=\"#DejaVuSans-103\"/>\n      <use x=\"863.037109\" xlink:href=\"#DejaVuSans-104\"/>\n      <use x=\"926.416016\" xlink:href=\"#DejaVuSans-116\"/>\n      <use x=\"965.625\" xlink:href=\"#DejaVuSans-115\"/>\n     </g>\n    </g>\n   </g>\n  </g>\n </g>\n <defs>\n  <clipPath id=\"p4c9d3ce1f8\">\n   <rect height=\"380.52\" width=\"502.2\" x=\"46.965625\" y=\"22.5225\"/>\n  </clipPath>\n </defs>\n</svg>\n"
          },
          "metadata": {
            "needs_background": "light"
          }
        },
        {
          "output_type": "display_data",
          "data": {
            "text/plain": [
              "<Figure size 432x288 with 0 Axes>"
            ]
          },
          "metadata": {}
        }
      ]
    },
    {
      "cell_type": "markdown",
      "metadata": {
        "id": "w4ja6T7pgi2D"
      },
      "source": [
        "Эксперимент №4"
      ]
    },
    {
      "cell_type": "code",
      "metadata": {
        "colab": {
          "base_uri": "https://localhost:8080/"
        },
        "id": "dfZhyq7bdmF4",
        "outputId": "b9dd646c-6f40-43f8-ad2e-556632ab3faf"
      },
      "source": [
        "model = KNNClassifier(k=4, strategy='brute', metric='cosine', weights=True, test_block_size=100)\n",
        "model.fit(X_train, y_train)\n",
        "pred = model.predict(X_test)\n",
        "accuracy(y_test, pred)"
      ],
      "execution_count": null,
      "outputs": [
        {
          "output_type": "execute_result",
          "data": {
            "text/plain": [
              "0.9752"
            ]
          },
          "metadata": {},
          "execution_count": 13
        }
      ]
    },
    {
      "cell_type": "code",
      "metadata": {
        "colab": {
          "base_uri": "https://localhost:8080/"
        },
        "id": "tCcxqmkTiD5E",
        "outputId": "2d58ed78-694c-4a81-c832-8eb12b9db424"
      },
      "source": [
        "wacc_k_neigh_cos.max()"
      ],
      "execution_count": null,
      "outputs": [
        {
          "output_type": "execute_result",
          "data": {
            "text/plain": [
              "0.9741"
            ]
          },
          "metadata": {},
          "execution_count": 43
        }
      ]
    },
    {
      "cell_type": "code",
      "metadata": {
        "colab": {
          "base_uri": "https://localhost:8080/"
        },
        "id": "di9pp4x9i8m-",
        "outputId": "ef2cdf3f-55fc-4f34-9b6c-c15a4a8c36ed"
      },
      "source": [
        "import sklearn.metrics\n",
        "sklearn.metrics.confusion_matrix(y_test, pred)"
      ],
      "execution_count": null,
      "outputs": [
        {
          "output_type": "execute_result",
          "data": {
            "text/plain": [
              "array([[ 977,    1,    0,    0,    0,    0,    1,    1,    0,    0],\n",
              "       [   0, 1129,    3,    1,    0,    0,    2,    0,    0,    0],\n",
              "       [   8,    0, 1009,    1,    1,    0,    0,    8,    5,    0],\n",
              "       [   0,    1,    3,  976,    1,   12,    0,    4,    9,    4],\n",
              "       [   2,    1,    0,    0,  946,    0,    6,    2,    0,   25],\n",
              "       [   4,    0,    0,    9,    1,  863,    7,    1,    4,    3],\n",
              "       [   3,    3,    0,    0,    1,    3,  948,    0,    0,    0],\n",
              "       [   2,   10,    4,    0,    1,    0,    0,  998,    0,   13],\n",
              "       [   7,    1,    2,    9,    3,    3,    5,    4,  936,    4],\n",
              "       [   7,    7,    2,    5,    7,    3,    1,    4,    3,  970]])"
            ]
          },
          "metadata": {},
          "execution_count": 44
        }
      ]
    },
    {
      "cell_type": "code",
      "metadata": {
        "colab": {
          "base_uri": "https://localhost:8080/",
          "height": 639
        },
        "id": "KBtQP-PCj5IY",
        "outputId": "ae5df1be-a2ee-4da3-a5fa-6f36aa67b314"
      },
      "source": [
        "fig, axes = plt.subplots(2, 3)\n",
        "wrong_obj = X_test[y_test != pred]\n",
        "true_ans = y_test[y_test != pred]\n",
        "wrong_ans = pred[y_test != pred]\n",
        "for i in range(2):\n",
        "    for j in range(3):\n",
        "        axes[i][j].imshow(wrong_obj[i*3+j].reshape(28,28), cmap='Greys')\n",
        "        axes[i][j].axis('off')\n",
        "        axes[i][j].set_title(label='true={0}, pred={1}'.format(true_ans[i*3+j], wrong_ans[i*3+j]))\n",
        "fig.set_figwidth(12)\n",
        "fig.set_figheight(8)   \n",
        "plt.savefig('graph4.pdf')\n",
        "plt.savefig('graph4.svg')"
      ],
      "execution_count": null,
      "outputs": [
        {
          "output_type": "display_data",
          "data": {
            "application/pdf": "[encoded data removed]",
            "text/plain": [
              "<Figure size 864x576 with 6 Axes>"
            ],
            "image/svg+xml": "<?xml version=\"1.0\" encoding=\"utf-8\" standalone=\"no\"?>\n<!DOCTYPE svg PUBLIC \"-//W3C//DTD SVG 1.1//EN\"\n  \"http://www.w3.org/Graphics/SVG/1.1/DTD/svg11.dtd\">\n<!-- Created with matplotlib (https://matplotlib.org/) -->\n<svg height=\"463.666574pt\" version=\"1.1\" viewBox=\"0 0 684 463.666574\" width=\"684pt\" xmlns=\"http://www.w3.org/2000/svg\" xmlns:xlink=\"http://www.w3.org/1999/xlink\">\n <defs>\n  <style type=\"text/css\">\n*{stroke-linecap:butt;stroke-linejoin:round;}\n  </style>\n </defs>\n <g id=\"figure_1\">\n  <g id=\"patch_1\">\n   <path d=\"M 0 463.666574 \nL 684 463.666574 \nL 684 0 \nL 0 0 \nz\n\" style=\"fill:none;\"/>\n  </g>\n  <g id=\"axes_1\">\n   <g clip-path=\"url(#p3fce05021b)\">\n    <image height=\"197\" id=\"imagee84f9bdc8c\" transform=\"scale(1 -1)translate(0 -197)\" width=\"197\" x=\"7.2\" xlink:href=\"data:image/png;base64,\niVBORw0KGgoAAAANSUhEUgAAAMUAAADFCAYAAADkODbwAAAABHNCSVQICAgIfAhkiAAABRZJREFUeJzt3cGLzWscx/Ez19AoRYoNCRtipZT8AWQ1MkNSklKTsrSYFVmItbJUMlGTEpKFBSvlD5CFzShWU9RM2JmZu7h1635u32fGMQznvF7bT855xvTuqV+nMwMLCwsLHeBff630AeB3IwoIooAgCgiigCAKCKKAIAoIooAgCgiigCAKCKKAIAoIooAgCgiigCAKCKKAIAoIooAgCgiigCAKCKKAIAoIooAwuNIH6DUfP34st+3bt5fboUOHmq/78OHDbo/Ed3JTQBAFBFFAEAUEUUAQBQSPZJfZ7OxsuX39+rXcnj9/3nzdqampctu5c+fiB2PJ3BQQRAFBFBBEAUEUEEQBwSPZZTY0NFRuq1evLrfPnz83X3diYqLcrly5sui5WDo3BQRRQBAFBFFAEAUEUUDwSHaZbdmypdxOnjxZbnfv3v0Zx6ELbgoIooAgCgiigCAKCKKAMLCwsLCw0ofoF2/fvi233bt3N//tnj17yu3Nmzddn4n/c1NAEAUEUUAQBQRRQBAFBJ+S7cLc3Fy5zc/Pl9vatWu7fs/379+XW+v7a9evX9/1e/YrNwUEUUAQBQRRQBAFBFFA8CnZwsuXL8vtzJkz5fbu3bufcZymkZGRcnvw4MEvPElvcFNAEAUEUUAQBQRRQBAFhL5+JHvr1q1yGxsbK7fWf9nGjRvL7fDhw+X29OnTcut02n/+a9WqVeU2MzNTbuvWrWu+Z79yU0AQBQRRQBAFBFFAEAWEnn8kOz09XW5bt24tt2/fvpXbuXPnyu3y5cvltm3btnL79OlTuXU6nc6OHTvKrfW4dnx8vNyuX79ebgMDA83z9DI3BQRRQBAFBFFAEAUEUUDo+Ueyk5OT5Xbq1KlyO336dLlNTEyU2896lHnnzp1yO3v2bFev2XqU28+foHVTQBAFBFFAEAUEUUAQBQRRQOj5v3nX+gaNoaGhcvvdPjo9PDy87K/57NmzchsdHV329/tTuCkgiAKCKCCIAoIoIIgCQs9/dLzl0qVL5Xb16tVyu3//frmdOHHih85UmZubK7eLFy+W240bN8qtddbWz9jr3BQQRAFBFBBEAUEUEEQBoa8fyc7Ozpbbvn37ym3z5s3l9uTJk3LbtGnT0g72nVo/x4YNG8pt//795fbq1atyGxzs7Q9XuykgiAKCKCCIAoIoIIgCQl8/km25d+9eubW+fPnChQvldvPmzR86U6X1Kzx//ny5HTt2rNyOHDnyQ2f6k7kpIIgCgiggiAKCKCCIAoJHsoX5+flyGxsbK7fbt2+X27Vr18ptfHx8aQf7Tq2fo/V9ub/bd+n+Sm4KCKKAIAoIooAgCgiigOCRbBdmZmbKrfWFBx8+fCi3ycnJ5nseP3588YOxLNwUEEQBQRQQRAFBFBBEAcEj2WU2PT1dbgcPHiy31uPaTqf9yHZ0dHTxg7FkbgoIooAgCgiigCAKCKKA4JHsLzQ1NVVuu3btav7bNWvWlNuLFy/K7cCBA4sfjP9wU0AQBQRRQBAFBFFAEAUEj2R/E48fP27uIyMj5db6Fb5+/brc9u7du/jB+pCbAoIoIIgCgiggiAKCKCAMrvQB+MfRo0eb+6NHj8pteHi43L58+dL1mfqVmwKCKCCIAoIoIIgCgigg+JQsBDcFBFFAEAUEUUAQBQRRQBAFBFFAEAUEUUAQBQRRQBAFBFFAEAUEUUAQBQRRQBAFBFFAEAUEUUAQBQRRQBAFBFFAEAWEvwH+kP9PVl2xtAAAAABJRU5ErkJggg==\" y=\"-22.259301\"/>\n   </g>\n   <g id=\"text_1\">\n    <!-- true=4, pred=9 -->\n    <defs>\n     <path d=\"M 18.3125 70.21875 \nL 18.3125 54.6875 \nL 36.8125 54.6875 \nL 36.8125 47.703125 \nL 18.3125 47.703125 \nL 18.3125 18.015625 \nQ 18.3125 11.328125 20.140625 9.421875 \nQ 21.96875 7.515625 27.59375 7.515625 \nL 36.8125 7.515625 \nL 36.8125 0 \nL 27.59375 0 \nQ 17.1875 0 13.234375 3.875 \nQ 9.28125 7.765625 9.28125 18.015625 \nL 9.28125 47.703125 \nL 2.6875 47.703125 \nL 2.6875 54.6875 \nL 9.28125 54.6875 \nL 9.28125 70.21875 \nz\n\" id=\"DejaVuSans-116\"/>\n     <path d=\"M 41.109375 46.296875 \nQ 39.59375 47.171875 37.8125 47.578125 \nQ 36.03125 48 33.890625 48 \nQ 26.265625 48 22.1875 43.046875 \nQ 18.109375 38.09375 18.109375 28.8125 \nL 18.109375 0 \nL 9.078125 0 \nL 9.078125 54.6875 \nL 18.109375 54.6875 \nL 18.109375 46.1875 \nQ 20.953125 51.171875 25.484375 53.578125 \nQ 30.03125 56 36.53125 56 \nQ 37.453125 56 38.578125 55.875 \nQ 39.703125 55.765625 41.0625 55.515625 \nz\n\" id=\"DejaVuSans-114\"/>\n     <path d=\"M 8.5 21.578125 \nL 8.5 54.6875 \nL 17.484375 54.6875 \nL 17.484375 21.921875 \nQ 17.484375 14.15625 20.5 10.265625 \nQ 23.53125 6.390625 29.59375 6.390625 \nQ 36.859375 6.390625 41.078125 11.03125 \nQ 45.3125 15.671875 45.3125 23.6875 \nL 45.3125 54.6875 \nL 54.296875 54.6875 \nL 54.296875 0 \nL 45.3125 0 \nL 45.3125 8.40625 \nQ 42.046875 3.421875 37.71875 1 \nQ 33.40625 -1.421875 27.6875 -1.421875 \nQ 18.265625 -1.421875 13.375 4.4375 \nQ 8.5 10.296875 8.5 21.578125 \nz\nM 31.109375 56 \nz\n\" id=\"DejaVuSans-117\"/>\n     <path d=\"M 56.203125 29.59375 \nL 56.203125 25.203125 \nL 14.890625 25.203125 \nQ 15.484375 15.921875 20.484375 11.0625 \nQ 25.484375 6.203125 34.421875 6.203125 \nQ 39.59375 6.203125 44.453125 7.46875 \nQ 49.3125 8.734375 54.109375 11.28125 \nL 54.109375 2.78125 \nQ 49.265625 0.734375 44.1875 -0.34375 \nQ 39.109375 -1.421875 33.890625 -1.421875 \nQ 20.796875 -1.421875 13.15625 6.1875 \nQ 5.515625 13.8125 5.515625 26.8125 \nQ 5.515625 40.234375 12.765625 48.109375 \nQ 20.015625 56 32.328125 56 \nQ 43.359375 56 49.78125 48.890625 \nQ 56.203125 41.796875 56.203125 29.59375 \nz\nM 47.21875 32.234375 \nQ 47.125 39.59375 43.09375 43.984375 \nQ 39.0625 48.390625 32.421875 48.390625 \nQ 24.90625 48.390625 20.390625 44.140625 \nQ 15.875 39.890625 15.1875 32.171875 \nz\n\" id=\"DejaVuSans-101\"/>\n     <path d=\"M 10.59375 45.40625 \nL 73.1875 45.40625 \nL 73.1875 37.203125 \nL 10.59375 37.203125 \nz\nM 10.59375 25.484375 \nL 73.1875 25.484375 \nL 73.1875 17.1875 \nL 10.59375 17.1875 \nz\n\" id=\"DejaVuSans-61\"/>\n     <path d=\"M 37.796875 64.3125 \nL 12.890625 25.390625 \nL 37.796875 25.390625 \nz\nM 35.203125 72.90625 \nL 47.609375 72.90625 \nL 47.609375 25.390625 \nL 58.015625 25.390625 \nL 58.015625 17.1875 \nL 47.609375 17.1875 \nL 47.609375 0 \nL 37.796875 0 \nL 37.796875 17.1875 \nL 4.890625 17.1875 \nL 4.890625 26.703125 \nz\n\" id=\"DejaVuSans-52\"/>\n     <path d=\"M 11.71875 12.40625 \nL 22.015625 12.40625 \nL 22.015625 4 \nL 14.015625 -11.625 \nL 7.71875 -11.625 \nL 11.71875 4 \nz\n\" id=\"DejaVuSans-44\"/>\n     <path id=\"DejaVuSans-32\"/>\n     <path d=\"M 18.109375 8.203125 \nL 18.109375 -20.796875 \nL 9.078125 -20.796875 \nL 9.078125 54.6875 \nL 18.109375 54.6875 \nL 18.109375 46.390625 \nQ 20.953125 51.265625 25.265625 53.625 \nQ 29.59375 56 35.59375 56 \nQ 45.5625 56 51.78125 48.09375 \nQ 58.015625 40.1875 58.015625 27.296875 \nQ 58.015625 14.40625 51.78125 6.484375 \nQ 45.5625 -1.421875 35.59375 -1.421875 \nQ 29.59375 -1.421875 25.265625 0.953125 \nQ 20.953125 3.328125 18.109375 8.203125 \nz\nM 48.6875 27.296875 \nQ 48.6875 37.203125 44.609375 42.84375 \nQ 40.53125 48.484375 33.40625 48.484375 \nQ 26.265625 48.484375 22.1875 42.84375 \nQ 18.109375 37.203125 18.109375 27.296875 \nQ 18.109375 17.390625 22.1875 11.75 \nQ 26.265625 6.109375 33.40625 6.109375 \nQ 40.53125 6.109375 44.609375 11.75 \nQ 48.6875 17.390625 48.6875 27.296875 \nz\n\" id=\"DejaVuSans-112\"/>\n     <path d=\"M 45.40625 46.390625 \nL 45.40625 75.984375 \nL 54.390625 75.984375 \nL 54.390625 0 \nL 45.40625 0 \nL 45.40625 8.203125 \nQ 42.578125 3.328125 38.25 0.953125 \nQ 33.9375 -1.421875 27.875 -1.421875 \nQ 17.96875 -1.421875 11.734375 6.484375 \nQ 5.515625 14.40625 5.515625 27.296875 \nQ 5.515625 40.1875 11.734375 48.09375 \nQ 17.96875 56 27.875 56 \nQ 33.9375 56 38.25 53.625 \nQ 42.578125 51.265625 45.40625 46.390625 \nz\nM 14.796875 27.296875 \nQ 14.796875 17.390625 18.875 11.75 \nQ 22.953125 6.109375 30.078125 6.109375 \nQ 37.203125 6.109375 41.296875 11.75 \nQ 45.40625 17.390625 45.40625 27.296875 \nQ 45.40625 37.203125 41.296875 42.84375 \nQ 37.203125 48.484375 30.078125 48.484375 \nQ 22.953125 48.484375 18.875 42.84375 \nQ 14.796875 37.203125 14.796875 27.296875 \nz\n\" id=\"DejaVuSans-100\"/>\n     <path d=\"M 10.984375 1.515625 \nL 10.984375 10.5 \nQ 14.703125 8.734375 18.5 7.8125 \nQ 22.3125 6.890625 25.984375 6.890625 \nQ 35.75 6.890625 40.890625 13.453125 \nQ 46.046875 20.015625 46.78125 33.40625 \nQ 43.953125 29.203125 39.59375 26.953125 \nQ 35.25 24.703125 29.984375 24.703125 \nQ 19.046875 24.703125 12.671875 31.3125 \nQ 6.296875 37.9375 6.296875 49.421875 \nQ 6.296875 60.640625 12.9375 67.421875 \nQ 19.578125 74.21875 30.609375 74.21875 \nQ 43.265625 74.21875 49.921875 64.515625 \nQ 56.59375 54.828125 56.59375 36.375 \nQ 56.59375 19.140625 48.40625 8.859375 \nQ 40.234375 -1.421875 26.421875 -1.421875 \nQ 22.703125 -1.421875 18.890625 -0.6875 \nQ 15.09375 0.046875 10.984375 1.515625 \nz\nM 30.609375 32.421875 \nQ 37.25 32.421875 41.125 36.953125 \nQ 45.015625 41.5 45.015625 49.421875 \nQ 45.015625 57.28125 41.125 61.84375 \nQ 37.25 66.40625 30.609375 66.40625 \nQ 23.96875 66.40625 20.09375 61.84375 \nQ 16.21875 57.28125 16.21875 49.421875 \nQ 16.21875 41.5 20.09375 36.953125 \nQ 23.96875 32.421875 30.609375 32.421875 \nz\n\" id=\"DejaVuSans-57\"/>\n    </defs>\n    <g transform=\"translate(58.211526 16.318125)scale(0.12 -0.12)\">\n     <use xlink:href=\"#DejaVuSans-116\"/>\n     <use x=\"39.208984\" xlink:href=\"#DejaVuSans-114\"/>\n     <use x=\"80.322266\" xlink:href=\"#DejaVuSans-117\"/>\n     <use x=\"143.701172\" xlink:href=\"#DejaVuSans-101\"/>\n     <use x=\"205.224609\" xlink:href=\"#DejaVuSans-61\"/>\n     <use x=\"289.013672\" xlink:href=\"#DejaVuSans-52\"/>\n     <use x=\"352.636719\" xlink:href=\"#DejaVuSans-44\"/>\n     <use x=\"384.423828\" xlink:href=\"#DejaVuSans-32\"/>\n     <use x=\"416.210938\" xlink:href=\"#DejaVuSans-112\"/>\n     <use x=\"479.6875\" xlink:href=\"#DejaVuSans-114\"/>\n     <use x=\"518.550781\" xlink:href=\"#DejaVuSans-101\"/>\n     <use x=\"580.074219\" xlink:href=\"#DejaVuSans-100\"/>\n     <use x=\"643.550781\" xlink:href=\"#DejaVuSans-61\"/>\n     <use x=\"727.339844\" xlink:href=\"#DejaVuSans-57\"/>\n    </g>\n   </g>\n  </g>\n  <g id=\"axes_2\">\n   <g clip-path=\"url(#p04980dce24)\">\n    <image height=\"197\" id=\"image445bc9d94b\" transform=\"scale(1 -1)translate(0 -197)\" width=\"197\" x=\"243.529412\" xlink:href=\"data:image/png;base64,\niVBORw0KGgoAAAANSUhEUgAAAMUAAADFCAYAAADkODbwAAAABHNCSVQICAgIfAhkiAAABYhJREFUeJzt3c2LzX8fx3GMct8MO2wskBQzqVFYSCKK/AV2KBtZzMJYEKUkpmShRJGdtcZCYpSsyG1jjZWFGMqCca7dtXh1vc/vdx3O3Jx5PLavzjkfi6dvfZyO2Y1GozEL+K85k30AmGpEAUEUEEQBQRQQRAFBFBBEAUEUEEQBQRQQRAFBFBBEAUEUEEQBQRQQRAFBFBBEAWHuZB9gOmr2Ww+/f/8ut4cPH5bbu3fvmn7mpUuXyq23t7fcNmzYUG6Dg4PltnDhwqbn6WSeFBBEAUEUEEQBQRQQRAFhtt+S/d/GxsbK7ezZs+U2NDTUjuO0RX9/f7mNjIyU2/z589txnCnDkwKCKCCIAoIoIIgCgiggzOgr2a9fv5bb9u3by+3Vq1ctfd7cufWXkru7u1t6z3/y5cuXchsfHy+34eHhctuzZ88fnWmq86SAIAoIooAgCgiigCAKCB1/Jfvjx49y27JlS7k1u3bt6+srt9OnT5fbihUryq3ZN1b/xIULF8rtxIkT5bZp06Zye/LkSbnNmzfv3x1sCvOkgCAKCKKAIAoIooAgCggd8VuyzX6/9c6dO+XW7Nr15MmT5TYwMFBuPT095TYZtm7d2tLrnj9/Xm4/f/4sN1ey0IFEAUEUEEQBQRQQRAGhI65km30T9uLFi+V2/vz5cjty5Ei5TbVrV/4uTwoIooAgCgiigCAKCKKA0BFXsosWLSq3169fT+BJZoYHDx6U24EDBybwJO3hSQFBFBBEAUEUEEQBQRQQOuJKdqJ9//693BYvXlxunz9/bvkzly1b1vJr/7Z169ZN9hHaypMCgiggiAKCKCCIAoIoIHT8leyvX7/K7c2bN+U2NDRUbs1+g3bjxo3ldv/+/XL7J7t27Sq3Y8eOldvo6GjLn1lZuXLlX3/PqcSTAoIoIIgCgiggiAKCKCDMbjQajck+RDvduHGj3A4fPjyBJ+kcY2Nj5dbsW8LThScFBFFAEAUEUUAQBQRRQOiIb8m+f/++3M6cOdPSe27evLncTp06VW6rV69u6fM+fPjQdL927VpL73vv3r1ya/YDDAcPHiy3BQsWtHSW6cKTAoIoIIgCgiggiAKCKCCIAkJH/DvF9evXy+3jx4/l1uxrzrdv3y63NWvW/LuD/R/Wrl3bdN+5c2dL79vf319uz549K7fly5eXW1dXV0tnmS48KSCIAoIoIIgCgiggiAJCR1zJtmrVqlXl1o5r18nQ19dXbs2uZGcyTwoIooAgCgiigCAKCKKAMKOvZAcHByf7CG3X29vb0uuaXeV2Ok8KCKKAIAoIooAgCgiigDCjr2Sb/ahBp7h161ZLr9u7d+9fPsn04UkBQRQQRAFBFBBEAUEUEGb0lezly5fL7dChQ+W2dOnSdhyHKcKTAoIoIIgCgiggiAKCKCB0xJXs7t27y+3u3bvl9uLFi3LbsWNHuT169Kjcenp6yq1dnj59Wm6fPn2awJN0Bk8KCKKAIAoIooAgCgiigDC70Wg0JvsQ7TQ8PFxu+/bta+k9u7u7y+348ePltn79+pY+b9asWbPevn1bbufOnSu38fHxcjt69Gi5XblypdzmzOnsv0s7+08HLRAFBFFAEAUEUUAQBYSOv5Jt9sd7/PhxuTW7Wn358uUfnWkiNftvukZGRsptyZIl7TjOtOBJAUEUEEQBQRQQRAFBFBA6/kq2Vd++fSu3mzdvltvVq1fLbXR0tOXzDAwMlNv+/fvLbdu2beXW1dXV8nk6mScFBFFAEAUEUUAQBQRRQHAlC8GTAoIoIIgCgiggiAKCKCCIAoIoIIgCgiggiAKCKCCIAoIoIIgCgiggiAKCKCCIAoIoIIgCgiggiAKCKCCIAoIoIIgCgiggiAKCKCCIAoIoIIgCgigg/Ae+JvdLU/F5pgAAAABJRU5ErkJggg==\" y=\"-22.259301\"/>\n   </g>\n   <g id=\"text_2\">\n    <!-- true=9, pred=8 -->\n    <defs>\n     <path d=\"M 31.78125 34.625 \nQ 24.75 34.625 20.71875 30.859375 \nQ 16.703125 27.09375 16.703125 20.515625 \nQ 16.703125 13.921875 20.71875 10.15625 \nQ 24.75 6.390625 31.78125 6.390625 \nQ 38.8125 6.390625 42.859375 10.171875 \nQ 46.921875 13.96875 46.921875 20.515625 \nQ 46.921875 27.09375 42.890625 30.859375 \nQ 38.875 34.625 31.78125 34.625 \nz\nM 21.921875 38.8125 \nQ 15.578125 40.375 12.03125 44.71875 \nQ 8.5 49.078125 8.5 55.328125 \nQ 8.5 64.0625 14.71875 69.140625 \nQ 20.953125 74.21875 31.78125 74.21875 \nQ 42.671875 74.21875 48.875 69.140625 \nQ 55.078125 64.0625 55.078125 55.328125 \nQ 55.078125 49.078125 51.53125 44.71875 \nQ 48 40.375 41.703125 38.8125 \nQ 48.828125 37.15625 52.796875 32.3125 \nQ 56.78125 27.484375 56.78125 20.515625 \nQ 56.78125 9.90625 50.3125 4.234375 \nQ 43.84375 -1.421875 31.78125 -1.421875 \nQ 19.734375 -1.421875 13.25 4.234375 \nQ 6.78125 9.90625 6.78125 20.515625 \nQ 6.78125 27.484375 10.78125 32.3125 \nQ 14.796875 37.15625 21.921875 38.8125 \nz\nM 18.3125 54.390625 \nQ 18.3125 48.734375 21.84375 45.5625 \nQ 25.390625 42.390625 31.78125 42.390625 \nQ 38.140625 42.390625 41.71875 45.5625 \nQ 45.3125 48.734375 45.3125 54.390625 \nQ 45.3125 60.0625 41.71875 63.234375 \nQ 38.140625 66.40625 31.78125 66.40625 \nQ 25.390625 66.40625 21.84375 63.234375 \nQ 18.3125 60.0625 18.3125 54.390625 \nz\n\" id=\"DejaVuSans-56\"/>\n    </defs>\n    <g transform=\"translate(294.540937 16.318125)scale(0.12 -0.12)\">\n     <use xlink:href=\"#DejaVuSans-116\"/>\n     <use x=\"39.208984\" xlink:href=\"#DejaVuSans-114\"/>\n     <use x=\"80.322266\" xlink:href=\"#DejaVuSans-117\"/>\n     <use x=\"143.701172\" xlink:href=\"#DejaVuSans-101\"/>\n     <use x=\"205.224609\" xlink:href=\"#DejaVuSans-61\"/>\n     <use x=\"289.013672\" xlink:href=\"#DejaVuSans-57\"/>\n     <use x=\"352.636719\" xlink:href=\"#DejaVuSans-44\"/>\n     <use x=\"384.423828\" xlink:href=\"#DejaVuSans-32\"/>\n     <use x=\"416.210938\" xlink:href=\"#DejaVuSans-112\"/>\n     <use x=\"479.6875\" xlink:href=\"#DejaVuSans-114\"/>\n     <use x=\"518.550781\" xlink:href=\"#DejaVuSans-101\"/>\n     <use x=\"580.074219\" xlink:href=\"#DejaVuSans-100\"/>\n     <use x=\"643.550781\" xlink:href=\"#DejaVuSans-61\"/>\n     <use x=\"727.339844\" xlink:href=\"#DejaVuSans-56\"/>\n    </g>\n   </g>\n  </g>\n  <g id=\"axes_3\">\n   <g clip-path=\"url(#paf23adcf17)\">\n    <image height=\"197\" id=\"image3f80fabdb1\" transform=\"scale(1 -1)translate(0 -197)\" width=\"197\" x=\"479.858824\" xlink:href=\"data:image/png;base64,\niVBORw0KGgoAAAANSUhEUgAAAMUAAADFCAYAAADkODbwAAAABHNCSVQICAgIfAhkiAAABYVJREFUeJzt3U+IzW8fxvEZI0PUpKRoFkQiQpOFP0tKFkqsRGZhYSkrCxYSC0qysrBQZEWKrRo7Zic1kp2ECEVR/s48i6eent/163PTMZgZr9f26py5Ld6+dTvOdI+NjY11Af8z7U8fACYaUUAQBQRRQBAFBFFAEAUEUUAQBQRRQBAFBFFAEAUEUUAQBQRRQBAFBFFAEAUEUUAQBQRRQBAFBFFAEAUEUUAQBQRRQBAFBFFAEAUEUUAQBQRRQBAFBFFAEAUEUUAQBQRRQBAFhOl/+gD/7/379+W2bNmycnvx4kW5PXjwoNxWrFjxYwcbJ60/39u3b5uv7e/vH+/jUPCkgCAKCKKAIAoIooAgCggT6kq2p6en3GbNmtXRew4MDJTbw4cPy23RokUd/byWc+fOldvJkyebr71z5065rV27tuMz8W+eFBBEAUEUEEQBQRQQRAFhQl3Jtq5dd+zYUW5nz54tt0+fPpXbtm3bym14eLjc+vr6yq2ldc378ePH5msvXbpUbmvWrCm37u7u756Lf/KkgCAKCKKAIAoIooAgCgjdY2NjY3/6ED/i5cuX5bZgwYJx/3kHDx4stzNnzpTbtGn13zNDQ0Pltnnz5uZ5Wlere/bsKbfLly8335d/86SAIAoIooAgCgiigCAKCJPmSvbbt2/lduTIkXI7ffr0uJ/lypUr5bZ79+5y+/r1a7l971r5zZs35da6rt2wYUO5bd++vdxan0pufdq3t7e33CYLTwoIooAgCgiigCAKCKKAMGmuZFta/+n/2LFj5dbpde2cOXPK7dSpU+U2d+7ccrtw4ULzZ96+ffv7B/tNli9fXm6HDx8ut8HBwV9xnHHnSQFBFBBEAUEUEEQBQRQQpsSVbEvrunbv3r3ldv369V9xnClh8eLF5Xbz5s1yW7ly5a84zrjzpIAgCgiigCAKCKKAIAoIU/5KtqX1ZQj3798vt507d5bbkydPOjpL69eQdXV1dd27d6/c1q9f39HPbH0BQevP3/o1bNOnT6jfGNcRTwoIooAgCgiigCAKCKKAIAoIk/9S+Sf09PSU28DAQLkNDw+X28aNG8vt8ePH5Xb37t1y6+rq6lq3bl25rVq1qtxGRkbKrfXvNK3f3TcV/i2ixZMCgiggiAKCKCCIAoIoIPzVHx3/FVpflHzgwIFy27VrV/N9r169Wm6ta9fVq1c337fy9OnTclu4cGFH7zlZeFJAEAUEUUAQBQRRQBAFBFey4+zz58/l1vpC52vXrjXft/UJ2/7+/nLbv39/uT179qzcbty4UW6tb/OYCjwpIIgCgiggiAKCKCCIAoIr2d9oaGio3LZs2dJ8besTtufPny+3L1++lNvo6Gi59fb2Ns8zlXlSQBAFBFFAEAUEUUAQBQRXsr/Rhw8fym3Tpk3N175+/brcHj16VG6zZ8/+/sH4B08KCKKAIAoIooAgCgiigOBKdoK4detWc9+6dWu5Xbx4sdwGBwc7PtPfypMCgiggiAKCKCCIAoIoILiSnSDevXvX3JcsWVJu3d3d5fbq1auOz/S38qSAIAoIooAgCgiigCAKCNP/9AH4r76+vuZ+6NChcjtx4kS5tb7wYN68ed8/2F/IkwKCKCCIAoIoIIgCgigg+JTsJNG6Wp0/f365HT16tNyOHz/+U2eaqjwpIIgCgiggiAKCKCCIAoIr2Umi0yvZpUuXltvIyEi5zZgx48cONgV5UkAQBQRRQBAFBFFAEAUEX1wwxT1//rzcRkdHf+NJJg9PCgiigCAKCKKAIAoIooDgSnaSaH3X7L59+8qt9SnZmTNn/tSZpipPCgiigCAKCKKAIAoIooDgiwsgeFJAEAUEUUAQBQRRQBAFBFFAEAUEUUAQBQRRQBAFBFFA+A81gxGjv5/ipgAAAABJRU5ErkJggg==\" y=\"-22.259301\"/>\n   </g>\n   <g id=\"text_3\">\n    <!-- true=4, pred=6 -->\n    <defs>\n     <path d=\"M 33.015625 40.375 \nQ 26.375 40.375 22.484375 35.828125 \nQ 18.609375 31.296875 18.609375 23.390625 \nQ 18.609375 15.53125 22.484375 10.953125 \nQ 26.375 6.390625 33.015625 6.390625 \nQ 39.65625 6.390625 43.53125 10.953125 \nQ 47.40625 15.53125 47.40625 23.390625 \nQ 47.40625 31.296875 43.53125 35.828125 \nQ 39.65625 40.375 33.015625 40.375 \nz\nM 52.59375 71.296875 \nL 52.59375 62.3125 \nQ 48.875 64.0625 45.09375 64.984375 \nQ 41.3125 65.921875 37.59375 65.921875 \nQ 27.828125 65.921875 22.671875 59.328125 \nQ 17.53125 52.734375 16.796875 39.40625 \nQ 19.671875 43.65625 24.015625 45.921875 \nQ 28.375 48.1875 33.59375 48.1875 \nQ 44.578125 48.1875 50.953125 41.515625 \nQ 57.328125 34.859375 57.328125 23.390625 \nQ 57.328125 12.15625 50.6875 5.359375 \nQ 44.046875 -1.421875 33.015625 -1.421875 \nQ 20.359375 -1.421875 13.671875 8.265625 \nQ 6.984375 17.96875 6.984375 36.375 \nQ 6.984375 53.65625 15.1875 63.9375 \nQ 23.390625 74.21875 37.203125 74.21875 \nQ 40.921875 74.21875 44.703125 73.484375 \nQ 48.484375 72.75 52.59375 71.296875 \nz\n\" id=\"DejaVuSans-54\"/>\n    </defs>\n    <g transform=\"translate(530.870349 16.318125)scale(0.12 -0.12)\">\n     <use xlink:href=\"#DejaVuSans-116\"/>\n     <use x=\"39.208984\" xlink:href=\"#DejaVuSans-114\"/>\n     <use x=\"80.322266\" xlink:href=\"#DejaVuSans-117\"/>\n     <use x=\"143.701172\" xlink:href=\"#DejaVuSans-101\"/>\n     <use x=\"205.224609\" xlink:href=\"#DejaVuSans-61\"/>\n     <use x=\"289.013672\" xlink:href=\"#DejaVuSans-52\"/>\n     <use x=\"352.636719\" xlink:href=\"#DejaVuSans-44\"/>\n     <use x=\"384.423828\" xlink:href=\"#DejaVuSans-32\"/>\n     <use x=\"416.210938\" xlink:href=\"#DejaVuSans-112\"/>\n     <use x=\"479.6875\" xlink:href=\"#DejaVuSans-114\"/>\n     <use x=\"518.550781\" xlink:href=\"#DejaVuSans-101\"/>\n     <use x=\"580.074219\" xlink:href=\"#DejaVuSans-100\"/>\n     <use x=\"643.550781\" xlink:href=\"#DejaVuSans-61\"/>\n     <use x=\"727.339844\" xlink:href=\"#DejaVuSans-54\"/>\n    </g>\n   </g>\n  </g>\n  <g id=\"axes_4\">\n   <g clip-path=\"url(#pd0ea9b708a)\">\n    <image height=\"197\" id=\"image31b16dd78b\" transform=\"scale(1 -1)translate(0 -197)\" width=\"197\" x=\"7.2\" xlink:href=\"data:image/png;base64,\niVBORw0KGgoAAAANSUhEUgAAAMUAAADFCAYAAADkODbwAAAABHNCSVQICAgIfAhkiAAABEhJREFUeJzt3TFLXGkUx+F1Wcgk4AQ7G4sUprALGSwlFiEWadKm9FtYShohH0AkkHZIHe0ULGyGENIGFMK0NqkmA6Jxu4X85Vx3b8xk1edpD3N9Cfw48Ga4M3V+fn7+B/CPP3/3AeD/RhQQRAFBFBBEAUEUEEQBQRQQRAFBFBBEAUEUEEQB4a/ffYDb5Nu3b+Xs/v37jZ/9/v17ORsMBuWs1+tdfjB+YFNAEAUEUUAQBQRRQBAFBFeyV2w8Hpez58+fl7Ozs7PG53Y6nXL2+vXrcvbu3bvG53KRTQFBFBBEAUEUEEQBQRQQprxL9modHx+Xs9nZ2dbPHQ6H5Wxubq71c7nIpoAgCgiigCAKCKKAIAoIviU7QU2331NTUxM8CU1sCgiigCAKCKKAIAoIooDgSnaCXLteDzYFBFFAEAUEUUAQBQRRQHAlO0G+JXs92BQQRAFBFBBEAUEUEEQBwZXsBLl2vR5sCgiigCAKCKKAIAoIooDgSvaKTU9Pl7P5+flydnh42Pjc0WjU+kz8NzYFBFFAEAUEUUAQBQRRQHAle8Xu3r1bztbW1srZ6upq43P7/X45W19fv/xg/Gs2BQRRQBAFBFFAEAUEUUCYOm96wSlXam9vr5w9ffq08bN37twpZ+PxuPWZuMimgCAKCKKAIAoIooAgCgiuZCeo6eq02+02fvbs7Kycffz4sZw9evTo8oPxA5sCgiggiAKCKCCIAoIoIHhxwQQ1vdTgZ3766+vXr60/y0U2BQRRQBAFBFFAEAUEUUAQBQT/T3EDnJyc/O4j3Cg2BQRRQBAFBFFAEAUEUUBwJXvFBoNBOfvw4UM5a3pbx2U2NzfL2crKSuvn3lY2BQRRQBAFBFFAEAUEUUDwguUWPn36VM56vV45+1X/1J1Op5zt7OyUs+Xl5V9xnGvPpoAgCgiigCAKCKKAIAoIviXbQtNv1zVduz548KCcbW1tNf7Nfr9fzvb398vZs2fPytnu7m45W1paajzPTWZTQBAFBFFAEAUEUUAQBQRXsi28efOm1efev39fzhYWFho/u7i4WM7evn1bzl69elXOmr5de5vZFBBEAUEUEEQBQRQQRAHBlWxhNBqVs+3t7XI2MzNTzk5PT8vZwcFB43lWV1fL2dHRUTnb2NgoZ03XvLeZTQFBFBBEAUEUEEQBQRQQXMkWml5A0O12y9mXL1/K2ePHj8vZz/y815MnT8rZixcvWj/3trIpIIgCgiggiAKCKCCIAoKf92phOByWs83NzXL2+fPncvbw4cPGv/ny5ctWn713717jc7nIpoAgCgiigCAKCKKAIAoIrmQh2BQQRAFBFBBEAUEUEEQBQRQQRAFBFBBEAUEUEEQBQRQQRAFBFBBEAUEUEEQBQRQQRAFBFBBEAUEUEEQBQRQQRAFBFBBEAUEUEEQBQRQQRAFBFBBEAUEUEEQBQRQQRAFBFBBEAUEUEP4Gsc+uScQ7sKoAAAAASUVORK5CYII=\" y=\"-259.466574\"/>\n   </g>\n   <g id=\"text_4\">\n    <!-- true=9, pred=1 -->\n    <defs>\n     <path d=\"M 12.40625 8.296875 \nL 28.515625 8.296875 \nL 28.515625 63.921875 \nL 10.984375 60.40625 \nL 10.984375 69.390625 \nL 28.421875 72.90625 \nL 38.28125 72.90625 \nL 38.28125 8.296875 \nL 54.390625 8.296875 \nL 54.390625 0 \nL 12.40625 0 \nz\n\" id=\"DejaVuSans-49\"/>\n    </defs>\n    <g transform=\"translate(58.211526 253.525398)scale(0.12 -0.12)\">\n     <use xlink:href=\"#DejaVuSans-116\"/>\n     <use x=\"39.208984\" xlink:href=\"#DejaVuSans-114\"/>\n     <use x=\"80.322266\" xlink:href=\"#DejaVuSans-117\"/>\n     <use x=\"143.701172\" xlink:href=\"#DejaVuSans-101\"/>\n     <use x=\"205.224609\" xlink:href=\"#DejaVuSans-61\"/>\n     <use x=\"289.013672\" xlink:href=\"#DejaVuSans-57\"/>\n     <use x=\"352.636719\" xlink:href=\"#DejaVuSans-44\"/>\n     <use x=\"384.423828\" xlink:href=\"#DejaVuSans-32\"/>\n     <use x=\"416.210938\" xlink:href=\"#DejaVuSans-112\"/>\n     <use x=\"479.6875\" xlink:href=\"#DejaVuSans-114\"/>\n     <use x=\"518.550781\" xlink:href=\"#DejaVuSans-101\"/>\n     <use x=\"580.074219\" xlink:href=\"#DejaVuSans-100\"/>\n     <use x=\"643.550781\" xlink:href=\"#DejaVuSans-61\"/>\n     <use x=\"727.339844\" xlink:href=\"#DejaVuSans-49\"/>\n    </g>\n   </g>\n  </g>\n  <g id=\"axes_5\">\n   <g clip-path=\"url(#p7d47e4c4e5)\">\n    <image height=\"197\" id=\"image388ce303ed\" transform=\"scale(1 -1)translate(0 -197)\" width=\"197\" x=\"243.529412\" xlink:href=\"data:image/png;base64,\niVBORw0KGgoAAAANSUhEUgAAAMUAAADFCAYAAADkODbwAAAABHNCSVQICAgIfAhkiAAABS9JREFUeJzt3U+IzH8cx/FZ7RYuyEppi8JBXBxw2LhISSSFg1wkIScOyoG92OS0OWtri4uDkgN32fbg4E85bHFzoMhBLaH2d/vV75X3d5jGz5h9PK6vfOdrt6dPfU0zA/Pz8/Mt4F+L/vQNQK8RBQRRQBAFBFFAEAUEUUAQBQRRQBAFBFFAEAUEUUAY/NM30Kvm5ubKbffu3eX25MmTctu5c2e5Xb9+vfF+tm7dWm5DQ0ONf5Zf46SAIAoIooAgCgiigCAKCAM+uODHxsbGym18fLzrr9fu13Dp0qVyu3r1ardvZ0FzUkAQBQRRQBAFBFFAEAUEj2QLIyMj5fb27dtyu3LlSrmdOnWq3A4dOtR4P7Ozs+V248aNcjt+/Hi5LVrk38Qf8VOBIAoIooAgCgiigCAKCD64oLB3795ym5qaKrfh4eFyW716dbk9fvy48X5mZmbK7fz58+W2bdu2ctu0aVPjay5UTgoIooAgCgiigCAKCKKA4F2yhcnJyXI7ffp0R9d8//59uS1fvryja7YzPT1dbqOjo7/lNf92TgoIooAgCgiigCAKCKKA4F2yhc2bN3f9mteuXSu3dl/v1SmPXX+dkwKCKCCIAoIoIIgCgiggeJdsoenHcvHixXKbmJjo6PVev37duK9du7aj6/LrnBQQRAFBFBBEAUEUEEQBwSPZDnz48KHcNmzYUG6fPn0qt6av6Gq1Wq1z5861vzG6wkkBQRQQRAFBFBBEAUEUEDyS7bJ79+6V2+HDh8tt8eLFjdd98OBBue3atav9jfHTnBQQRAFBFBBEAUEUEEQBwSPZLvv69Wu5NX0t2NTUVON1jx49Wm537txpe1/8PCcFBFFAEAUEUUAQBQRRQPBI9n/05s2bcmv3WbEDAwPldvfu3XI7ePBg+xvjP5wUEEQBQRQQRAFBFBBEAcEj2R5x4sSJxv3WrVvltn79+nJ7+fJluQ0ODra/sQXISQFBFBBEAUEUEEQBQRQQRAHB/1P0iIcPHzbuBw4c6Oi69+/fL7d9+/Z1dM1+56SAIAoIooAgCgiigCAKCB7J9oh2v4bJyclyO3PmTLmtWLGi3J4/f15ua9asabyffuakgCAKCKKAIAoIooAgCgg+zqFHNH2AcqvVau3Zs6fcli5dWm4fP34st+np6XI7cuRI4/30MycFBFFAEAUEUUAQBQRRQPAu2T5w8+bNcjt79my5bdmypdxmZmbKbcmSJT93Y38pJwUEUUAQBQRRQBAFBFFA6ItHst++fSu3Y8eOldv379/LbXx8vNw2btxYbkNDQ+X2uzT9/VeuXFluc3Nz5TY7O1tuTd+x1w+cFBBEAUEUEEQBQRQQRAGhLx7JNnn06FG57d+/v9yaHlcODw+X28mTJ8tt+/bt5bZjx45ya7WaPxO26Ve4atWqcvv8+XO5jY2Nldvly5fLrR84KSCIAoIoIIgCgiggiAJC3z+SbdL0uPbChQvl9uzZs67fS7tfw+joaLk1PVp9+vRpR/fz6tWrclu3bl1H1/xbOCkgiAKCKCCIAoIoIIgCwoJ+JNvky5cv5fbu3btyu337dkev1+6dp+2+/qsTIyMj5fbixYtyW7ZsWdfvpZc4KSCIAoIoIIgCgiggiAKCR7IQnBQQRAFBFBBEAUEUEEQBQRQQRAFBFBBEAUEUEEQBQRQQRAFBFBBEAUEUEEQBQRQQRAFBFBBEAUEUEEQBQRQQRAFBFBBEAUEUEEQBQRQQRAFBFBBEAUEUEEQBQRQQRAFBFBBEAUEUEP4BrwIJ/IcWxTsAAAAASUVORK5CYII=\" y=\"-259.466574\"/>\n   </g>\n   <g id=\"text_5\">\n    <!-- true=2, pred=7 -->\n    <defs>\n     <path d=\"M 19.1875 8.296875 \nL 53.609375 8.296875 \nL 53.609375 0 \nL 7.328125 0 \nL 7.328125 8.296875 \nQ 12.9375 14.109375 22.625 23.890625 \nQ 32.328125 33.6875 34.8125 36.53125 \nQ 39.546875 41.84375 41.421875 45.53125 \nQ 43.3125 49.21875 43.3125 52.78125 \nQ 43.3125 58.59375 39.234375 62.25 \nQ 35.15625 65.921875 28.609375 65.921875 \nQ 23.96875 65.921875 18.8125 64.3125 \nQ 13.671875 62.703125 7.8125 59.421875 \nL 7.8125 69.390625 \nQ 13.765625 71.78125 18.9375 73 \nQ 24.125 74.21875 28.421875 74.21875 \nQ 39.75 74.21875 46.484375 68.546875 \nQ 53.21875 62.890625 53.21875 53.421875 \nQ 53.21875 48.921875 51.53125 44.890625 \nQ 49.859375 40.875 45.40625 35.40625 \nQ 44.1875 33.984375 37.640625 27.21875 \nQ 31.109375 20.453125 19.1875 8.296875 \nz\n\" id=\"DejaVuSans-50\"/>\n     <path d=\"M 8.203125 72.90625 \nL 55.078125 72.90625 \nL 55.078125 68.703125 \nL 28.609375 0 \nL 18.3125 0 \nL 43.21875 64.59375 \nL 8.203125 64.59375 \nz\n\" id=\"DejaVuSans-55\"/>\n    </defs>\n    <g transform=\"translate(294.540937 253.525398)scale(0.12 -0.12)\">\n     <use xlink:href=\"#DejaVuSans-116\"/>\n     <use x=\"39.208984\" xlink:href=\"#DejaVuSans-114\"/>\n     <use x=\"80.322266\" xlink:href=\"#DejaVuSans-117\"/>\n     <use x=\"143.701172\" xlink:href=\"#DejaVuSans-101\"/>\n     <use x=\"205.224609\" xlink:href=\"#DejaVuSans-61\"/>\n     <use x=\"289.013672\" xlink:href=\"#DejaVuSans-50\"/>\n     <use x=\"352.636719\" xlink:href=\"#DejaVuSans-44\"/>\n     <use x=\"384.423828\" xlink:href=\"#DejaVuSans-32\"/>\n     <use x=\"416.210938\" xlink:href=\"#DejaVuSans-112\"/>\n     <use x=\"479.6875\" xlink:href=\"#DejaVuSans-114\"/>\n     <use x=\"518.550781\" xlink:href=\"#DejaVuSans-101\"/>\n     <use x=\"580.074219\" xlink:href=\"#DejaVuSans-100\"/>\n     <use x=\"643.550781\" xlink:href=\"#DejaVuSans-61\"/>\n     <use x=\"727.339844\" xlink:href=\"#DejaVuSans-55\"/>\n    </g>\n   </g>\n  </g>\n  <g id=\"axes_6\">\n   <g clip-path=\"url(#p5fa36a0fce)\">\n    <image height=\"197\" id=\"image4ac56d3ee7\" transform=\"scale(1 -1)translate(0 -197)\" width=\"197\" x=\"479.858824\" xlink:href=\"data:image/png;base64,\niVBORw0KGgoAAAANSUhEUgAAAMUAAADFCAYAAADkODbwAAAABHNCSVQICAgIfAhkiAAABE1JREFUeJzt3TFLlW0cx3HPw2PloA4tgaQSGIISOdVs9ArapdHBSVxqcPMthLOTiwS1i6tb4lA0tApGojhYiJ62Z/jB/9Bz7Jjn7vNZf3i6CL5ccHO4T6vdbrcHgP/886cPADeNKCCIAoIoIIgCgiggiAKCKCCIAoIoIIgCgiggiALCv3/6APTW58+fy216errc7t+/X26fPn0qt6GhoV872A3mpoAgCgiigCAKCKKAIAoILS8uaLaZmZly+/jxY1efeXx8XG4jIyNdfeZN4qaAIAoIooAgCgiigCAKCL4l2wCnp6fldnBwUG6tVqvcXrx4caUz9TM3BQRRQBAFBFFAEAUEUUDwLdkG2NvbK7e5ublyGx8fL7f9/f1yu337drndunWr3PqFmwKCKCCIAoIoIIgCgigg+JZsA2xubpZbpyfu7969K7fh4eErnamfuSkgiAKCKCCIAoIoIIgCgkeyDXByclJuk5OT5fbw4cMenKb/uSkgiAKCKCCIAoIoIIgCgkeyDTc6Olpud+7cucaT9A83BQRRQBAFBFFAEAUEUUDwSLZPdHoBwY8fP67xJM3npoAgCgiigCAKCKKAIAoIft6rT5yfn5dbp5/bevToUbl9+PDhSmdqKjcFBFFAEAUEUUAQBQRRQPAt2T5xdnbW1d8tLi7+5pM0n5sCgiggiAKCKCCIAoIoIHgk2ye2t7e7+jvvi/3/3BQQRAFBFBBEAUEUEEQBQRQQRAFBFBBEAUEUEEQBQRQQRAFBFBBEAUEUEEQBQRQQRAFBFBD65m0eFxcX5XZ5eVluX79+LbdOvyN33b8H9/jx44773t7eNZ0ENwUEUUAQBQRRQBAFBFFAuFGPZHd2dsrt1atX5ba7u9uD0/C3clNAEAUEUUAQBQRRQBAFhJ48kv3+/Xu5LS8vl9v6+nq5TU1Nldvs7Gy5PX/+vNxmZmbK7dmzZ+V29+7dcuv0bd6tra1yOzo6KreBgYGB1dXVcuv0/93pcfXLly87/pt/KzcFBFFAEAUEUUAQBQRRQGi12+327/7Q9+/fl9vr16/L7e3bt+U2MTFRboODg792sD725s2bcltaWiq3oaGhctve3i63J0+e/NrBGshNAUEUEEQBQRQQRAFBFBB68kj2y5cv5XZ4eFhuT58+/d1HaYyDg4NyGxsb6+ozO70MYm1travPbAI3BQRRQBAFBFFAEAUEUUDoyYsLHjx40NVG7d69e+W2sLBQbhsbG704TqO5KSCIAoIoIIgCgiggiALCjfp5L2qtVqvcVlZWyu3bt2/lNj8/f6UzNZWbAoIoIIgCgiggiAKCKCD05MUF0M/cFBBEAUEUEEQBQRQQRAFBFBBEAUEUEEQBQRQQRAFBFBBEAUEUEEQBQRQQRAFBFBBEAUEUEEQBQRQQRAFBFBBEAUEUEEQBQRQQRAFBFBBEAUEUEEQBQRQQRAFBFBBEAUEUEEQBQRQQfgIqJaSL0JB8DgAAAABJRU5ErkJggg==\" y=\"-259.466574\"/>\n   </g>\n   <g id=\"text_6\">\n    <!-- true=7, pred=4 -->\n    <g transform=\"translate(530.870349 253.525398)scale(0.12 -0.12)\">\n     <use xlink:href=\"#DejaVuSans-116\"/>\n     <use x=\"39.208984\" xlink:href=\"#DejaVuSans-114\"/>\n     <use x=\"80.322266\" xlink:href=\"#DejaVuSans-117\"/>\n     <use x=\"143.701172\" xlink:href=\"#DejaVuSans-101\"/>\n     <use x=\"205.224609\" xlink:href=\"#DejaVuSans-61\"/>\n     <use x=\"289.013672\" xlink:href=\"#DejaVuSans-55\"/>\n     <use x=\"352.636719\" xlink:href=\"#DejaVuSans-44\"/>\n     <use x=\"384.423828\" xlink:href=\"#DejaVuSans-32\"/>\n     <use x=\"416.210938\" xlink:href=\"#DejaVuSans-112\"/>\n     <use x=\"479.6875\" xlink:href=\"#DejaVuSans-114\"/>\n     <use x=\"518.550781\" xlink:href=\"#DejaVuSans-101\"/>\n     <use x=\"580.074219\" xlink:href=\"#DejaVuSans-100\"/>\n     <use x=\"643.550781\" xlink:href=\"#DejaVuSans-61\"/>\n     <use x=\"727.339844\" xlink:href=\"#DejaVuSans-52\"/>\n    </g>\n   </g>\n  </g>\n </g>\n <defs>\n  <clipPath id=\"p3fce05021b\">\n   <rect height=\"196.941176\" width=\"196.941176\" x=\"7.2\" y=\"22.318125\"/>\n  </clipPath>\n  <clipPath id=\"p04980dce24\">\n   <rect height=\"196.941176\" width=\"196.941176\" x=\"243.529412\" y=\"22.318125\"/>\n  </clipPath>\n  <clipPath id=\"paf23adcf17\">\n   <rect height=\"196.941176\" width=\"196.941176\" x=\"479.858824\" y=\"22.318125\"/>\n  </clipPath>\n  <clipPath id=\"pd0ea9b708a\">\n   <rect height=\"196.941176\" width=\"196.941176\" x=\"7.2\" y=\"259.525398\"/>\n  </clipPath>\n  <clipPath id=\"p7d47e4c4e5\">\n   <rect height=\"196.941176\" width=\"196.941176\" x=\"243.529412\" y=\"259.525398\"/>\n  </clipPath>\n  <clipPath id=\"p5fa36a0fce\">\n   <rect height=\"196.941176\" width=\"196.941176\" x=\"479.858824\" y=\"259.525398\"/>\n  </clipPath>\n </defs>\n</svg>\n"
          },
          "metadata": {
            "needs_background": "light"
          }
        }
      ]
    },
    {
      "cell_type": "markdown",
      "metadata": {
        "id": "2eAe6GDhrNmn"
      },
      "source": [
        "Эксперимент №5\n"
      ]
    },
    {
      "cell_type": "code",
      "metadata": {
        "colab": {
          "base_uri": "https://localhost:8080/"
        },
        "id": "faTfCqoprIo1",
        "outputId": "60a24c6d-7bce-44a0-a5a1-127ee9316374"
      },
      "source": [
        "import scipy.ndimage as ndimage\n",
        "import scipy.misc as misc\n",
        "angles = [5,10,15]\n",
        "shifts = [1,2,3]\n",
        "disp = [0.5, 1, 1.5]\n",
        "\n",
        "for a in angles:\n",
        "    rot_X_train1 = np.zeros(X_train.shape)\n",
        "    rot_X_train2 = np.zeros(X_train.shape)\n",
        "    for i in range(X_train.shape[0]):\n",
        "        rot_X_train1[i] = ndimage.rotate(X_train[i].reshape((28, 28)), a, reshape = False, prefilter = False).reshape(1,-1)\n",
        "        rot_X_train2[i] = ndimage.rotate(X_train[i].reshape((28, 28)), -a, reshape = False, prefilter = False).reshape(1,-1)\n",
        "    big_X_train = np.concatenate([X_train, rot_X_train1, rot_X_train2])\n",
        "    big_y_train = np.concatenate([y_train, y_train, y_train])\n",
        "    rot_accur = knn_cross_val_score(big_X_train, big_y_train, [4], score='accuracy', strategy='brute', metric='cosine', weights=True, test_block_size=1000)\n",
        "    ac = (rot_accur[4][0] + rot_accur[4][1] + rot_accur[4][2]) / 3\n",
        "    print(\"angle=\", a, \"accuracy=\", ac)"
      ],
      "execution_count": null,
      "outputs": [
        {
          "output_type": "stream",
          "name": "stdout",
          "text": [
            "angle= 5 accuracy= 0.9968833333333333\n",
            "angle= 10 accuracy= 0.9735333333333333\n",
            "angle= 15 accuracy= 0.9406777777777777\n"
          ]
        }
      ]
    },
    {
      "cell_type": "code",
      "metadata": {
        "id": "nOVwu58NIcWE"
      },
      "source": [
        "import scipy.ndimage as ndimage\n",
        "import scipy.misc as misc\n",
        "\n",
        "shifts = [[0,1],[0,2],[0,3],[1,0],[2,0],[3,0]]\n",
        "big_y_train = np.concatenate([y_train, y_train, y_train])\n",
        "sh_X_train1 = np.zeros(X_train.shape)\n",
        "big_X_train = list(range(6))\n",
        "j = 0\n",
        "for s in shifts:\n",
        "    for i in range(X_train.shape[0]):\n",
        "        sh_X_train1[i] = ndimage.shift(X_train[i].reshape((28, 28)), s).reshape(1,-1)\n",
        "    big_X_train[j]=np.concatenate([X_train, sh_X_train1])\n",
        "    j += 1\n",
        "    "
      ],
      "execution_count": null,
      "outputs": []
    },
    {
      "cell_type": "code",
      "metadata": {
        "id": "jennfgh7UH77"
      },
      "source": [
        "big_y_train = np.concatenate([y_train, y_train])"
      ],
      "execution_count": null,
      "outputs": []
    },
    {
      "cell_type": "code",
      "metadata": {
        "colab": {
          "base_uri": "https://localhost:8080/"
        },
        "id": "2qEIDY02rF2X",
        "outputId": "7deb62ae-9911-4aa9-8ae5-c453978149bb"
      },
      "source": [
        "j = 0\n",
        "for s in shifts:\n",
        "    sh_accur = knn_cross_val_score(big_X_train[j], big_y_train, [4], score='accuracy', strategy='brute', metric='cosine', weights=True, test_block_size=1000)\n",
        "    ac = (sh_accur[4][0] + sh_accur[4][1] + sh_accur[4][2]) / 3\n",
        "    print(\"shift=\", s, \"accuracy=\", ac)\n",
        "    j+=1"
      ],
      "execution_count": null,
      "outputs": [
        {
          "output_type": "stream",
          "name": "stdout",
          "text": [
            "shift= [0, 1] accuracy= 0.9832333333333333\n",
            "shift= [0, 2] accuracy= 0.970125\n",
            "shift= [0, 3] accuracy= 0.9689666666666668\n",
            "shift= [1, 0] accuracy= 0.9830166666666665\n",
            "shift= [2, 0] accuracy= 0.9701083333333332\n"
          ]
        }
      ]
    },
    {
      "cell_type": "code",
      "metadata": {
        "colab": {
          "base_uri": "https://localhost:8080/"
        },
        "id": "Il-Ea3P-gE23",
        "outputId": "7c64298a-b8cf-498d-b6b0-e46f0a59b094"
      },
      "source": [
        "sh_accur = knn_cross_val_score(big_X_train[5], big_y_train, [4], score='accuracy', strategy='brute', metric='cosine', weights=True, test_block_size=1000)\n",
        "ac = (sh_accur[4][0] + sh_accur[4][1] + sh_accur[4][2]) / 3\n",
        "print(\"shift= [3, 0]\", \"accuracy=\", ac)"
      ],
      "execution_count": null,
      "outputs": [
        {
          "output_type": "stream",
          "name": "stdout",
          "text": [
            "shift= [3, 0] accuracy= 0.9690249999999999\n"
          ]
        }
      ]
    },
    {
      "cell_type": "code",
      "metadata": {
        "id": "x9GWo8HumMQI",
        "colab": {
          "base_uri": "https://localhost:8080/"
        },
        "outputId": "3024a443-2579-4417-8a59-a25be9873813"
      },
      "source": [
        "disp_X_train = np.zeros(X_train.shape)\n",
        "for d in disp:\n",
        "    disp_X_train = np.zeros(X_train.shape)\n",
        "    for i in range(X_train.shape[0]):\n",
        "        disp_X_train[i] = ndimage.filters.gaussian_filter(X_train[i].reshape((28, 28)), d).reshape(1,-1)\n",
        "    big_X_train = np.concatenate([X_train, disp_X_train])\n",
        "    big_y_train = np.concatenate([y_train, y_train])\n",
        "    disp_accur = knn_cross_val_score(big_X_train, big_y_train, [4], score='accuracy', strategy='brute', metric='cosine', weights=True, test_block_size=100)\n",
        "    ac = (disp_accur[4][0] + disp_accur[4][1] + disp_accur[4][2]) / 3\n",
        "    print(\"disp=\", d, \"accuracy=\", ac)"
      ],
      "execution_count": null,
      "outputs": [
        {
          "output_type": "stream",
          "name": "stdout",
          "text": [
            "disp= 0.5 accuracy= 1.0\n",
            "disp= 1 accuracy= 0.9912833333333332\n",
            "disp= 1.5 accuracy= 0.9798583333333334\n"
          ]
        }
      ]
    },
    {
      "cell_type": "code",
      "metadata": {
        "id": "XpkyGvJLaZJS"
      },
      "source": [
        "new_X_train1 = np.zeros(X_train.shape)\n",
        "new_X_train2 = np.zeros(X_train.shape)\n",
        "for i in range(X_train.shape[0]):\n",
        "    new_X_train1[i] = ndimage.shift(X_train[i].reshape((28, 28)), [0, 1]).reshape(1,-1)\n",
        "    new_X_train2[i] = ndimage.filters.gaussian_filter(X_train[i].reshape((28, 28)), 1).reshape(1,-1)\n",
        "new_X_train = np.concatenate([X_train, new_X_train1, new_X_train2])\n",
        "new_y_train = np.concatenate([y_train, y_train, y_train])"
      ],
      "execution_count": null,
      "outputs": []
    },
    {
      "cell_type": "code",
      "metadata": {
        "id": "sv61NrUycuCM"
      },
      "source": [
        "model = KNNClassifier(k=4, strategy='brute', metric='cosine', weights=True, test_block_size=100)\n",
        "model.fit(new_X_train, new_y_train)\n",
        "pred1 = model.predict(X_test)"
      ],
      "execution_count": null,
      "outputs": []
    },
    {
      "cell_type": "code",
      "metadata": {
        "colab": {
          "base_uri": "https://localhost:8080/"
        },
        "id": "axnaBSuIdwBm",
        "outputId": "045d8671-ba87-49e7-f4a0-b36b7345ab3f"
      },
      "source": [
        "accuracy(y_test, pred1)"
      ],
      "execution_count": null,
      "outputs": [
        {
          "output_type": "execute_result",
          "data": {
            "text/plain": [
              "0.9825"
            ]
          },
          "metadata": {},
          "execution_count": 11
        }
      ]
    },
    {
      "cell_type": "code",
      "metadata": {
        "colab": {
          "base_uri": "https://localhost:8080/"
        },
        "id": "4e618p3_llXX",
        "outputId": "018d0f5d-dfee-422d-a06d-e11266e8d8fe"
      },
      "source": [
        "import sklearn.metrics\n",
        "sklearn.metrics.confusion_matrix(y_test, pred) - sklearn.metrics.confusion_matrix(y_test, pred1)"
      ],
      "execution_count": null,
      "outputs": [
        {
          "output_type": "execute_result",
          "data": {
            "text/plain": [
              "array([[ -1,   1,   0,   0,   0,   0,   1,  -1,   0,   0],\n",
              "       [  0,  -1,   0,   1,   0,   0,   0,   0,   0,   0],\n",
              "       [  3,  -1,  -1,  -1,   0,   0,  -1,  -3,   4,   0],\n",
              "       [  0,   1,   2, -12,   0,   3,   0,   0,   5,   1],\n",
              "       [  2,   1,   0,   0, -15,   0,   2,   0,   0,  10],\n",
              "       [  2,  -1,   0,   4,   0,  -9,   3,   0,   2,  -1],\n",
              "       [  0,   0,   0,   0,   0,   0,   0,   0,   0,   0],\n",
              "       [  2,   1,  -1,   0,  -2,  -1,   0,  -4,   0,   5],\n",
              "       [  4,   1,   0,   7,   1,  -2,   3,   0, -15,   1],\n",
              "       [  6,   3,   2,   3,   1,   1,   0,  -2,   1, -15]])"
            ]
          },
          "metadata": {},
          "execution_count": 14
        }
      ]
    },
    {
      "cell_type": "markdown",
      "metadata": {
        "id": "jfsUlK1fhIxf"
      },
      "source": [
        "Эксперимент №6"
      ]
    },
    {
      "cell_type": "code",
      "metadata": {
        "colab": {
          "base_uri": "https://localhost:8080/"
        },
        "id": "41neaQTqhK9u",
        "outputId": "b75c32f3-1bdb-41d0-b53d-63adbea6e8bb"
      },
      "source": [
        "from scipy.stats import mode\n",
        "angles = [5,10,15]\n",
        "for a in angles:\n",
        "    rot_X_test1 = np.zeros(X_test.shape)\n",
        "    rot_X_test2 = np.zeros(X_test.shape)\n",
        "    for i in range(X_test.shape[0]):\n",
        "        rot_X_test1[i] = ndimage.rotate(X_test[i].reshape((28, 28)), a, reshape = False, prefilter = False).reshape(1,-1)\n",
        "        rot_X_test2[i] = ndimage.rotate(X_test[i].reshape((28, 28)), -a, reshape = False, prefilter = False).reshape(1,-1)\n",
        "    mod_rot = KNNClassifier(k=4, strategy='brute', metric='cosine', weights=True, test_block_size=100)\n",
        "    mod_rot.fit(X_train, y_train)\n",
        "    rot_X_test = np.concatenate([X_test, rot_X_test1, rot_X_test2])\n",
        "    big_pred = mod_rot.predict(rot_X_test)\n",
        "    pred = np.zeros(X_test.shape[0])\n",
        "    for i in range(X_test.shape[0]):\n",
        "        first = big_pred[i]\n",
        "        second = big_pred[X_test.shape[0] + i]\n",
        "        third = big_pred[2*X_test.shape[0] + i]\n",
        "        if first == second or first == third:\n",
        "            pred[i] = first\n",
        "        elif second == third:\n",
        "            pred[i] = second\n",
        "        else:\n",
        "            pred[i] = third\n",
        "    ac = accuracy(pred, y_test)\n",
        "    print(\"angle=\", a, \"accuracy=\", ac)\n",
        "    print(sklearn.metrics.confusion_matrix(y_test, pred))"
      ],
      "execution_count": null,
      "outputs": [
        {
          "output_type": "stream",
          "name": "stdout",
          "text": [
            "angle= 5 accuracy= 0.9749\n",
            "[[ 977    1    0    0    0    0    1    1    0    0]\n",
            " [   0 1129    3    1    0    0    2    0    0    0]\n",
            " [   8    0 1009    1    1    0    0    9    4    0]\n",
            " [   0    0    2  982    1    7    0    5    9    4]\n",
            " [   2    3    0    0  942    0    6    2    0   27]\n",
            " [   5    1    0    8    1  862    7    1    4    3]\n",
            " [   5    2    0    0    1    1  948    0    1    0]\n",
            " [   4   10    8    0    0    0    0  995    0   11]\n",
            " [   7    2    2    9    3    2    6    3  937    3]\n",
            " [   7    6    2    6    8    4    1    4    3  968]]\n",
            "angle= 10 accuracy= 0.976\n",
            "[[ 978    1    0    0    0    0    0    1    0    0]\n",
            " [   0 1128    3    2    0    0    2    0    0    0]\n",
            " [  10    0 1007    1    1    0    0   10    3    0]\n",
            " [   1    0    3  984    1    6    0    4    7    4]\n",
            " [   2    3    0    0  941    0    6    2    0   28]\n",
            " [   5    1    0    7    1  865    7    1    2    3]\n",
            " [   5    3    0    0    1    0  948    0    1    0]\n",
            " [   3    6    8    0    1    0    0  998    0   12]\n",
            " [   6    1    3    5    3    4    4    3  942    3]\n",
            " [   8    7    2    4    7    2    1    4    5  969]]\n",
            "angle= 15 accuracy= 0.9729\n",
            "[[ 975    1    0    0    0    1    2    1    0    0]\n",
            " [   0 1129    2    2    0    0    1    0    0    1]\n",
            " [  10    0 1007    1    1    0    0   10    3    0]\n",
            " [   0    1    1  977    1    8    0    5   12    5]\n",
            " [   3    4    0    0  931    0    7    3    0   34]\n",
            " [   4    1    0   11    0  864    4    2    3    3]\n",
            " [   6    3    0    0    1    0  947    0    1    0]\n",
            " [   5    9    6    0    2    0    0  990    1   15]\n",
            " [   8    1    2    6    3    3    4    2  941    4]\n",
            " [  11    6    2    2    7    1    1    6    5  968]]\n"
          ]
        }
      ]
    },
    {
      "cell_type": "code",
      "metadata": {
        "id": "ySe2a79Nl5Eu",
        "colab": {
          "base_uri": "https://localhost:8080/"
        },
        "outputId": "1743619f-c023-4935-d92e-c03b85af7ec9"
      },
      "source": [
        "for s in shifts:\n",
        "    sh_X_test1 = np.zeros(X_test.shape)\n",
        "    sh_X_test2 = np.zeros(X_test.shape)\n",
        "    for i in range(X_test.shape[0]):\n",
        "        sh_X_test1[i] = ndimage.shift(X_test[i].reshape((28, 28)), s).reshape(1,-1)\n",
        "        minus_s = [-s[0], -s[1]]\n",
        "        sh_X_test2[i] = ndimage.shift(X_test[i].reshape((28, 28)), minus_s).reshape(1,-1)\n",
        "    mod_sh = KNNClassifier(k=4, strategy='brute', metric='cosine', weights=True, test_block_size=100)\n",
        "    mod_sh.fit(X_train, y_train)\n",
        "    sh_X_test = np.concatenate([X_test, sh_X_test1, sh_X_test2])\n",
        "    big_pred = mod_sh.predict(sh_X_test)\n",
        "    pred = np.zeros(X_test.shape[0])\n",
        "    for i in range(X_test.shape[0]):\n",
        "        first = big_pred[i]\n",
        "        second = big_pred[X_test.shape[0] + i]\n",
        "        third = big_pred[2*X_test.shape[0] + i]\n",
        "        if first == second or first == third:\n",
        "            pred[i] = first\n",
        "        elif second == third:\n",
        "            pred[i] = second\n",
        "        else:\n",
        "            pred[i] = third\n",
        "    ac = accuracy(pred, y_test)\n",
        "    print(\"shift=\", s, \"accuracy=\", ac)\n",
        "    print(sklearn.metrics.confusion_matrix(y_test, pred))"
      ],
      "execution_count": null,
      "outputs": [
        {
          "output_type": "stream",
          "name": "stdout",
          "text": [
            "shift= [0, 1] accuracy= 0.9756\n",
            "[[ 976    1    0    0    0    1    1    1    0    0]\n",
            " [   0 1129    3    1    0    0    2    0    0    0]\n",
            " [   8    1 1007    1    0    0    0    9    6    0]\n",
            " [   0    1    1  982    0    9    0    6    7    4]\n",
            " [   2    5    0    0  951    0    5    3    0   16]\n",
            " [   3    0    0   11    1  864    6    1    4    2]\n",
            " [   5    3    0    1    1    1  947    0    0    0]\n",
            " [   2   13    4    0    0    0    0  998    0   11]\n",
            " [   5    1    1   12    3    2    5    4  938    3]\n",
            " [   4    6    4   10    8    2    1    5    5  964]]\n",
            "shift= [0, 2] accuracy= 0.9479\n",
            "[[ 960    0   10    1    0    1    3    1    0    4]\n",
            " [  12 1040    7    0    1    1   53    0   21    0]\n",
            " [   8    1 1005    6    0    0    0    8    4    0]\n",
            " [   0    3    7  964    1   16    0    8    7    4]\n",
            " [   0   12    2    0  942    0   10    2    4   10]\n",
            " [   5    0    0   23    1  842    4    2    6    9]\n",
            " [  11    3    0    1    1    9  930    0    3    0]\n",
            " [   1   17    7    0    2    0    1  993    0    7]\n",
            " [   2    3   11   23    4    6    5    7  910    3]\n",
            " [   4   17    6   15   14    1    1   47   11  893]]\n",
            "shift= [0, 3] accuracy= 0.7589\n",
            "[[650   3 187  64   0   7  11  34   1  23]\n",
            " [618 156  65   0   8   4 235   0  49   0]\n",
            " [  3   0 999  11   2   0   1   9   7   0]\n",
            " [  1   3  20 894   4  69   2   9   5   3]\n",
            " [  1  62   4   0 869   0   9  12  11  14]\n",
            " [ 10   0  11  67   7 731   2   2  33  29]\n",
            " [ 28   0  11   3   1  10 901   1   3   0]\n",
            " [  1  18  43   1   4   0   1 951   4   5]\n",
            " [  6   5  51  53   3  28   9  12 804   3]\n",
            " [  6  69  20  15  13   1   3 213  35 634]]\n",
            "shift= [1, 0] accuracy= 0.9754\n",
            "[[ 977    1    0    0    0    0    1    1    0    0]\n",
            " [   0 1129    2    1    0    0    2    1    0    0]\n",
            " [   8    1 1013    1    1    0    0    8    0    0]\n",
            " [   1    0    2  983    1    7    1    4    8    3]\n",
            " [   2    1    0    0  947    0    6    1    1   24]\n",
            " [   4    0    0    8    1  861    9    1    4    4]\n",
            " [   4    3    0    0    1    3  947    0    0    0]\n",
            " [   3    9    6    0    2    0    0  996    1   11]\n",
            " [   8    3    2    8    3    2    7    4  933    4]\n",
            " [   7    6    4    4    7    3    1    4    5  968]]\n",
            "shift= [2, 0] accuracy= 0.9647\n",
            "[[ 975    1    0    0    0    0    2    1    0    1]\n",
            " [   0 1128    3    0    0    0    3    0    0    1]\n",
            " [  13    0 1005    1    1    0    3    9    0    0]\n",
            " [   3    0    7  985    0    6    1    5    2    1]\n",
            " [   1    6    0    0  939    0    6    4    4   22]\n",
            " [  10    1    7    7    3  842   15    1    1    5]\n",
            " [   7    3    0    0    4    1  943    0    0    0]\n",
            " [   1   11    6    0    8    0    0  991    0   11]\n",
            " [  10    3    4   17    3    4   13    4  914    2]\n",
            " [   5    8    7    5   39    2    3    5   10  925]]\n"
          ]
        }
      ]
    },
    {
      "cell_type": "code",
      "metadata": {
        "colab": {
          "base_uri": "https://localhost:8080/"
        },
        "id": "EBPGoV7_F-tJ",
        "outputId": "6f55ca19-0df1-4935-fc59-306ae970e891"
      },
      "source": [
        "import scipy.ndimage as ndimage\n",
        "sh_X_test1 = np.zeros(X_test.shape)\n",
        "sh_X_test2 = np.zeros(X_test.shape)\n",
        "for i in range(X_test.shape[0]):\n",
        "    sh_X_test1[i] = ndimage.shift(X_test[i].reshape((28, 28)), [3,0]).reshape(1,-1)\n",
        "    minus_s = [-3, -0]\n",
        "    sh_X_test2[i] = ndimage.shift(X_test[i].reshape((28, 28)), minus_s).reshape(1,-1)\n",
        "mod_sh = KNNClassifier(k=4, strategy='brute', metric='cosine', weights=True, test_block_size=100)\n",
        "mod_sh.fit(X_train, y_train)\n",
        "sh_X_test = np.concatenate([X_test, sh_X_test1, sh_X_test2])\n",
        "big_pred = mod_sh.predict(sh_X_test)\n",
        "pred = np.zeros(X_test.shape[0])\n",
        "for i in range(X_test.shape[0]):\n",
        "    first = big_pred[i]\n",
        "    second = big_pred[X_test.shape[0] + i]\n",
        "    third = big_pred[2*X_test.shape[0] + i]\n",
        "    if first == second or first == third:\n",
        "        pred[i] = first\n",
        "    elif second == third:\n",
        "        pred[i] = second\n",
        "    else:\n",
        "        pred[i] = third\n",
        "ac = accuracy(pred, y_test)\n",
        "print(\"shift=\", [3,0], \"accuracy=\", ac)\n",
        "print(sklearn.metrics.confusion_matrix(y_test, pred))"
      ],
      "execution_count": null,
      "outputs": [
        {
          "output_type": "stream",
          "name": "stdout",
          "text": [
            "shift= [3, 0] accuracy= 0.8148\n",
            "[[ 897    0    7    0   16    0   28    1    1   30]\n",
            " [   0 1045    4    0    0    0   86    0    0    0]\n",
            " [  14    8  871   13   33    0   79    9    3    2]\n",
            " [  36    5   35  867    2   23   32    5    3    2]\n",
            " [   1   11    0    0  897    0    4   18   26   25]\n",
            " [  26    1   52   28   21  639   52    8   42   23]\n",
            " [  17    2    2    0   57    1  872    0    2    5]\n",
            " [   0   35   38   14   11    0    2  912    2   14]\n",
            " [  40   25   45   26    6   17  209   10  594    2]\n",
            " [   8   34   30   13  251    2    3   51   63  554]]\n"
          ]
        }
      ]
    },
    {
      "cell_type": "code",
      "metadata": {
        "id": "gzX58hbO3it-",
        "colab": {
          "base_uri": "https://localhost:8080/"
        },
        "outputId": "1f56cac3-abcd-497e-944d-bf9ca91ff86d"
      },
      "source": [
        "import random\n",
        "disp = [0.5, 1, 1.5]\n",
        "\n",
        "for d in disp:\n",
        "    disp_X_test1 = np.zeros(X_test.shape)\n",
        "    for i in range(X_test.shape[0]):\n",
        "        disp_X_test1[i] = ndimage.filters.gaussian_filter(X_test[i].reshape((28, 28)), d).reshape(1,-1)\n",
        "    mod_disp = KNNClassifier(k=4, strategy='brute', metric='cosine', weights=True, test_block_size=100)\n",
        "    mod_disp.fit(X_train, y_train)\n",
        "    disp_X_test = np.concatenate([X_test, disp_X_test1])\n",
        "    big_pred = mod_disp.predict(disp_X_test)\n",
        "    pred = np.zeros(X_test.shape[0])\n",
        "    for i in range(X_test.shape[0]):\n",
        "        pred[i] = random.choice([big_pred[i], big_pred[X_test.shape[0] + i]])\n",
        "    ac = accuracy(pred, y_test)\n",
        "    print(\"disp=\", d, \"accuracy=\", ac)\n",
        "    print(sklearn.metrics.confusion_matrix(y_test, pred))"
      ],
      "execution_count": null,
      "outputs": [
        {
          "output_type": "stream",
          "name": "stdout",
          "text": [
            "disp= 0.5 accuracy= 0.9752\n",
            "[[ 977    1    0    0    0    0    1    1    0    0]\n",
            " [   0 1129    3    1    0    0    2    0    0    0]\n",
            " [   8    0 1010    0    1    0    0    8    5    0]\n",
            " [   0    1    2  979    1   10    0    4    9    4]\n",
            " [   2    1    0    0  945    0    6    2    0   26]\n",
            " [   4    0    0   10    1  859    8    1    5    4]\n",
            " [   3    2    0    0    1    3  949    0    0    0]\n",
            " [   3   10    6    0    1    0    0  995    0   13]\n",
            " [   7    1    2    7    3    2    5    4  939    4]\n",
            " [   8    7    2    4    7    3    1    4    3  970]]\n",
            "disp= 1 accuracy= 0.9691\n",
            "[[ 976    1    0    0    0    0    2    1    0    0]\n",
            " [   0 1130    2    1    0    0    2    0    0    0]\n",
            " [  10    0 1002    1    1    0    2    9    7    0]\n",
            " [   3    3    3  968    0   11    0    5   12    5]\n",
            " [   2    1    2    0  926    0    8    3    2   38]\n",
            " [  11    1    0   10    1  850    6    1    8    4]\n",
            " [   5    2    0    0    1    1  949    0    0    0]\n",
            " [   2   15    4    0    2    0    0  987    1   17]\n",
            " [   8    4    2    5    2    4    4    4  938    3]\n",
            " [   6   10    2    4    5    3    1    6    7  965]]\n",
            "disp= 1.5 accuracy= 0.9464\n",
            "[[ 977    0    0    0    0    0    0    1    2    0]\n",
            " [   0 1128    2    2    0    0    3    0    0    0]\n",
            " [  15    1  984    4    1    0    3   11   13    0]\n",
            " [   4    8    4  933    0    8    0    5   41    7]\n",
            " [  11    4    0    0  861    0   15    0    4   87]\n",
            " [  16    2    0   28    1  794   12    2   32    5]\n",
            " [   7    4    0    0    0    0  944    0    3    0]\n",
            " [   3   14    7    0    1    0    0  956    5   42]\n",
            " [   9    9    2    7    3    5    5    4  926    4]\n",
            " [  12    9    1    2    5    3    3    7    6  961]]\n"
          ]
        }
      ]
    }
  ]
}